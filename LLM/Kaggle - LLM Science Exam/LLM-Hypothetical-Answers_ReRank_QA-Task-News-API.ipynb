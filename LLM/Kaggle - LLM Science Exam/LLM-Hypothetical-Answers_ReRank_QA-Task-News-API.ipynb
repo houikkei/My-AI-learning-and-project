{
 "cells": [
  {
   "cell_type": "markdown",
   "id": "b50f5c7e-a8b6-49d2-845f-2f2a8104d90f",
   "metadata": {},
   "source": [
    "1.Install Lib"
   ]
  },
  {
   "cell_type": "code",
   "execution_count": 1,
   "id": "f5fb76ec-cdbe-4549-bbb9-7514bf545772",
   "metadata": {},
   "outputs": [
    {
     "name": "stdout",
     "output_type": "stream",
     "text": [
      "Requirement already satisfied: openai in /opt/anaconda3/lib/python3.11/site-packages (1.23.3)\n",
      "Requirement already satisfied: anyio<5,>=3.5.0 in /opt/anaconda3/lib/python3.11/site-packages (from openai) (4.2.0)\n",
      "Requirement already satisfied: distro<2,>=1.7.0 in /opt/anaconda3/lib/python3.11/site-packages (from openai) (1.8.0)\n",
      "Requirement already satisfied: httpx<1,>=0.23.0 in /opt/anaconda3/lib/python3.11/site-packages (from openai) (0.27.0)\n",
      "Requirement already satisfied: pydantic<3,>=1.9.0 in /opt/anaconda3/lib/python3.11/site-packages (from openai) (1.10.12)\n",
      "Requirement already satisfied: sniffio in /opt/anaconda3/lib/python3.11/site-packages (from openai) (1.3.0)\n",
      "Requirement already satisfied: tqdm>4 in /opt/anaconda3/lib/python3.11/site-packages (from openai) (4.65.0)\n",
      "Requirement already satisfied: typing-extensions<5,>=4.7 in /opt/anaconda3/lib/python3.11/site-packages (from openai) (4.9.0)\n",
      "Requirement already satisfied: idna>=2.8 in /opt/anaconda3/lib/python3.11/site-packages (from anyio<5,>=3.5.0->openai) (3.4)\n",
      "Requirement already satisfied: certifi in /opt/anaconda3/lib/python3.11/site-packages (from httpx<1,>=0.23.0->openai) (2024.2.2)\n",
      "Requirement already satisfied: httpcore==1.* in /opt/anaconda3/lib/python3.11/site-packages (from httpx<1,>=0.23.0->openai) (1.0.5)\n",
      "Requirement already satisfied: h11<0.15,>=0.13 in /opt/anaconda3/lib/python3.11/site-packages (from httpcore==1.*->httpx<1,>=0.23.0->openai) (0.14.0)\n",
      "Note: you may need to restart the kernel to use updated packages.\n"
     ]
    }
   ],
   "source": [
    "pip install openai"
   ]
  },
  {
   "cell_type": "code",
   "execution_count": 2,
   "id": "4ad834ca-f7f0-4f55-b1e9-203594c8e9aa",
   "metadata": {},
   "outputs": [
    {
     "name": "stdout",
     "output_type": "stream",
     "text": [
      "ChatCompletion(id='chatcmpl-wIEkg0oXq1lCn4OBAF2iQyUL1hp1N', choices=[Choice(finish_reason='stop', index=0, logprobs=None, message=ChatCompletionMessage(content=\"To provide valid JSON output, I need an input to work with. Could you please provide the input you'd like to convert into valid JSON?\", role='assistant', function_call=None, tool_calls=None))], created=1713975209, model='gpt-3.5-turbo-0613', object='chat.completion', system_fingerprint=None, usage=CompletionUsage(completion_tokens=29, prompt_tokens=9, total_tokens=38))\n"
     ]
    }
   ],
   "source": [
    "from openai import OpenAI\n",
    "import httpx\n",
    "\n",
    "client = OpenAI(\n",
    "    base_url=\"\", \n",
    "    api_key=\"\",\n",
    "    http_client=httpx.Client(\n",
    "        base_url=\"\",\n",
    "        follow_redirects=True,\n",
    "    ),\n",
    ")\n",
    "completion = client.chat.completions.create(\n",
    "  model=\"gpt-3.5-turbo\",\n",
    "  messages=[\n",
    "    {\"role\": \"system\", \"content\": \"Output only vaild JSON\"},\n",
    "    {\"role\": \"user\", \"content\": \"Input\"}\n",
    "  ]\n",
    ")\n",
    "\n",
    "print(completion)"
   ]
  },
  {
   "cell_type": "code",
   "execution_count": 3,
   "id": "97a8d35a-0c38-4d5e-984e-148390b4205b",
   "metadata": {
    "scrolled": true
   },
   "outputs": [
    {
     "name": "stdout",
     "output_type": "stream",
     "text": [
      "Requirement already satisfied: openai in /opt/anaconda3/lib/python3.11/site-packages (1.23.3)\n",
      "Requirement already satisfied: anyio<5,>=3.5.0 in /opt/anaconda3/lib/python3.11/site-packages (from openai) (4.2.0)\n",
      "Requirement already satisfied: distro<2,>=1.7.0 in /opt/anaconda3/lib/python3.11/site-packages (from openai) (1.8.0)\n",
      "Requirement already satisfied: httpx<1,>=0.23.0 in /opt/anaconda3/lib/python3.11/site-packages (from openai) (0.27.0)\n",
      "Requirement already satisfied: pydantic<3,>=1.9.0 in /opt/anaconda3/lib/python3.11/site-packages (from openai) (1.10.12)\n",
      "Requirement already satisfied: sniffio in /opt/anaconda3/lib/python3.11/site-packages (from openai) (1.3.0)\n",
      "Requirement already satisfied: tqdm>4 in /opt/anaconda3/lib/python3.11/site-packages (from openai) (4.65.0)\n",
      "Requirement already satisfied: typing-extensions<5,>=4.7 in /opt/anaconda3/lib/python3.11/site-packages (from openai) (4.9.0)\n",
      "Requirement already satisfied: idna>=2.8 in /opt/anaconda3/lib/python3.11/site-packages (from anyio<5,>=3.5.0->openai) (3.4)\n",
      "Requirement already satisfied: certifi in /opt/anaconda3/lib/python3.11/site-packages (from httpx<1,>=0.23.0->openai) (2024.2.2)\n",
      "Requirement already satisfied: httpcore==1.* in /opt/anaconda3/lib/python3.11/site-packages (from httpx<1,>=0.23.0->openai) (1.0.5)\n",
      "Requirement already satisfied: h11<0.15,>=0.13 in /opt/anaconda3/lib/python3.11/site-packages (from httpcore==1.*->httpx<1,>=0.23.0->openai) (0.14.0)\n",
      "{'status': 'ok', 'totalResults': 36, 'articles': [{'source': {'id': None, 'name': 'Thenationalnews.com'}, 'author': 'Nicky Harley', 'title': \"Patients 'less likely to die' if treated by a female doctor, study reveals - The National\", 'description': 'Researchers find lower mortality and hospital readmission rates in those treated by female physicians', 'url': 'https://www.thenationalnews.com/health/2024/04/23/patients-less-likely-to-die-if-treated-by-a-female-doctor-study-reveals/', 'urlToImage': 'https://thenational-the-national-prod.cdn.arcpublishing.com/resizer/v2/IV7OQQPEVM33VTX4GBQ7EZ4NOQ.jpg?smart=true&auth=e30a7c24f4f543db5221258768f4081a1176fc6b36c06fcc0962faf496726899&width=1200&height=630', 'publishedAt': '2024-04-23T14:17:48Z', 'content': 'Patients treated by female physicians have a reduced risk of dying, with female patients benefiting more than their male counterparts, new research has found.\\r\\nThe mortality rate for female patients … [+5070 chars]'}, {'source': {'id': 'reuters', 'name': 'Reuters'}, 'author': 'Reuters', 'title': \"PepsiCo's results beat as international demand, higher prices drive growth - Reuters\", 'description': None, 'url': 'https://www.reuters.com/business/retail-consumer/pepsico-beats-quarterly-revenue-estimates-price-hikes-steady-demand-2024-04-23/', 'urlToImage': None, 'publishedAt': '2024-04-23T13:49:00Z', 'content': None}, {'source': {'id': None, 'name': 'CNBC'}, 'author': 'Sarah Min', 'title': 'Stocks rise for a second day as earnings season ramps up, Dow up more than 100 points: Live updates - CNBC', 'description': 'U.S. stocks rose on Tuesday as the corporate earnings season picked up steam, and investors looked to build on the strong gains from the previous session.', 'url': 'https://www.cnbc.com/2024/04/22/stock-market-today-live-updates.html', 'urlToImage': 'https://image.cnbcfm.com/api/v1/image/107369706-1707240585351-gettyimages-1988475057-ms2_5755_xzzgmlaz.jpeg?v=1713820846&w=1920&h=1080', 'publishedAt': '2024-04-23T13:48:00Z', 'content': 'U.S. stocks rose on Tuesday as the corporate earnings season picked up steam, and investors looked to build on the strong gains from the previous session.\\r\\nThe Dow Jones Industrial Average climbed 25… [+1329 chars]'}, {'source': {'id': None, 'name': 'Yahoo Entertainment'}, 'author': 'Pras Subramanian', 'title': \"GM earnings top forecasts, company raises outlook and sees 'variable profit' in EV unit by year-end - Yahoo Finance\", 'description': 'GM results beat expectations as the automaker cited a \"resilient\" consumer driving sales and profits higher.', 'url': 'https://finance.yahoo.com/news/gm-earnings-top-forecasts-company-raises-outlook-and-sees-variable-profit-in-ev-unit-by-year-end-104007819.html', 'urlToImage': 'https://s.yimg.com/ny/api/res/1.2/2mVCH3vm368NlP7Df8DOqA--/YXBwaWQ9aGlnaGxhbmRlcjt3PTEyMDA7aD04MDA-/https://s.yimg.com/os/creatr-uploaded-images/2024-01/80198e50-bec4-11ee-8df8-ff4312e52524', 'publishedAt': '2024-04-23T13:31:14Z', 'content': 'General Motors (GM) kept the earnings momentum going with strong first quarter results on Tuesday, as the automaker upped its full-year guidance and said it still sees \"positive variable profit\" in i… [+4692 chars]'}, {'source': {'id': None, 'name': 'CBS Sports'}, 'author': None, 'title': 'How Knicks scored eight points in final 27 seconds as 76ers imploded in Game 2 at Madison Square Garden - CBS Sports', 'description': None, 'url': 'https://www.cbssports.com/nba/news/how-knicks-scored-eight-points-in-final-27-seconds-as-76ers-imploded-in-game-2-at-madison-square-garden/', 'urlToImage': None, 'publishedAt': '2024-04-23T13:22:00Z', 'content': None}, {'source': {'id': None, 'name': 'Videocardz.com'}, 'author': 'VideoCardz.com', 'title': 'Qualcomm Snapdragon X Plus specifications and performance leak out - VideoCardz.com', 'description': None, 'url': 'https://videocardz.com/newz/qualcomm-snapdragon-x-plus-specifications-and-performance-leak-out', 'urlToImage': None, 'publishedAt': '2024-04-23T13:20:00Z', 'content': None}, {'source': {'id': 'the-verge', 'name': 'The Verge'}, 'author': 'Chris Welch', 'title': 'Sonos announces redesigned app that puts everything on your homescreen - The Verge', 'description': 'Sonos will release a major update to its mobile app on May 7th. The company will also phase out its desktop apps in favor of a web app that allows for remote system control.', 'url': 'https://www.theverge.com/2024/4/23/24137502/sonos-new-app-announced', 'urlToImage': 'https://cdn.vox-cdn.com/thumbor/_08Kb4hVFtRSiDuT5dflEWCxoD4=/0x0:5464x4700/1200x628/filters:focal(2732x2350:2733x2351)/cdn.vox-cdn.com/uploads/chorus_asset/file/25413635/Sonos_App_Redesign___Roam.jpg', 'publishedAt': '2024-04-23T13:00:00Z', 'content': 'Sonos announces redesigned app that puts everything on your homescreen\\r\\nSonos announces redesigned app that puts everything on your homescreen\\r\\n / The companys desktop apps are being phased out in fa… [+3110 chars]'}, {'source': {'id': None, 'name': 'Sports Illustrated'}, 'author': 'Conor Orr', 'title': '2024 NFL Mock Draft: Conor Orr Predicts the First Round - Sports Illustrated', 'description': 'Four trades in the top 10 picks, six quarterbacks selected, and 10 offensive linemen taken based on the information we do know as we count down to showtime in Detroit.', 'url': 'https://www.si.com/nfl/2024/04/23/2024-nfl-mock-draft-first-round-six-quarterbacks-10-offensive-linemen', 'urlToImage': 'https://images2.minutemediacdn.com/image/upload/c_crop,w_4061,h_2284,x_0,y_105/images/ImagnImages/mmsport/si-temp/01hw3kg9cah2vv84804e', 'publishedAt': '2024-04-23T12:53:20Z', 'content': 'I was talking to someone recently who was bemoaning the state of NFL draft media and, really, the entirety of this process. Not on the media side of the operation, this longtime eater, sleeper and br… [+21724 chars]'}, {'source': {'id': None, 'name': 'Yahoo Entertainment'}, 'author': 'Reuters', 'title': 'UPS profit tops expectations as cost-cuts deliver margin - Yahoo Finance', 'description': \"The world's biggest parcel delivery firm also is grappling with higher labor costs tied to its new Teamsters contract.  UPS reported a 3.2% decline in...\", 'url': 'https://finance.yahoo.com/news/ups-profit-falls-high-labor-100741359.html', 'urlToImage': 'https://media.zenfs.com/en/reuters-finance.com/477c9dd9a4cf1cbbfb044af14d9bb390', 'publishedAt': '2024-04-23T12:48:36Z', 'content': \"(Reuters) - United Parcel Service reported better-than-expected quarterly profit on Tuesday as cost cuts offset still-soft demand for package delivery.\\r\\nThe world's biggest parcel delivery firm also … [+1691 chars]\"}, {'source': {'id': 'abc-news', 'name': 'ABC News'}, 'author': 'Armando Garcia', 'title': 'Judge declares mistrial in case of Arizona rancher accused of killing unarmed migrant - ABC News', 'description': 'Jurors had been deliberating since Thursday afternoon.', 'url': 'https://abcnews.go.com/US/judge-declares-mistrial-case-arizona-rancher-accused-killing/story?id=109404102', 'urlToImage': 'https://i.abcnewsfe.com/a/712c3303-725c-40f9-a40a-def389a11702/george-allen-kelly-usa-jt-240418_1713481014020_hpMain_16x9.jpg?w=1600', 'publishedAt': '2024-04-23T12:41:12Z', 'content': 'A judge has declared a mistrial in the criminal case against 75-year-old Arizona rancher George Alan Kelly, accused of fatally shooting a migrant on his property near the U.S.-Mexico border, the cour… [+4064 chars]'}, {'source': {'id': 'associated-press', 'name': 'Associated Press'}, 'author': 'DEE-ANN DURBIN', 'title': 'Starbucks vs federal labor agency: U.S. Supreme Court is set to hear oral arguments - The Associated Press', 'description': \"The U.S. Supreme Court is set to hear oral arguments in a case filed by Starbucks against the National Labor Relations Board. The case stems from Starbucks' firing of seven workers who were trying to unionize their store in Memphis, Tennessee. The labor board…\", 'url': 'https://apnews.com/article/supreme-court-starbucks-union-fired-workers-tennessee-e373f840987234c84019cd9643ddf2f3', 'urlToImage': 'https://dims.apnews.com/dims4/default/654697e/2147483647/strip/true/crop/5184x2916+0+270/resize/1440x810!/quality/90/?url=https%3A%2F%2Fassets.apnews.com%2F37%2F25%2F1b42e0d4560ad007729ec3f281e7%2F74fb5e337c05438ea0a05fb096be4bfc', 'publishedAt': '2024-04-23T12:35:00Z', 'content': 'After Starbucks fired seven workers who were trying to unionize their Tennessee store, a U.S. government agency obtained a court order forcing the company to rehire them. Now, Starbucks wants the Sup… [+4262 chars]'}, {'source': {'id': None, 'name': 'UN News'}, 'author': None, 'title': \"Mass graves in Gaza show victims' hands were tied, says UN rights office - UN News\", 'description': 'Disturbing reports continue to emerge about mass graves in Gaza in which Palestinian victims were reportedly found stripped naked with their hands tied, prompting renewed concerns about possible war crimes amid ongoing Israeli airstrikes, the UN human rights …', 'url': 'https://news.un.org/en/story/2024/04/1148876', 'urlToImage': 'https://global.unitednations.entermediadb.net/assets/mediadb/services/module/asset/downloads/preset/Collections/Embargoed/17-04-2024_WHO_Gaza.jpg/image770x420cropped.jpg', 'publishedAt': '2024-04-23T12:20:58Z', 'content': 'The development follows the recovery of hundreds of bodies buried deep in the ground and covered with waste over the weekend at Nasser Hospital in Khan Younis, central Gaza, and at Al-Shifa Hospital … [+5127 chars]'}, {'source': {'id': None, 'name': 'BBC News'}, 'author': None, 'title': 'New Prince Louis birthday photo taken by Kate - BBC.com', 'description': 'A new photograph has been released to mark the sixth birthday of Prince Louis.', 'url': 'https://www.bbc.com/news/uk-68882299', 'urlToImage': 'https://ichef.bbci.co.uk/news/1024/branded_news/B839/production/_133216174_0163337a49b9e47225fc0690ccead03851bc7e8a.jpg', 'publishedAt': '2024-04-23T12:06:09Z', 'content': None}, {'source': {'id': None, 'name': '[Removed]'}, 'author': None, 'title': '[Removed]', 'description': '[Removed]', 'url': 'https://removed.com', 'urlToImage': None, 'publishedAt': '1970-01-01T00:00:00Z', 'content': '[Removed]'}, {'source': {'id': 'reuters', 'name': 'Reuters'}, 'author': 'Reuters', 'title': 'Judge to consider gag order violations in Trump hush money trial - Reuters', 'description': None, 'url': 'https://www.reuters.com/world/us/judge-consider-gag-order-violations-trump-hush-money-trial-2024-04-23/', 'urlToImage': None, 'publishedAt': '2024-04-23T11:18:00Z', 'content': None}, {'source': {'id': 'nbc-news', 'name': 'NBC News'}, 'author': 'Sahil Kapur, Frank Thorp V', 'title': 'Senate to hold key test vote on Ukraine aid, Israel funding and TikTok ban - NBC News', 'description': 'The Senate will vote to advance the $95 billion aid package that provides critical aid to Ukraine, Israel and Gaza and a provision to ban TikTok in the U.S.', 'url': 'https://www.nbcnews.com/politics/congress/senate-hold-key-test-vote-ukraine-aid-israel-funding-tiktok-ban-rcna148685', 'urlToImage': 'https://media-cldnry.s-nbcnews.com/image/upload/t_nbcnews-fp-1200-630,f_auto,q_auto:best/rockcms/2024-04/240420-ukraine-senate-ch-1626-b2354d.jpg', 'publishedAt': '2024-04-23T11:00:40Z', 'content': 'WASHINGTON The Senate is poised to vote Tuesday to advance the $95 billion aid package to provide critical aid to Ukraine and a provision that could lead to a nationwide ban on TikTok.\\r\\nThe package, … [+3395 chars]'}, {'source': {'id': None, 'name': '[Removed]'}, 'author': None, 'title': '[Removed]', 'description': '[Removed]', 'url': 'https://removed.com', 'urlToImage': None, 'publishedAt': '1970-01-01T00:00:00Z', 'content': '[Removed]'}, {'source': {'id': 'cnn', 'name': 'CNN'}, 'author': 'Luke McGee', 'title': 'UK passes controversial bill to send asylum seekers to Rwanda after two years of challenges - CNN', 'description': 'The UK parliament has finally passed a\\xa0contentious\\xa0bill that will allow the government to send asylum seekers\\xa0to\\xa0Rwanda\\xa0for their claims to be considered by the East African nation.', 'url': 'https://www.cnn.com/2024/04/22/uk/uk-passes-rwanda-bill-intl/index.html', 'urlToImage': 'https://media.cnn.com/api/v1/images/stellar/prod/gettyimages-1402944541.jpg?c=16x9&q=w_800,c_fill', 'publishedAt': '2024-04-23T10:52:30Z', 'content': 'The UK parliament has finally passed a\\xa0contentious\\xa0bill that will allow the government to send asylum seekers\\xa0to\\xa0Rwanda\\xa0for their claims to be considered by the East African nation.\\r\\nPrime Minister R… [+6479 chars]'}, {'source': {'id': 'cnn', 'name': 'CNN'}, 'author': 'Matias Grez', 'title': 'Jamal Murray hits buzzer-beater to cap 20-point Game 2 comeback for the Denver Nuggets against the Los Angeles Lakers - CNN', 'description': 'Jamal Murray hit a stunning 15-foot buzzer beater over Anthony Davis to cap a sensational 20-point comeback and give the Nuggets a 101-99 win over the Lakers.', 'url': 'https://www.cnn.com/2024/04/23/sport/jamal-murray-denver-nuggets-la-lakers-nba-playoffs-spt-intl/index.html', 'urlToImage': 'https://media.cnn.com/api/v1/images/stellar/prod/2024-04-23t045236z-115356229-mt1usatoday23092584-rtrmadp-3-nba-playoffs-los-angeles-lakers-at-denver-nuggets-2.jpg?c=16x9&q=w_800,c_fill', 'publishedAt': '2024-04-23T10:32:00Z', 'content': 'Jamal Murray hit a stunning 15-foot buzzer-beater over the outstretched arm of the 610 Anthony Davis to cap a sensational 20-point comeback and give the Denver Nuggets a 101-99 Game 2 win over the Lo… [+4221 chars]'}, {'source': {'id': None, 'name': 'Variety'}, 'author': 'Alex Ritman', 'title': 'How Dan Stevens Became Hollywood’s Go-To Guy for, Well, Anything - Variety', 'description': \"Dan Stevens talks battling himself at the box office with lead roles in both 'Abigail' and 'Godzilla x Kong.'\", 'url': 'https://variety.com/2024/film/global/dan-stevens-interview-abigail-godzilla-kong-cuckoo-1235978048/', 'urlToImage': 'https://variety.com/wp-content/uploads/2024/04/Dan-Stevens.jpg?w=1000&h=563&crop=1', 'publishedAt': '2024-04-23T10:12:00Z', 'content': 'It’s been less than 12 years since Dan Stevens raised a middle finger to the British aristocracy (OK, the Crawleys), quitting “Downton Abbey” as the show neared its Emmy-amassing zenith and setting s… [+10182 chars]'}]}\n"
     ]
    }
   ],
   "source": [
    "import requests\n",
    "url = 'https://newsapi.org/v2/top-headlines'\n",
    "parameters = {\n",
    "    'country': 'us',\n",
    "    'apiKey': ''\n",
    "}\n",
    "\n",
    "response = requests.get(url, params=parameters)\n",
    "\n",
    "print(response.json())"
   ]
  },
  {
   "cell_type": "code",
   "execution_count": 4,
   "id": "52eef4c0-8109-4031-8830-07da220489a8",
   "metadata": {},
   "outputs": [
    {
     "name": "stdout",
     "output_type": "stream",
     "text": [
      "Requirement already satisfied: ipython in /opt/anaconda3/lib/python3.11/site-packages (8.20.0)\n",
      "Requirement already satisfied: decorator in /opt/anaconda3/lib/python3.11/site-packages (from ipython) (5.1.1)\n",
      "Requirement already satisfied: jedi>=0.16 in /opt/anaconda3/lib/python3.11/site-packages (from ipython) (0.18.1)\n",
      "Requirement already satisfied: matplotlib-inline in /opt/anaconda3/lib/python3.11/site-packages (from ipython) (0.1.6)\n",
      "Requirement already satisfied: prompt-toolkit<3.1.0,>=3.0.41 in /opt/anaconda3/lib/python3.11/site-packages (from ipython) (3.0.43)\n",
      "Requirement already satisfied: pygments>=2.4.0 in /opt/anaconda3/lib/python3.11/site-packages (from ipython) (2.15.1)\n",
      "Requirement already satisfied: stack-data in /opt/anaconda3/lib/python3.11/site-packages (from ipython) (0.2.0)\n",
      "Requirement already satisfied: traitlets>=5 in /opt/anaconda3/lib/python3.11/site-packages (from ipython) (5.7.1)\n",
      "Requirement already satisfied: pexpect>4.3 in /opt/anaconda3/lib/python3.11/site-packages (from ipython) (4.8.0)\n",
      "Requirement already satisfied: parso<0.9.0,>=0.8.0 in /opt/anaconda3/lib/python3.11/site-packages (from jedi>=0.16->ipython) (0.8.3)\n",
      "Requirement already satisfied: ptyprocess>=0.5 in /opt/anaconda3/lib/python3.11/site-packages (from pexpect>4.3->ipython) (0.7.0)\n",
      "Requirement already satisfied: wcwidth in /opt/anaconda3/lib/python3.11/site-packages (from prompt-toolkit<3.1.0,>=3.0.41->ipython) (0.2.5)\n",
      "Requirement already satisfied: executing in /opt/anaconda3/lib/python3.11/site-packages (from stack-data->ipython) (0.8.3)\n",
      "Requirement already satisfied: asttokens in /opt/anaconda3/lib/python3.11/site-packages (from stack-data->ipython) (2.0.5)\n",
      "Requirement already satisfied: pure-eval in /opt/anaconda3/lib/python3.11/site-packages (from stack-data->ipython) (0.2.2)\n",
      "Requirement already satisfied: six in /opt/anaconda3/lib/python3.11/site-packages (from asttokens->stack-data->ipython) (1.16.0)\n"
     ]
    }
   ],
   "source": [
    "!pip install ipython"
   ]
  },
  {
   "cell_type": "code",
   "execution_count": 5,
   "id": "ea842b9b-2e73-4bd8-af8b-806696dcaf77",
   "metadata": {},
   "outputs": [],
   "source": [
    "import time\n",
    "from datetime import date,timedelta\n",
    "import json\n",
    "import pandas as pd\n",
    "pd.set_option('display.max_colwidth',None)\n",
    "from IPython.display import display\n",
    "\n",
    "import os\n",
    "import requests\n",
    "\n",
    "from scipy import spatial\n"
   ]
  },
  {
   "cell_type": "markdown",
   "id": "9d089690-25b7-430e-b47c-ad893a1e7787",
   "metadata": {},
   "source": [
    "2. build prompt of queries using GPT-3.5"
   ]
  },
  {
   "cell_type": "code",
   "execution_count": 6,
   "id": "275d1b46-9a28-43a3-b651-246dd5914f32",
   "metadata": {},
   "outputs": [],
   "source": [
    "def get_completion_gpt(input, gpt_model=\"gpt-3.5-turbo-1106\"):\n",
    "\n",
    "    # Make the API request\n",
    "    completion = client.chat.completions.create(\n",
    "    model= gpt_model,\n",
    "    messages=[\n",
    "    {\"role\": \"system\", \"content\": \"Output only vaild JSON\"},\n",
    "    {\"role\": \"user\", \"content\": input},\n",
    "    ],\n",
    "    response_format={\"type\":\"json_object\"}\n",
    "    )\n",
    "\n",
    "    text = completion.choices[0].message.content\n",
    "    parsed = json.loads(text)\n",
    "\n",
    "    return parsed"
   ]
  },
  {
   "cell_type": "code",
   "execution_count": 7,
   "id": "f4c384db-ca2f-47ab-8782-3a1746d438f5",
   "metadata": {},
   "outputs": [],
   "source": [
    "user_query = \"What are the events that impacted the bitcoin price lately?.\"\n",
    "\n",
    "input = f\"\"\" \n",
    "You have access to a search NEWS API that returns recent news articles.\n",
    "Make a list of search questions that match this topic.\n",
    "Try using different keywords that are related to the topic to make your\n",
    "questions more general.\n",
    "\n",
    "Create many queries, some with specific terms and others without them.\n",
    "Be imaginative and make as many queries as you can. More queries will help you\n",
    "find better results.\n",
    "\n",
    "Pick 10 of these queries.\n",
    "For example, you can include queries like ['keyword_1 keyword_2', 'keyword_1',\n",
    "'keyword_2'].\n",
    "\n",
    "# User question: {user_query}\n",
    "\n",
    "# Format: {{\"queries\": [\"query_1\", \"query_2\", \"query_3\"]}}\n",
    "\"\"\""
   ]
  },
  {
   "cell_type": "code",
   "execution_count": 8,
   "id": "8edbd8ac-b405-4f31-a992-346d6bb24aa1",
   "metadata": {},
   "outputs": [],
   "source": [
    "gpt_model = \"gpt-3.5-turbo\""
   ]
  },
  {
   "cell_type": "code",
   "execution_count": 9,
   "id": "63fadae9-a635-4910-a112-fd6e05fafc74",
   "metadata": {},
   "outputs": [
    {
     "data": {
      "text/plain": [
       "{'queries': ['bitcoin price recent events',\n",
       "  'bitcoin market news',\n",
       "  'cryptocurrency price updates',\n",
       "  'crypto market trends',\n",
       "  'blockchain technology developments',\n",
       "  'digital currency market analysis',\n",
       "  'bitcoin impact on financial market',\n",
       "  'latest news on cryptocurrency',\n",
       "  'virtual currency market updates',\n",
       "  'bitcoin price movement']}"
      ]
     },
     "execution_count": 9,
     "metadata": {},
     "output_type": "execute_result"
    }
   ],
   "source": [
    "parsed = get_completion_gpt(input, gpt_model)\n",
    "parsed"
   ]
  },
  {
   "cell_type": "code",
   "execution_count": 10,
   "id": "2a99cd7b-c534-48c0-a8aa-34ef6720dcf2",
   "metadata": {},
   "outputs": [
    {
     "data": {
      "text/plain": [
       "['bitcoin price recent events',\n",
       " 'bitcoin market news',\n",
       " 'cryptocurrency price updates',\n",
       " 'crypto market trends',\n",
       " 'blockchain technology developments',\n",
       " 'digital currency market analysis',\n",
       " 'bitcoin impact on financial market',\n",
       " 'latest news on cryptocurrency',\n",
       " 'virtual currency market updates',\n",
       " 'bitcoin price movement',\n",
       " 'What are the events that impacted the bitcoin price lately?.']"
      ]
     },
     "execution_count": 10,
     "metadata": {},
     "output_type": "execute_result"
    }
   ],
   "source": [
    "queries = parsed['queries']\n",
    "queries.append(user_query)\n",
    "queries"
   ]
  },
  {
   "cell_type": "markdown",
   "id": "21a6bfd0-b803-4cd5-afc1-f20daff71ef2",
   "metadata": {},
   "source": [
    "4. Fetch news articles from NEWS API for each query:"
   ]
  },
  {
   "cell_type": "code",
   "execution_count": 34,
   "id": "75d667cc-3f66-44e0-b111-bc6080f926a5",
   "metadata": {},
   "outputs": [],
   "source": [
    "import requests\n",
    "\n",
    "def NEWS_API_KEY():\n",
    "    apiKey = ''\n",
    "    return apiKey\n",
    "\n",
    "def search_news(query, num_articles=5, from_datetime=\"2024-04-01\", to_datetime=\"2024-04-25\"):\n",
    "    response = requests.get(\n",
    "        \"https://newsapi.org/v2/everything\",\n",
    "        params={\n",
    "            \"q\": query,\n",
    "            \"apiKey\": NEWS_API_KEY(),\n",
    "            \"pageSize\": num_articles,\n",
    "            \"sortBy\": \"relevancy\",\n",
    "            \"from\": from_datetime,\n",
    "            \"to\": to_datetime,\n",
    "        }\n",
    "    )\n",
    "    return response.json()"
   ]
  },
  {
   "cell_type": "code",
   "execution_count": 35,
   "id": "7d1eee05-dc2e-4bfc-83b0-5c24edf26774",
   "metadata": {},
   "outputs": [
    {
     "data": {
      "text/plain": [
       "50"
      ]
     },
     "execution_count": 35,
     "metadata": {},
     "output_type": "execute_result"
    }
   ],
   "source": [
    "articles = []\n",
    "for query in queries:\n",
    "    result = search_news (query)\n",
    "    if result['status'] == 'ok':\n",
    "        articles = articles + result ['articles']\n",
    "    else:\n",
    "        raise Exception (result [\"message\"])\n",
    "\n",
    "len (articles)"
   ]
  },
  {
   "cell_type": "code",
   "execution_count": 36,
   "id": "06681bc7-73e1-4be0-bfbc-2c07b3b916bb",
   "metadata": {},
   "outputs": [
    {
     "data": {
      "text/plain": [
       "43"
      ]
     },
     "execution_count": 36,
     "metadata": {},
     "output_type": "execute_result"
    }
   ],
   "source": [
    "# remove duplicates\n",
    "articles = list({article[\"url\"]:article for article in articles}.values())\n",
    "len(articles)"
   ]
  },
  {
   "cell_type": "markdown",
   "id": "27bbbad3-4cc8-4b6b-b9d3-e0d9874b6236",
   "metadata": {},
   "source": [
    "5. Re-rank"
   ]
  },
  {
   "cell_type": "code",
   "execution_count": 40,
   "id": "146acc46-3df8-4b5d-af95-67874ab3a0d0",
   "metadata": {},
   "outputs": [],
   "source": [
    "hypoth_answer =f\"\"\"\n",
    "\"Make up\n",
    "an answer to the user's question. We'll use this made-up answer tou sort the search results.\n",
    "Imagine you have all the details to answer, but don't use real facts.\n",
    "Instead, use things like 'EVENT affected something' or 'NAME mentionedu\n",
    "\"something on DATE' as placeholders.\n",
    "User question: {user_query}\n",
    "Format: {{\"hypotheticalAnswer\": \"hypothetical answer text\"}}\n",
    "\"\"\""
   ]
  },
  {
   "cell_type": "code",
   "execution_count": 43,
   "id": "87dedc3c-dae3-44bb-8612-b6c3cb453d6f",
   "metadata": {},
   "outputs": [
    {
     "data": {
      "text/plain": [
       "{'hypotheticalAnswer': 'Recently, a major EVENT affected the bitcoin price, leading to a significant increase in value. This was followed by another event where NAME mentioned something on DATE, causing a slight dip in the price. Overall, the events that impacted the bitcoin price lately have been quite dynamic.'}"
      ]
     },
     "execution_count": 43,
     "metadata": {},
     "output_type": "execute_result"
    }
   ],
   "source": [
    "parsed_hypothet_answer = get_completion_gpt (hypoth_answer)\n",
    "parsed_hypothet_answer"
   ]
  },
  {
   "cell_type": "code",
   "execution_count": 46,
   "id": "cb12893f-ae4c-4e23-9e42-29ead6db0bd3",
   "metadata": {},
   "outputs": [
    {
     "data": {
      "text/plain": [
       "'Recently, a major EVENT affected the bitcoin price, leading to a significant increase in value. This was followed by another event where NAME mentioned something on DATE, causing a slight dip in the price. Overall, the events that impacted the bitcoin price lately have been quite dynamic.'"
      ]
     },
     "execution_count": 46,
     "metadata": {},
     "output_type": "execute_result"
    }
   ],
   "source": [
    "hypoth_answer_11m = parsed_hypothet_answer ['hypotheticalAnswer']\n",
    "hypoth_answer_11m"
   ]
  },
  {
   "cell_type": "code",
   "execution_count": null,
   "id": "27efc0db-39df-4c68-9a11-0fb9a3e81df7",
   "metadata": {},
   "outputs": [],
   "source": [
    "6.Embedding"
   ]
  },
  {
   "cell_type": "code",
   "execution_count": 58,
   "id": "5e8e6ff2-a7e4-4495-ad34-0c52e801502f",
   "metadata": {},
   "outputs": [],
   "source": [
    "def get_embeddings (input) :\n",
    "    response = client. embeddings.create(model=\"text-embedding-ada-002\",input=input)\n",
    "    return [data.embedding for data in response.data]"
   ]
  },
  {
   "cell_type": "code",
   "execution_count": 59,
   "id": "c3260b07-a503-4b08-bfd3-47e20fcf3ae3",
   "metadata": {},
   "outputs": [],
   "source": [
    "# 6.1 The hypotheticalAnswer"
   ]
  },
  {
   "cell_type": "code",
   "execution_count": 60,
   "id": "d7c811b1-749f-4ab7-9deb-e4cebee088af",
   "metadata": {},
   "outputs": [
    {
     "data": {
      "text/plain": [
       "[-0.026865005493164062,\n",
       " -0.028626644983887672,\n",
       " 0.02339353784918785,\n",
       " -0.015556832775473595,\n",
       " -0.024365030229091644]"
      ]
     },
     "execution_count": 60,
     "metadata": {},
     "output_type": "execute_result"
    }
   ],
   "source": [
    "embedding_hypoth = get_embeddings (hypoth_answer_11m)[0]\n",
    "embedding_hypoth [: 5]"
   ]
  },
  {
   "cell_type": "code",
   "execution_count": null,
   "id": "41aaefd4-520d-4d5c-ba2b-14856f9485fa",
   "metadata": {},
   "outputs": [],
   "source": [
    "# 6.2 The content articles"
   ]
  },
  {
   "cell_type": "code",
   "execution_count": 65,
   "id": "6f7a0ba9-d87d-4476-ac81-8b8299af241c",
   "metadata": {},
   "outputs": [
    {
     "name": "stdout",
     "output_type": "stream",
     "text": [
      "Length of articles to embed: 43\n"
     ]
    }
   ],
   "source": [
    "articles_prepare_embedd = [\n",
    "    f\"{article['title']} {article['description']} {article['content'][0:100]}\"\n",
    "    for article in articles\n",
    "    ]\n",
    "print(f\"Length of articles to embed: {len(articles_prepare_embedd)}\")"
   ]
  },
  {
   "cell_type": "code",
   "execution_count": 69,
   "id": "e6fe455c-72f4-4534-810b-23db4a0ee0b4",
   "metadata": {},
   "outputs": [
    {
     "name": "stdout",
     "output_type": "stream",
     "text": [
      "Length of embedding vector: 43\n"
     ]
    },
    {
     "data": {
      "text/plain": [
       "[0.012298943474888802,\n",
       " -0.017819151282310486,\n",
       " 0.007637730333954096,\n",
       " 0.00030360312666743994,\n",
       " -0.011393336579203606]"
      ]
     },
     "execution_count": 69,
     "metadata": {},
     "output_type": "execute_result"
    }
   ],
   "source": [
    "article_embeddings = get_embeddings (articles_prepare_embedd)\n",
    "print(f\"Length of embedding vector: {len(article_embeddings)}\")\n",
    "article_embeddings[0][:5]"
   ]
  },
  {
   "cell_type": "markdown",
   "id": "3976f8b8-045d-4991-8a1d-77aaf8694a9c",
   "metadata": {},
   "source": [
    "7. Against Hypothetical Answer == Re-Rank"
   ]
  },
  {
   "cell_type": "markdown",
   "id": "ff3d812c-6034-43d3-bdcf-a7f4a520ebc2",
   "metadata": {},
   "source": [
    "7.1 Calculate consin similarity"
   ]
  },
  {
   "cell_type": "code",
   "execution_count": 73,
   "id": "60541eb1-fada-413e-80ba-62775ae46e75",
   "metadata": {},
   "outputs": [
    {
     "data": {
      "text/plain": [
       "[0.7770616649858723,\n",
       " 0.8575892412876297,\n",
       " 0.6997396846677595,\n",
       " 0.8333097374706964,\n",
       " 0.8405245735968782,\n",
       " 0.7377960879828624,\n",
       " 0.8097797041742064,\n",
       " 0.7601761156279383,\n",
       " 0.7587701545882278,\n",
       " 0.7659980230823105]"
      ]
     },
     "execution_count": 73,
     "metadata": {},
     "output_type": "execute_result"
    }
   ],
   "source": [
    "from scipy import spatial\n",
    "\n",
    "similarity_score_func=lambda x, y: 1 - spatial.distance.cosine(x, y)\n",
    "\n",
    "# Calculate cosine similarity\n",
    "cosine_similarities = []\n",
    "for article_embedding in article_embeddings:\n",
    "    cosine_similarities.append(similarity_score_func(embedding_hypoth,article_embedding))\n",
    "    \n",
    "cosine_similarities[0:10]"
   ]
  },
  {
   "cell_type": "code",
   "execution_count": null,
   "id": "76c54b07-713c-4f40-83a8-be6891993485",
   "metadata": {},
   "outputs": [],
   "source": [
    "7.2 Get the most relevant articles"
   ]
  },
  {
   "cell_type": "code",
   "execution_count": 75,
   "id": "19a44bf2-3ce9-4c86-b34d-3c8e2b336257",
   "metadata": {},
   "outputs": [
    {
     "name": "stdout",
     "output_type": "stream",
     "text": [
      "Top 5 articles: \n",
      "\n"
     ]
    }
   ],
   "source": [
    "scored_articles = zip(articles, cosine_similarities)\n",
    "sorted_articles = sorted(scored_articles, key=lambda x: x[1], reverse=True)\n",
    "print(\"Top 5 articles:\", \"\\n\")"
   ]
  },
  {
   "cell_type": "code",
   "execution_count": null,
   "id": "6048b870-6209-468e-bbdf-81f4745fa566",
   "metadata": {},
   "outputs": [],
   "source": [
    "8. Against Original User Query"
   ]
  },
  {
   "cell_type": "code",
   "execution_count": 79,
   "id": "addc18d5-4ad0-463d-8742-c886c5d44050",
   "metadata": {},
   "outputs": [
    {
     "data": {
      "text/plain": [
       "[-0.02085202932357788,\n",
       " -0.026151368394494057,\n",
       " 0.021529389545321465,\n",
       " -0.014994867146015167,\n",
       " -0.03054755926132202]"
      ]
     },
     "execution_count": 79,
     "metadata": {},
     "output_type": "execute_result"
    }
   ],
   "source": [
    "embedding_original_query = get_embeddings(user_query)[0]\n",
    "embedding_original_query[:5]                                        "
   ]
  },
  {
   "cell_type": "code",
   "execution_count": 81,
   "id": "f4f0f303-8345-40a8-ad65-fd637f120666",
   "metadata": {},
   "outputs": [],
   "source": [
    "similarity_score_func=lambda x, y: 1 - spatial.distance. cosine(x, y)\n",
    "# Calculate cosine similarity\n",
    "cosine_similarities_original = []\n",
    "for article_embedding in article_embeddings:\n",
    "    cosine_similarities_original.append (similarity_score_func(embedding_original_query, article_embedding))"
   ]
  },
  {
   "cell_type": "code",
   "execution_count": 82,
   "id": "5ef78615-01b9-462d-aef0-739735622276",
   "metadata": {},
   "outputs": [
    {
     "data": {
      "text/plain": [
       "[0.7919108734980538,\n",
       " 0.8494198264515883,\n",
       " 0.7239132420819473,\n",
       " 0.8235745915855325,\n",
       " 0.8448798794313979,\n",
       " 0.7710898428195807,\n",
       " 0.8185226737736092,\n",
       " 0.7645708728243569,\n",
       " 0.7780031171657636,\n",
       " 0.7654987096727417]"
      ]
     },
     "execution_count": 82,
     "metadata": {},
     "output_type": "execute_result"
    }
   ],
   "source": [
    "cosine_similarities_original [0:10]"
   ]
  },
  {
   "cell_type": "markdown",
   "id": "34ac59d2-be03-4ce1-af25-df37973576ea",
   "metadata": {},
   "source": [
    "The similarity scores are much lower than the one against the hypotethical answer:"
   ]
  },
  {
   "cell_type": "code",
   "execution_count": 85,
   "id": "bc464c62-4700-4e96-b548-537a909759d2",
   "metadata": {},
   "outputs": [
    {
     "name": "stdout",
     "output_type": "stream",
     "text": [
      "Top 5 articles: \n",
      "\n",
      "Title: What's Next For Bitcoin Prices After Their Latest Pullback?\n",
      "Url: https://www.forbes.com/sites/digital-assets/2024/04/17/whats-next-for-bitcoin-prices-after-their-latest-pullback/\n",
      "Date of publication: 2024-04-18T00:36:47Z\n",
      "Description: What's next for bitcoin prices after the cryptocurrency repeatedly approached $60,000 earlier today? Several analysts weigh in.\n",
      "Content: Analysts weighed in on what's next for bitcoin prices after their latest drop. (Photo illustration ....\n",
      "Score: 0.8500779943352983\n",
      "\n",
      "Title: Bitcoin passes $65,000 on the big 'halving' day\n",
      "Url: https://qz.com/bitcoin-bitcoin-halving-cryptocurrency-1851421828\n",
      "Date of publication: 2024-04-19T14:38:00Z\n",
      "Description: After days of tumultuous trading, Bitcoin finally reached $65,000 Friday morning, thanks to its big halving event. The jump in Bitcoin price is a relief for investors as giant banks such as JPMorgan and Goldman Sachs were less confident about the top cryptocu…\n",
      "Content: After days of tumultuous trading, Bitcoin finally returned to above the $65,000-level Friday morning...\n",
      "Score: 0.8494198264515883\n",
      "\n",
      "Title: Bitcoin falls below $60,000 as halving nerves set in\n",
      "Url: https://qz.com/bitcoin-below-60-000-bitcoin-halving-crypto-1851416763\n",
      "Date of publication: 2024-04-17T18:46:00Z\n",
      "Description: Bitcoin is getting jittery before the big ‘halving’ eventscheduled for Friday. The top cryptocurrency fell to $59,900 on Wednesday for the first time since early March, almost 17% below its all-time high.Read more...\n",
      "Content: Bitcoin is getting jittery before the big halving event scheduled for Friday. The top cryptocurrency...\n",
      "Score: 0.8448798794313979\n",
      "\n",
      "Title: Bitcoin Stays Sub $70,000 As Hong Kong Readies April-End ETF Launch\n",
      "Url: https://biztoc.com/x/bcf5b8f938d38641\n",
      "Date of publication: 2024-04-10T07:56:06Z\n",
      "Description: The Bitcoin price has seen a notable fluctuation, briefly surpassing $72,500 on Monday before dipping below the $70,000 threshold on Tuesday. This movement can be attributed to a risk-off sentiment among investors, largely in anticipation of the latest US Con…\n",
      "Content: The Bitcoin price has seen a notable fluctuation, briefly surpassing $72,500 on Monday before dippin...\n",
      "Score: 0.8397982621514495\n",
      "\n",
      "Title: Bitcoin is rebounding after a rollercoaster ride—thanks to Hong Kong\n",
      "Url: https://qz.com/bitcoin-hong-kong-etf-1851410344\n",
      "Date of publication: 2024-04-15T15:06:00Z\n",
      "Description: After falling by almost 10% over the weekend, Bitcoin rebounded Monday after Hong Kong announced approval of its first spot Bitcoin and Ether exchange-traded funds (ETFs). Read more...\n",
      "Content: After falling by almost 10% over the weekend, Bitcoin rebounded Monday after Hong Kong announced app...\n",
      "Score: 0.8346534180579999\n",
      "\n"
     ]
    }
   ],
   "source": [
    "scored_articles_original = zip(articles, cosine_similarities_original)\n",
    "scored_articles_original = sorted(scored_articles_original, key=lambda x: x[1], reverse=True)\n",
    "print(\"Top 5 articles:\", \"\\n\")\n",
    "for article, score in scored_articles_original[0:5]:\n",
    "    print(\"Title:\", article[\"title\"])\n",
    "    print(\"Url:\", article[\"url\"])\n",
    "    print(\"Date of publication:\", article[\"publishedAt\"])\n",
    "    print(\"Description:\", article[\"description\"])\n",
    "    print(\"Content:\", article[\"content\"][0:100] + \"...\")\n",
    "    print(\"Score:\", score)\n",
    "    print()"
   ]
  },
  {
   "cell_type": "markdown",
   "id": "bb522918-0195-44d4-b764-47ee8d2ce236",
   "metadata": {},
   "source": [
    "9.Final Answer"
   ]
  },
  {
   "cell_type": "markdown",
   "id": "319d04ca-b69e-40ce-9330-4d33e48159a2",
   "metadata": {},
   "source": [
    "9.1 Final answer with hypothetical re-rank:"
   ]
  },
  {
   "cell_type": "code",
   "execution_count": 86,
   "id": "fea34024-44c8-41fd-bbfe-c04641d0a10e",
   "metadata": {},
   "outputs": [],
   "source": [
    "from IPython import display"
   ]
  },
  {
   "cell_type": "code",
   "execution_count": 87,
   "id": "709ef49f-c218-4477-a581-2e965fd5190d",
   "metadata": {},
   "outputs": [
    {
     "data": {
      "text/markdown": [
       "Lately, several events have influenced the price of Bitcoin. One significant factor was the much-anticipated halving event, which occurred recently. This event typically brings about volatility in the cryptocurrency market. Bitcoin reached a high of $65,000 on the day of the halving, providing relief to investors after a period of tumultuous trading. However, prior to this, the price had fallen below $60,000, causing some nervousness among investors. Additionally, the launch of a Bitcoin ETF in Hong Kong towards the end of April also impacted the price, with fluctuations observed around the $70,000 threshold. If you're interested in more details, you can check out these articles: [Bitcoin passes $65,000 on the big 'halving' day](https://qz.com/bitcoin-bitcoin-halving-cryptocurrency-1851421828), [Bitcoin falls below $60,000 as halving nerves set in](https://qz.com/bitcoin-below-60-000-bitcoin-halving-crypto-1851416763), and [Bitcoin Stays Sub $70,000 As Hong Kong Readies April-End ETF Launch](https://biztoc.com/x/bcf5b8f938d38641)."
      ],
      "text/plain": [
       "<IPython.core.display.Markdown object>"
      ]
     },
     "metadata": {},
     "output_type": "display_data"
    }
   ],
   "source": [
    "formatted_top_results = [\n",
    "    {\n",
    "        \"title\": article[\"title\"],\n",
    "        \"description\": article[\"description\"],\n",
    "        \"url\": article[\"url\"],\n",
    "    }\n",
    "    for article, _score in sorted_articles[0:5]\n",
    "]\n",
    "\n",
    "final_input = f\"\"\"\n",
    "Generate an answer to the user's question based on the given search results.\n",
    "TOP_RESULTS: {formatted_top_results}\n",
    "USER_QUESTION: {user_query}\n",
    "\n",
    "Include as much information as possible in the answer. Reference the relevant\n",
    "search result urls as markdown links.\n",
    "\"\"\"\n",
    "\n",
    "gpt_model = \"gpt-3.5-turbo-1106\"\n",
    "\n",
    "completion = client.chat.completions.create(\n",
    "    model=gpt_model,\n",
    "    messages=[\n",
    "        {\"role\": \"user\", \"content\": final_input},\n",
    "    ],\n",
    ")\n",
    "\n",
    "display.display(display.Markdown(completion.choices[0].message.content))"
   ]
  },
  {
   "cell_type": "markdown",
   "id": "d1e9b869-be82-46ec-bc5e-6de27e08c5cc",
   "metadata": {},
   "source": [
    "10 Final Thoughts\n",
    "In this notebook, you have discovered :\n",
    "• How to use LLMs to generate various queries in regards to the user query ==> Prompt builder with JSON results\n",
    "• Then, how to use these queries to fetch news from NEW API. (btw, you need an API KEY)\n",
    "• Also, we will use again LLMs to help us build a Hypothetical Answer against which, we w'll rank the news article. We'll use embedding and cosine similarity to get the most relevant answers. Comparison will be made with the original query.\n",
    "• Then, we will ask the LLM the original user query and see what happens:\n",
    "\"What are the events that impacted the bicoin price lately?.\""
   ]
  }
 ],
 "metadata": {
  "kernelspec": {
   "display_name": "Python 3 (ipykernel)",
   "language": "python",
   "name": "python3"
  },
  "language_info": {
   "codemirror_mode": {
    "name": "ipython",
    "version": 3
   },
   "file_extension": ".py",
   "mimetype": "text/x-python",
   "name": "python",
   "nbconvert_exporter": "python",
   "pygments_lexer": "ipython3",
   "version": "3.11.7"
  }
 },
 "nbformat": 4,
 "nbformat_minor": 5
}
