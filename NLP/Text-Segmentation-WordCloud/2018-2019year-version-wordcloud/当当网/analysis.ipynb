{
 "cells": [
  {
   "cell_type": "code",
   "execution_count": 1,
   "metadata": {},
   "outputs": [],
   "source": [
    "import numpy as np\n",
    "import pandas as pd\n",
    "import matplotlib.pyplot as plt\n",
    "import seaborn as sns\n",
    "\n",
    "plt.rcParams['font.sans-serif'] = ['SimHei']\n",
    "plt.rcParams['axes.unicode_minus'] = False"
   ]
  },
  {
   "cell_type": "code",
   "execution_count": 2,
   "metadata": {},
   "outputs": [],
   "source": [
    "#导入爬虫结果\n",
    "book=pd.read_table('book.txt')"
   ]
  },
  {
   "cell_type": "code",
   "execution_count": 3,
   "metadata": {},
   "outputs": [
    {
     "data": {
      "text/plain": [
       "(498, 1)"
      ]
     },
     "execution_count": 3,
     "metadata": {},
     "output_type": "execute_result"
    }
   ],
   "source": [
    "book.shape"
   ]
  },
  {
   "cell_type": "code",
   "execution_count": 4,
   "metadata": {},
   "outputs": [
    {
     "data": {
      "text/html": [
       "<div>\n",
       "<style scoped>\n",
       "    .dataframe tbody tr th:only-of-type {\n",
       "        vertical-align: middle;\n",
       "    }\n",
       "\n",
       "    .dataframe tbody tr th {\n",
       "        vertical-align: top;\n",
       "    }\n",
       "\n",
       "    .dataframe thead th {\n",
       "        text-align: right;\n",
       "    }\n",
       "</style>\n",
       "<table border=\"1\" class=\"dataframe\">\n",
       "  <thead>\n",
       "    <tr style=\"text-align: right;\">\n",
       "      <th></th>\n",
       "      <th>排名，图片，书名，评论数，推荐度，作者，出版时间，出版社，五星评分次数，价格，原价</th>\n",
       "    </tr>\n",
       "  </thead>\n",
       "  <tbody>\n",
       "    <tr>\n",
       "      <th>0</th>\n",
       "      <td>{\"排名\": \"1\", \"图片\": \"http://img3m5.ddimg.cn/3/20...</td>\n",
       "    </tr>\n",
       "    <tr>\n",
       "      <th>1</th>\n",
       "      <td>{\"排名\": \"2\", \"图片\": \"http://img3m7.ddimg.cn/37/2...</td>\n",
       "    </tr>\n",
       "    <tr>\n",
       "      <th>2</th>\n",
       "      <td>{\"排名\": \"3\", \"图片\": \"http://img3m5.ddimg.cn/51/3...</td>\n",
       "    </tr>\n",
       "    <tr>\n",
       "      <th>3</th>\n",
       "      <td>{\"排名\": \"4\", \"图片\": \"http://img3m7.ddimg.cn/85/3...</td>\n",
       "    </tr>\n",
       "    <tr>\n",
       "      <th>4</th>\n",
       "      <td>{\"排名\": \"5\", \"图片\": \"http://img3m0.ddimg.cn/22/1...</td>\n",
       "    </tr>\n",
       "  </tbody>\n",
       "</table>\n",
       "</div>"
      ],
      "text/plain": [
       "           排名，图片，书名，评论数，推荐度，作者，出版时间，出版社，五星评分次数，价格，原价\n",
       "0  {\"排名\": \"1\", \"图片\": \"http://img3m5.ddimg.cn/3/20...\n",
       "1  {\"排名\": \"2\", \"图片\": \"http://img3m7.ddimg.cn/37/2...\n",
       "2  {\"排名\": \"3\", \"图片\": \"http://img3m5.ddimg.cn/51/3...\n",
       "3  {\"排名\": \"4\", \"图片\": \"http://img3m7.ddimg.cn/85/3...\n",
       "4  {\"排名\": \"5\", \"图片\": \"http://img3m0.ddimg.cn/22/1..."
      ]
     },
     "execution_count": 4,
     "metadata": {},
     "output_type": "execute_result"
    }
   ],
   "source": [
    "book.head()"
   ]
  },
  {
   "cell_type": "markdown",
   "metadata": {},
   "source": [
    "# 处理爬虫数据，制作DataFrame"
   ]
  },
  {
   "cell_type": "code",
   "execution_count": 5,
   "metadata": {},
   "outputs": [],
   "source": [
    "book.columns=['原文件']"
   ]
  },
  {
   "cell_type": "code",
   "execution_count": 6,
   "metadata": {},
   "outputs": [],
   "source": [
    "#分离出“排名”数据\n",
    "book['排名']=book['原文件']\n",
    "for i in range(498):\n",
    "    pm=book['原文件'][i].split('排名\": \"')[1].split('\", \"图片')\n",
    "    book['排名'][i]=pm[0]"
   ]
  },
  {
   "cell_type": "code",
   "execution_count": 7,
   "metadata": {},
   "outputs": [],
   "source": [
    "#分离出“书名”数据\n",
    "book['书名']=book['原文件']\n",
    "for i in range(498):\n",
    "    sm=book['原文件'][i].split('书名\": \"')[1].split('\", \"评论数')\n",
    "    book['书名'][i]=sm[0]"
   ]
  },
  {
   "cell_type": "code",
   "execution_count": 8,
   "metadata": {},
   "outputs": [],
   "source": [
    "#分离出“评论数”数据\n",
    "book['评论数']=book['原文件']\n",
    "for i in range(498):\n",
    "    pls=book['原文件'][i].split('评论数\": \"')[1].split('条评论')\n",
    "    book['评论数'][i]=pls[0]"
   ]
  },
  {
   "cell_type": "code",
   "execution_count": 9,
   "metadata": {},
   "outputs": [],
   "source": [
    "#分离出“推荐度”数据\n",
    "book['推荐度']=book['原文件']\n",
    "for i in range(498):\n",
    "    tjd=book['原文件'][i].split('推荐度\": \"')[1].split('%推荐')\n",
    "    book['推荐度'][i]=tjd[0]"
   ]
  },
  {
   "cell_type": "code",
   "execution_count": 10,
   "metadata": {},
   "outputs": [],
   "source": [
    "#分离出“作者”数据\n",
    "book['作者']=book['原文件']\n",
    "for i in range(498):\n",
    "    zz=book['原文件'][i].split('作者\": \"')[1].split('\", \"出版时间')\n",
    "    book['作者'][i]=zz[0]"
   ]
  },
  {
   "cell_type": "code",
   "execution_count": 11,
   "metadata": {},
   "outputs": [],
   "source": [
    "#分离出“出版时间”数据\n",
    "book['出版时间']=book['原文件']\n",
    "for i in range(498):\n",
    "    cbsj=book['原文件'][i].split('出版时间\": \"')[1].split('\", \"出版社')\n",
    "    book['出版时间'][i]=cbsj[0]"
   ]
  },
  {
   "cell_type": "code",
   "execution_count": 12,
   "metadata": {},
   "outputs": [],
   "source": [
    "#分离出“出版社”数据\n",
    "book['出版社']=book['原文件']\n",
    "for i in range(498):\n",
    "    cbs=book['原文件'][i].split('出版社\": \"')[1].split('\", \"五星评')\n",
    "    book['出版社'][i]=cbs[0]"
   ]
  },
  {
   "cell_type": "code",
   "execution_count": 13,
   "metadata": {},
   "outputs": [],
   "source": [
    "#分离出“五星评分次数”数据\n",
    "book['五星评分次数']=book['原文件']\n",
    "for i in range(498):\n",
    "    wxpf=book['原文件'][i].split('五星评分次数\": \"')[1].split('次\", \"价')\n",
    "    book['五星评分次数'][i]=wxpf[0]"
   ]
  },
  {
   "cell_type": "code",
   "execution_count": 14,
   "metadata": {},
   "outputs": [],
   "source": [
    "#分离出“价格”数据\n",
    "book['价格']=book['原文件']\n",
    "for i in range(498):\n",
    "    jg=book['原文件'][i].split('价格\": \"')[1].split('\", \"原价')\n",
    "    book['价格'][i]=jg[0]"
   ]
  },
  {
   "cell_type": "code",
   "execution_count": 15,
   "metadata": {},
   "outputs": [],
   "source": [
    "#分离出“原价”数据\n",
    "book['原价']=book['原文件']\n",
    "for i in range(498):\n",
    "    yj=book['原文件'][i].split('原价\": \"')[1].split('\"}')\n",
    "    book['原价'][i]=yj[0]"
   ]
  },
  {
   "cell_type": "code",
   "execution_count": 16,
   "metadata": {
    "scrolled": true
   },
   "outputs": [
    {
     "data": {
      "text/html": [
       "<div>\n",
       "<style scoped>\n",
       "    .dataframe tbody tr th:only-of-type {\n",
       "        vertical-align: middle;\n",
       "    }\n",
       "\n",
       "    .dataframe tbody tr th {\n",
       "        vertical-align: top;\n",
       "    }\n",
       "\n",
       "    .dataframe thead th {\n",
       "        text-align: right;\n",
       "    }\n",
       "</style>\n",
       "<table border=\"1\" class=\"dataframe\">\n",
       "  <thead>\n",
       "    <tr style=\"text-align: right;\">\n",
       "      <th></th>\n",
       "      <th>原文件</th>\n",
       "      <th>排名</th>\n",
       "      <th>书名</th>\n",
       "      <th>评论数</th>\n",
       "      <th>推荐度</th>\n",
       "      <th>作者</th>\n",
       "      <th>出版时间</th>\n",
       "      <th>出版社</th>\n",
       "      <th>五星评分次数</th>\n",
       "      <th>价格</th>\n",
       "      <th>原价</th>\n",
       "    </tr>\n",
       "  </thead>\n",
       "  <tbody>\n",
       "    <tr>\n",
       "      <th>0</th>\n",
       "      <td>{\"排名\": \"1\", \"图片\": \"http://img3m5.ddimg.cn/3/20...</td>\n",
       "      <td>1</td>\n",
       "      <td>摆渡人3无境之爱（千万畅销心灵治愈小说“摆渡人”系列完结篇，令无数读者灵魂震颤的人性救赎之作！）</td>\n",
       "      <td>17884</td>\n",
       "      <td>100</td>\n",
       "      <td>克莱儿・麦克福尔</td>\n",
       "      <td>2019-04-01</td>\n",
       "      <td>百花洲文艺出版社</td>\n",
       "      <td>10636</td>\n",
       "      <td>31.70</td>\n",
       "      <td>46.00</td>\n",
       "    </tr>\n",
       "    <tr>\n",
       "      <th>1</th>\n",
       "      <td>{\"排名\": \"2\", \"图片\": \"http://img3m7.ddimg.cn/37/2...</td>\n",
       "      <td>2</td>\n",
       "      <td>精进2：解锁万物的心智进化法（采铜新作！）</td>\n",
       "      <td>8128</td>\n",
       "      <td>100</td>\n",
       "      <td>采铜</td>\n",
       "      <td>2019-06-01</td>\n",
       "      <td>江苏凤凰文艺出版社</td>\n",
       "      <td>7720</td>\n",
       "      <td>26.40</td>\n",
       "      <td>52.80</td>\n",
       "    </tr>\n",
       "    <tr>\n",
       "      <th>2</th>\n",
       "      <td>{\"排名\": \"3\", \"图片\": \"http://img3m5.ddimg.cn/51/3...</td>\n",
       "      <td>3</td>\n",
       "      <td>人生海海（莫言盛赞！董卿、高晓松反复阅读，杨洋、李健倾力推荐！2019麦家新作）</td>\n",
       "      <td>56309</td>\n",
       "      <td>100</td>\n",
       "      <td>麦家</td>\n",
       "      <td>2019-04-16</td>\n",
       "      <td>北京十月文艺出版社</td>\n",
       "      <td>10822</td>\n",
       "      <td>55.00</td>\n",
       "      <td>55.00</td>\n",
       "    </tr>\n",
       "    <tr>\n",
       "      <th>3</th>\n",
       "      <td>{\"排名\": \"4\", \"图片\": \"http://img3m7.ddimg.cn/85/3...</td>\n",
       "      <td>4</td>\n",
       "      <td>成瘾：如何设计让人上瘾的产品、品牌和观念</td>\n",
       "      <td>34008</td>\n",
       "      <td>99.9</td>\n",
       "      <td>程志良</td>\n",
       "      <td>2017-08-30</td>\n",
       "      <td>机械工业出版社</td>\n",
       "      <td>12697</td>\n",
       "      <td>32.70</td>\n",
       "      <td>49.00</td>\n",
       "    </tr>\n",
       "    <tr>\n",
       "      <th>4</th>\n",
       "      <td>{\"排名\": \"5\", \"图片\": \"http://img3m0.ddimg.cn/22/1...</td>\n",
       "      <td>5</td>\n",
       "      <td>白色橄榄树（全二册）（当当专享签名本&amp;阿瓒同款限量红绳随机发货！ 人气作家玖月��继《少年的...</td>\n",
       "      <td>7607</td>\n",
       "      <td>100</td>\n",
       "      <td>玖月��</td>\n",
       "      <td>2019-04-01</td>\n",
       "      <td>百花洲文艺出版社</td>\n",
       "      <td>4736</td>\n",
       "      <td>34.90</td>\n",
       "      <td>69.80</td>\n",
       "    </tr>\n",
       "  </tbody>\n",
       "</table>\n",
       "</div>"
      ],
      "text/plain": [
       "                                                 原文件 排名  \\\n",
       "0  {\"排名\": \"1\", \"图片\": \"http://img3m5.ddimg.cn/3/20...  1   \n",
       "1  {\"排名\": \"2\", \"图片\": \"http://img3m7.ddimg.cn/37/2...  2   \n",
       "2  {\"排名\": \"3\", \"图片\": \"http://img3m5.ddimg.cn/51/3...  3   \n",
       "3  {\"排名\": \"4\", \"图片\": \"http://img3m7.ddimg.cn/85/3...  4   \n",
       "4  {\"排名\": \"5\", \"图片\": \"http://img3m0.ddimg.cn/22/1...  5   \n",
       "\n",
       "                                                  书名    评论数   推荐度        作者  \\\n",
       "0   摆渡人3无境之爱（千万畅销心灵治愈小说“摆渡人”系列完结篇，令无数读者灵魂震颤的人性救赎之作！）  17884   100  克莱儿・麦克福尔   \n",
       "1                              精进2：解锁万物的心智进化法（采铜新作！）   8128   100        采铜   \n",
       "2           人生海海（莫言盛赞！董卿、高晓松反复阅读，杨洋、李健倾力推荐！2019麦家新作）  56309   100        麦家   \n",
       "3                               成瘾：如何设计让人上瘾的产品、品牌和观念  34008  99.9       程志良   \n",
       "4  白色橄榄树（全二册）（当当专享签名本&阿瓒同款限量红绳随机发货！ 人气作家玖月��继《少年的...   7607   100      玖月��   \n",
       "\n",
       "         出版时间        出版社 五星评分次数     价格     原价  \n",
       "0  2019-04-01   百花洲文艺出版社  10636  31.70  46.00  \n",
       "1  2019-06-01  江苏凤凰文艺出版社   7720  26.40  52.80  \n",
       "2  2019-04-16  北京十月文艺出版社  10822  55.00  55.00  \n",
       "3  2017-08-30    机械工业出版社  12697  32.70  49.00  \n",
       "4  2019-04-01   百花洲文艺出版社   4736  34.90  69.80  "
      ]
     },
     "execution_count": 16,
     "metadata": {},
     "output_type": "execute_result"
    }
   ],
   "source": [
    "book.head()"
   ]
  },
  {
   "cell_type": "code",
   "execution_count": 17,
   "metadata": {
    "scrolled": true
   },
   "outputs": [
    {
     "name": "stdout",
     "output_type": "stream",
     "text": [
      "<class 'pandas.core.frame.DataFrame'>\n",
      "RangeIndex: 498 entries, 0 to 497\n",
      "Data columns (total 11 columns):\n",
      "原文件       498 non-null object\n",
      "排名        498 non-null object\n",
      "书名        498 non-null object\n",
      "评论数       498 non-null object\n",
      "推荐度       498 non-null object\n",
      "作者        498 non-null object\n",
      "出版时间      498 non-null object\n",
      "出版社       498 non-null object\n",
      "五星评分次数    498 non-null object\n",
      "价格        498 non-null object\n",
      "原价        498 non-null object\n",
      "dtypes: object(11)\n",
      "memory usage: 42.9+ KB\n"
     ]
    }
   ],
   "source": [
    "book.info()"
   ]
  },
  {
   "cell_type": "code",
   "execution_count": 18,
   "metadata": {},
   "outputs": [],
   "source": [
    "book.to_excel('book.xlsx')\n",
    "#将最终结果导出到excel文件\n",
    "#由于部分作者使用笔名，姓名形式复杂，无法根据姓名判断作者国别，所以在excel文件中手动添加"
   ]
  },
  {
   "cell_type": "markdown",
   "metadata": {},
   "source": [
    "# 从表中提取有用信息"
   ]
  },
  {
   "cell_type": "code",
   "execution_count": 94,
   "metadata": {},
   "outputs": [],
   "source": [
    "#导入添加了“作者国别”的excel文件\n",
    "book=pd.read_excel(r'C:\\Users\\m\\Desktop\\books(1).xlsx')"
   ]
  },
  {
   "cell_type": "code",
   "execution_count": 95,
   "metadata": {},
   "outputs": [],
   "source": [
    "book.drop(['原文件','作者'],axis=1,inplace=True)"
   ]
  },
  {
   "cell_type": "code",
   "execution_count": 96,
   "metadata": {},
   "outputs": [
    {
     "data": {
      "text/plain": [
       "(498, 10)"
      ]
     },
     "execution_count": 96,
     "metadata": {},
     "output_type": "execute_result"
    }
   ],
   "source": [
    "book.shape"
   ]
  },
  {
   "cell_type": "code",
   "execution_count": 97,
   "metadata": {},
   "outputs": [
    {
     "name": "stdout",
     "output_type": "stream",
     "text": [
      "<class 'pandas.core.frame.DataFrame'>\n",
      "Int64Index: 498 entries, 0 to 497\n",
      "Data columns (total 10 columns):\n",
      "排名        498 non-null int64\n",
      "书名        498 non-null object\n",
      "评论数       498 non-null int64\n",
      "推荐度       498 non-null float64\n",
      "作者国别      498 non-null int64\n",
      "出版时间      498 non-null object\n",
      "出版社       496 non-null object\n",
      "五星评分次数    498 non-null int64\n",
      "价格        498 non-null float64\n",
      "原价        498 non-null object\n",
      "dtypes: float64(2), int64(4), object(4)\n",
      "memory usage: 42.8+ KB\n"
     ]
    }
   ],
   "source": [
    "book.info()"
   ]
  },
  {
   "cell_type": "code",
   "execution_count": 23,
   "metadata": {},
   "outputs": [],
   "source": [
    "from datetime import date"
   ]
  },
  {
   "cell_type": "code",
   "execution_count": 24,
   "metadata": {},
   "outputs": [
    {
     "name": "stderr",
     "output_type": "stream",
     "text": [
      "C:\\Users\\m\\Anaconda3\\lib\\site-packages\\ipykernel_launcher.py:4: SettingWithCopyWarning: \n",
      "A value is trying to be set on a copy of a slice from a DataFrame\n",
      "\n",
      "See the caveats in the documentation: http://pandas.pydata.org/pandas-docs/stable/indexing.html#indexing-view-versus-copy\n",
      "  after removing the cwd from sys.path.\n"
     ]
    }
   ],
   "source": [
    "#由出版时间计算出版至今的天数\n",
    "book['出版时长']=book['出版时间']\n",
    "for i in range(498):\n",
    "    delta=date.today()-date(int(book['出版时间'][i][0:4]),int(book['出版时间'][i][5:7]),int(book['出版时间'][i][8::]))\n",
    "    book['出版时长'][i]=delta.days"
   ]
  },
  {
   "cell_type": "code",
   "execution_count": 25,
   "metadata": {},
   "outputs": [
    {
     "name": "stderr",
     "output_type": "stream",
     "text": [
      "C:\\Users\\m\\Anaconda3\\lib\\site-packages\\ipykernel_launcher.py:2: SettingWithCopyWarning: \n",
      "A value is trying to be set on a copy of a slice from a DataFrame\n",
      "\n",
      "See the caveats in the documentation: http://pandas.pydata.org/pandas-docs/stable/indexing.html#indexing-view-versus-copy\n",
      "  \n"
     ]
    }
   ],
   "source": [
    "for i in range(498):\n",
    "    book['书名'][i]=book['书名'][i]+'[]'"
   ]
  },
  {
   "cell_type": "code",
   "execution_count": 26,
   "metadata": {},
   "outputs": [
    {
     "name": "stderr",
     "output_type": "stream",
     "text": [
      "C:\\Users\\m\\Anaconda3\\lib\\site-packages\\ipykernel_launcher.py:4: SettingWithCopyWarning: \n",
      "A value is trying to be set on a copy of a slice from a DataFrame\n",
      "\n",
      "See the caveats in the documentation: http://pandas.pydata.org/pandas-docs/stable/indexing.html#indexing-view-versus-copy\n",
      "  after removing the cwd from sys.path.\n"
     ]
    }
   ],
   "source": [
    "#从原“书名”列中提取括号里的备注内容\n",
    "book['备注']=book['书名']\n",
    "for i in range(498):\n",
    "    bz=book['书名'][i].split('[')[1].split(']')\n",
    "    book['备注'][i]=bz[0]"
   ]
  },
  {
   "cell_type": "code",
   "execution_count": 27,
   "metadata": {},
   "outputs": [
    {
     "name": "stderr",
     "output_type": "stream",
     "text": [
      "C:\\Users\\m\\Anaconda3\\lib\\site-packages\\ipykernel_launcher.py:3: SettingWithCopyWarning: \n",
      "A value is trying to be set on a copy of a slice from a DataFrame\n",
      "\n",
      "See the caveats in the documentation: http://pandas.pydata.org/pandas-docs/stable/indexing.html#indexing-view-versus-copy\n",
      "  This is separate from the ipykernel package so we can avoid doing imports until\n"
     ]
    }
   ],
   "source": [
    "#从原“书名”列中提取真正的书名\n",
    "for i in range(498):\n",
    "    sm=book['书名'][i].split('[')\n",
    "    book['书名'][i]=sm[0]"
   ]
  },
  {
   "cell_type": "code",
   "execution_count": 28,
   "metadata": {},
   "outputs": [
    {
     "name": "stderr",
     "output_type": "stream",
     "text": [
      "C:\\Users\\m\\Anaconda3\\lib\\site-packages\\ipykernel_launcher.py:6: SettingWithCopyWarning: \n",
      "A value is trying to be set on a copy of a slice from a DataFrame\n",
      "\n",
      "See the caveats in the documentation: http://pandas.pydata.org/pandas-docs/stable/indexing.html#indexing-view-versus-copy\n",
      "  \n",
      "C:\\Users\\m\\Anaconda3\\lib\\site-packages\\ipykernel_launcher.py:4: SettingWithCopyWarning: \n",
      "A value is trying to be set on a copy of a slice from a DataFrame\n",
      "\n",
      "See the caveats in the documentation: http://pandas.pydata.org/pandas-docs/stable/indexing.html#indexing-view-versus-copy\n",
      "  after removing the cwd from sys.path.\n"
     ]
    }
   ],
   "source": [
    "#添加变量“推荐”，代表此书是否有名人推荐，若“备注”中含有字符串“推荐”，则为1，否则为0\n",
    "book['推荐']=book['书名']\n",
    "for i in range(498):\n",
    "    if '推荐' in book['备注'][i]:\n",
    "        book['推荐'][i]=1\n",
    "    else:\n",
    "        book['推荐'][i]=0"
   ]
  },
  {
   "cell_type": "code",
   "execution_count": 29,
   "metadata": {},
   "outputs": [
    {
     "name": "stderr",
     "output_type": "stream",
     "text": [
      "C:\\Users\\m\\Anaconda3\\lib\\site-packages\\ipykernel_launcher.py:6: SettingWithCopyWarning: \n",
      "A value is trying to be set on a copy of a slice from a DataFrame\n",
      "\n",
      "See the caveats in the documentation: http://pandas.pydata.org/pandas-docs/stable/indexing.html#indexing-view-versus-copy\n",
      "  \n",
      "C:\\Users\\m\\Anaconda3\\lib\\site-packages\\ipykernel_launcher.py:4: SettingWithCopyWarning: \n",
      "A value is trying to be set on a copy of a slice from a DataFrame\n",
      "\n",
      "See the caveats in the documentation: http://pandas.pydata.org/pandas-docs/stable/indexing.html#indexing-view-versus-copy\n",
      "  after removing the cwd from sys.path.\n"
     ]
    }
   ],
   "source": [
    "#添加变量“得奖”，代表此书是否获过奖，若“备注”中含有字符串“奖”，则为1，否则为0\n",
    "book['得奖']=book['书名']\n",
    "for i in range(498):\n",
    "    if '奖' in book['备注'][i]:\n",
    "        book['得奖'][i]=1\n",
    "    else:\n",
    "        book['得奖'][i]=0"
   ]
  },
  {
   "cell_type": "code",
   "execution_count": 30,
   "metadata": {},
   "outputs": [
    {
     "name": "stderr",
     "output_type": "stream",
     "text": [
      "C:\\Users\\m\\Anaconda3\\lib\\site-packages\\ipykernel_launcher.py:4: SettingWithCopyWarning: \n",
      "A value is trying to be set on a copy of a slice from a DataFrame\n",
      "\n",
      "See the caveats in the documentation: http://pandas.pydata.org/pandas-docs/stable/indexing.html#indexing-view-versus-copy\n",
      "  after removing the cwd from sys.path.\n",
      "C:\\Users\\m\\Anaconda3\\lib\\site-packages\\ipykernel_launcher.py:6: SettingWithCopyWarning: \n",
      "A value is trying to be set on a copy of a slice from a DataFrame\n",
      "\n",
      "See the caveats in the documentation: http://pandas.pydata.org/pandas-docs/stable/indexing.html#indexing-view-versus-copy\n",
      "  \n"
     ]
    }
   ],
   "source": [
    "#添加变量“系列”，代表此书是否为系列套书，若“备注”中含有字符串“全x册”、“套装”、“系列”、“部曲”，则为1，否则为0\n",
    "book['系列']=book['书名']\n",
    "for i in range(498):\n",
    "    if '全' in book['备注'][i] and '册' in book['备注'][i] or '套装' in book['备注'][i] or '系列' in book['备注'][i]  or '部曲' in book['备注'][i]:\n",
    "        book['系列'][i]=1\n",
    "    else:\n",
    "        book['系列'][i]=0"
   ]
  },
  {
   "cell_type": "code",
   "execution_count": 31,
   "metadata": {},
   "outputs": [
    {
     "name": "stderr",
     "output_type": "stream",
     "text": [
      "C:\\Users\\m\\Anaconda3\\lib\\site-packages\\ipykernel_launcher.py:3: SettingWithCopyWarning: \n",
      "A value is trying to be set on a copy of a slice from a DataFrame\n",
      "\n",
      "See the caveats in the documentation: http://pandas.pydata.org/pandas-docs/stable/indexing.html#indexing-view-versus-copy\n",
      "  This is separate from the ipykernel package so we can avoid doing imports until\n"
     ]
    }
   ],
   "source": [
    "#检查“书名”中有“系列”信息的情况\n",
    "for i in range(498):\n",
    "    if '全' in book['书名'][i] and '册' in book['书名'][i] or '套装' in book['书名'][i] or '系列' in book['书名'][i] or '部曲' in book['书名'][i]:\n",
    "        book['系列'][i]=1"
   ]
  },
  {
   "cell_type": "code",
   "execution_count": 32,
   "metadata": {},
   "outputs": [
    {
     "name": "stderr",
     "output_type": "stream",
     "text": [
      "C:\\Users\\m\\Anaconda3\\lib\\site-packages\\ipykernel_launcher.py:6: SettingWithCopyWarning: \n",
      "A value is trying to be set on a copy of a slice from a DataFrame\n",
      "\n",
      "See the caveats in the documentation: http://pandas.pydata.org/pandas-docs/stable/indexing.html#indexing-view-versus-copy\n",
      "  \n",
      "C:\\Users\\m\\Anaconda3\\lib\\site-packages\\ipykernel_launcher.py:4: SettingWithCopyWarning: \n",
      "A value is trying to be set on a copy of a slice from a DataFrame\n",
      "\n",
      "See the caveats in the documentation: http://pandas.pydata.org/pandas-docs/stable/indexing.html#indexing-view-versus-copy\n",
      "  after removing the cwd from sys.path.\n"
     ]
    }
   ],
   "source": [
    "#添加变量“赠品”，代表此书是否有配套赠品，若“备注”中含有字符串“赠”、“送”，则为1，否则为0\n",
    "book['赠品']=book['书名']\n",
    "for i in range(498):\n",
    "    if '赠' in book['备注'][i] or '送' in book['备注'][i]:\n",
    "        book['赠品'][i]=1\n",
    "    else:\n",
    "        book['赠品'][i]=0"
   ]
  },
  {
   "cell_type": "code",
   "execution_count": 33,
   "metadata": {},
   "outputs": [],
   "source": [
    "#去除数值型的千位分隔符\n",
    "book['原价']=book['原价'].replace('1,080.00','1080.00')"
   ]
  },
  {
   "cell_type": "code",
   "execution_count": 34,
   "metadata": {},
   "outputs": [
    {
     "name": "stderr",
     "output_type": "stream",
     "text": [
      "C:\\Users\\m\\Anaconda3\\lib\\site-packages\\ipykernel_launcher.py:3: SettingWithCopyWarning: \n",
      "A value is trying to be set on a copy of a slice from a DataFrame\n",
      "\n",
      "See the caveats in the documentation: http://pandas.pydata.org/pandas-docs/stable/indexing.html#indexing-view-versus-copy\n",
      "  This is separate from the ipykernel package so we can avoid doing imports until\n"
     ]
    }
   ],
   "source": [
    "#由“原价”和“价格”数据计算此书折扣\n",
    "book['折扣']=book['价格']\n",
    "for i in range(498):\n",
    "    book['折扣'][i]=round((book['价格'][i]/float(book['原价'][i]))*10,2)"
   ]
  },
  {
   "cell_type": "code",
   "execution_count": 35,
   "metadata": {},
   "outputs": [],
   "source": [
    "#删除无用信息\n",
    "book.drop(['原价','出版社','出版时间','备注'],axis=1,inplace=True)"
   ]
  },
  {
   "cell_type": "code",
   "execution_count": 36,
   "metadata": {},
   "outputs": [
    {
     "data": {
      "text/html": [
       "<div>\n",
       "<style scoped>\n",
       "    .dataframe tbody tr th:only-of-type {\n",
       "        vertical-align: middle;\n",
       "    }\n",
       "\n",
       "    .dataframe tbody tr th {\n",
       "        vertical-align: top;\n",
       "    }\n",
       "\n",
       "    .dataframe thead th {\n",
       "        text-align: right;\n",
       "    }\n",
       "</style>\n",
       "<table border=\"1\" class=\"dataframe\">\n",
       "  <thead>\n",
       "    <tr style=\"text-align: right;\">\n",
       "      <th></th>\n",
       "      <th>排名</th>\n",
       "      <th>书名</th>\n",
       "      <th>评论数</th>\n",
       "      <th>推荐度</th>\n",
       "      <th>作者国别</th>\n",
       "      <th>五星评分次数</th>\n",
       "      <th>价格</th>\n",
       "      <th>出版时长</th>\n",
       "      <th>推荐</th>\n",
       "      <th>得奖</th>\n",
       "      <th>系列</th>\n",
       "      <th>赠品</th>\n",
       "      <th>折扣</th>\n",
       "    </tr>\n",
       "  </thead>\n",
       "  <tbody>\n",
       "    <tr>\n",
       "      <th>0</th>\n",
       "      <td>1</td>\n",
       "      <td>摆渡人3无境之爱</td>\n",
       "      <td>17884</td>\n",
       "      <td>100.0</td>\n",
       "      <td>0</td>\n",
       "      <td>10636</td>\n",
       "      <td>31.7</td>\n",
       "      <td>77</td>\n",
       "      <td>0</td>\n",
       "      <td>0</td>\n",
       "      <td>1</td>\n",
       "      <td>0</td>\n",
       "      <td>6.89</td>\n",
       "    </tr>\n",
       "    <tr>\n",
       "      <th>1</th>\n",
       "      <td>2</td>\n",
       "      <td>精进2：解锁万物的心智进化法</td>\n",
       "      <td>8128</td>\n",
       "      <td>100.0</td>\n",
       "      <td>1</td>\n",
       "      <td>7720</td>\n",
       "      <td>26.4</td>\n",
       "      <td>16</td>\n",
       "      <td>0</td>\n",
       "      <td>0</td>\n",
       "      <td>0</td>\n",
       "      <td>0</td>\n",
       "      <td>5.00</td>\n",
       "    </tr>\n",
       "    <tr>\n",
       "      <th>2</th>\n",
       "      <td>3</td>\n",
       "      <td>人生海海</td>\n",
       "      <td>56309</td>\n",
       "      <td>100.0</td>\n",
       "      <td>1</td>\n",
       "      <td>10822</td>\n",
       "      <td>55.0</td>\n",
       "      <td>62</td>\n",
       "      <td>1</td>\n",
       "      <td>0</td>\n",
       "      <td>0</td>\n",
       "      <td>0</td>\n",
       "      <td>10.00</td>\n",
       "    </tr>\n",
       "    <tr>\n",
       "      <th>3</th>\n",
       "      <td>4</td>\n",
       "      <td>成瘾：如何设计让人上瘾的产品、品牌和观念</td>\n",
       "      <td>34008</td>\n",
       "      <td>99.9</td>\n",
       "      <td>1</td>\n",
       "      <td>12697</td>\n",
       "      <td>32.7</td>\n",
       "      <td>656</td>\n",
       "      <td>0</td>\n",
       "      <td>0</td>\n",
       "      <td>0</td>\n",
       "      <td>0</td>\n",
       "      <td>6.67</td>\n",
       "    </tr>\n",
       "    <tr>\n",
       "      <th>4</th>\n",
       "      <td>5</td>\n",
       "      <td>白色橄榄树(全二册)</td>\n",
       "      <td>7607</td>\n",
       "      <td>100.0</td>\n",
       "      <td>1</td>\n",
       "      <td>4736</td>\n",
       "      <td>34.9</td>\n",
       "      <td>77</td>\n",
       "      <td>0</td>\n",
       "      <td>0</td>\n",
       "      <td>1</td>\n",
       "      <td>0</td>\n",
       "      <td>5.00</td>\n",
       "    </tr>\n",
       "  </tbody>\n",
       "</table>\n",
       "</div>"
      ],
      "text/plain": [
       "   排名                    书名    评论数    推荐度  作者国别  五星评分次数    价格 出版时长 推荐 得奖 系列  \\\n",
       "0   1              摆渡人3无境之爱  17884  100.0     0   10636  31.7   77  0  0  1   \n",
       "1   2        精进2：解锁万物的心智进化法   8128  100.0     1    7720  26.4   16  0  0  0   \n",
       "2   3                  人生海海  56309  100.0     1   10822  55.0   62  1  0  0   \n",
       "3   4  成瘾：如何设计让人上瘾的产品、品牌和观念  34008   99.9     1   12697  32.7  656  0  0  0   \n",
       "4   5            白色橄榄树(全二册)   7607  100.0     1    4736  34.9   77  0  0  1   \n",
       "\n",
       "  赠品     折扣  \n",
       "0  0   6.89  \n",
       "1  0   5.00  \n",
       "2  0  10.00  \n",
       "3  0   6.67  \n",
       "4  0   5.00  "
      ]
     },
     "execution_count": 36,
     "metadata": {},
     "output_type": "execute_result"
    }
   ],
   "source": [
    "book.head()"
   ]
  },
  {
   "cell_type": "code",
   "execution_count": 37,
   "metadata": {},
   "outputs": [
    {
     "name": "stdout",
     "output_type": "stream",
     "text": [
      "<class 'pandas.core.frame.DataFrame'>\n",
      "Int64Index: 498 entries, 0 to 497\n",
      "Data columns (total 13 columns):\n",
      "排名        498 non-null int64\n",
      "书名        498 non-null object\n",
      "评论数       498 non-null int64\n",
      "推荐度       498 non-null float64\n",
      "作者国别      498 non-null int64\n",
      "五星评分次数    498 non-null int64\n",
      "价格        498 non-null float64\n",
      "出版时长      498 non-null object\n",
      "推荐        498 non-null object\n",
      "得奖        498 non-null object\n",
      "系列        498 non-null object\n",
      "赠品        498 non-null object\n",
      "折扣        498 non-null float64\n",
      "dtypes: float64(3), int64(4), object(6)\n",
      "memory usage: 74.5+ KB\n"
     ]
    }
   ],
   "source": [
    "book.info()"
   ]
  },
  {
   "cell_type": "markdown",
   "metadata": {},
   "source": [
    "# 数据描述性统计"
   ]
  },
  {
   "cell_type": "markdown",
   "metadata": {},
   "source": [
    "### 数值型变量描述统计"
   ]
  },
  {
   "cell_type": "code",
   "execution_count": 38,
   "metadata": {},
   "outputs": [],
   "source": [
    "num_x=['评论数','推荐度','五星评分次数','价格','出版时长','折扣']"
   ]
  },
  {
   "cell_type": "code",
   "execution_count": 39,
   "metadata": {},
   "outputs": [
    {
     "data": {
      "text/html": [
       "<div>\n",
       "<style scoped>\n",
       "    .dataframe tbody tr th:only-of-type {\n",
       "        vertical-align: middle;\n",
       "    }\n",
       "\n",
       "    .dataframe tbody tr th {\n",
       "        vertical-align: top;\n",
       "    }\n",
       "\n",
       "    .dataframe thead th {\n",
       "        text-align: right;\n",
       "    }\n",
       "</style>\n",
       "<table border=\"1\" class=\"dataframe\">\n",
       "  <thead>\n",
       "    <tr style=\"text-align: right;\">\n",
       "      <th></th>\n",
       "      <th>评论数</th>\n",
       "      <th>推荐度</th>\n",
       "      <th>五星评分次数</th>\n",
       "      <th>价格</th>\n",
       "      <th>出版时长</th>\n",
       "      <th>折扣</th>\n",
       "    </tr>\n",
       "  </thead>\n",
       "  <tbody>\n",
       "    <tr>\n",
       "      <th>0</th>\n",
       "      <td>17884</td>\n",
       "      <td>100.0</td>\n",
       "      <td>10636</td>\n",
       "      <td>31.7</td>\n",
       "      <td>77</td>\n",
       "      <td>6.89</td>\n",
       "    </tr>\n",
       "    <tr>\n",
       "      <th>1</th>\n",
       "      <td>8128</td>\n",
       "      <td>100.0</td>\n",
       "      <td>7720</td>\n",
       "      <td>26.4</td>\n",
       "      <td>16</td>\n",
       "      <td>5.00</td>\n",
       "    </tr>\n",
       "    <tr>\n",
       "      <th>2</th>\n",
       "      <td>56309</td>\n",
       "      <td>100.0</td>\n",
       "      <td>10822</td>\n",
       "      <td>55.0</td>\n",
       "      <td>62</td>\n",
       "      <td>10.00</td>\n",
       "    </tr>\n",
       "    <tr>\n",
       "      <th>3</th>\n",
       "      <td>34008</td>\n",
       "      <td>99.9</td>\n",
       "      <td>12697</td>\n",
       "      <td>32.7</td>\n",
       "      <td>656</td>\n",
       "      <td>6.67</td>\n",
       "    </tr>\n",
       "    <tr>\n",
       "      <th>4</th>\n",
       "      <td>7607</td>\n",
       "      <td>100.0</td>\n",
       "      <td>4736</td>\n",
       "      <td>34.9</td>\n",
       "      <td>77</td>\n",
       "      <td>5.00</td>\n",
       "    </tr>\n",
       "  </tbody>\n",
       "</table>\n",
       "</div>"
      ],
      "text/plain": [
       "     评论数    推荐度  五星评分次数    价格 出版时长     折扣\n",
       "0  17884  100.0   10636  31.7   77   6.89\n",
       "1   8128  100.0    7720  26.4   16   5.00\n",
       "2  56309  100.0   10822  55.0   62  10.00\n",
       "3  34008   99.9   12697  32.7  656   6.67\n",
       "4   7607  100.0    4736  34.9   77   5.00"
      ]
     },
     "execution_count": 39,
     "metadata": {},
     "output_type": "execute_result"
    }
   ],
   "source": [
    "book[num_x].head()"
   ]
  },
  {
   "cell_type": "code",
   "execution_count": 40,
   "metadata": {},
   "outputs": [
    {
     "data": {
      "text/html": [
       "<div>\n",
       "<style scoped>\n",
       "    .dataframe tbody tr th:only-of-type {\n",
       "        vertical-align: middle;\n",
       "    }\n",
       "\n",
       "    .dataframe tbody tr th {\n",
       "        vertical-align: top;\n",
       "    }\n",
       "\n",
       "    .dataframe thead th {\n",
       "        text-align: right;\n",
       "    }\n",
       "</style>\n",
       "<table border=\"1\" class=\"dataframe\">\n",
       "  <thead>\n",
       "    <tr style=\"text-align: right;\">\n",
       "      <th></th>\n",
       "      <th>评论数</th>\n",
       "      <th>推荐度</th>\n",
       "      <th>五星评分次数</th>\n",
       "      <th>价格</th>\n",
       "      <th>折扣</th>\n",
       "    </tr>\n",
       "  </thead>\n",
       "  <tbody>\n",
       "    <tr>\n",
       "      <th>count</th>\n",
       "      <td>4.980000e+02</td>\n",
       "      <td>498.000000</td>\n",
       "      <td>498.000000</td>\n",
       "      <td>498.000000</td>\n",
       "      <td>498.000000</td>\n",
       "    </tr>\n",
       "    <tr>\n",
       "      <th>mean</th>\n",
       "      <td>1.443288e+05</td>\n",
       "      <td>99.916867</td>\n",
       "      <td>3602.363454</td>\n",
       "      <td>46.246586</td>\n",
       "      <td>5.690301</td>\n",
       "    </tr>\n",
       "    <tr>\n",
       "      <th>std</th>\n",
       "      <td>2.810571e+05</td>\n",
       "      <td>0.207011</td>\n",
       "      <td>7695.441752</td>\n",
       "      <td>59.672477</td>\n",
       "      <td>1.202738</td>\n",
       "    </tr>\n",
       "    <tr>\n",
       "      <th>min</th>\n",
       "      <td>9.100000e+01</td>\n",
       "      <td>97.700000</td>\n",
       "      <td>91.000000</td>\n",
       "      <td>7.500000</td>\n",
       "      <td>1.900000</td>\n",
       "    </tr>\n",
       "    <tr>\n",
       "      <th>25%</th>\n",
       "      <td>5.680000e+02</td>\n",
       "      <td>99.900000</td>\n",
       "      <td>308.000000</td>\n",
       "      <td>19.900000</td>\n",
       "      <td>5.000000</td>\n",
       "    </tr>\n",
       "    <tr>\n",
       "      <th>50%</th>\n",
       "      <td>2.481650e+04</td>\n",
       "      <td>100.000000</td>\n",
       "      <td>1227.000000</td>\n",
       "      <td>28.950000</td>\n",
       "      <td>5.000000</td>\n",
       "    </tr>\n",
       "    <tr>\n",
       "      <th>75%</th>\n",
       "      <td>1.735348e+05</td>\n",
       "      <td>100.000000</td>\n",
       "      <td>3416.000000</td>\n",
       "      <td>48.525000</td>\n",
       "      <td>6.680000</td>\n",
       "    </tr>\n",
       "    <tr>\n",
       "      <th>max</th>\n",
       "      <td>2.406789e+06</td>\n",
       "      <td>100.000000</td>\n",
       "      <td>87598.000000</td>\n",
       "      <td>609.900000</td>\n",
       "      <td>10.000000</td>\n",
       "    </tr>\n",
       "  </tbody>\n",
       "</table>\n",
       "</div>"
      ],
      "text/plain": [
       "                评论数         推荐度        五星评分次数          价格          折扣\n",
       "count  4.980000e+02  498.000000    498.000000  498.000000  498.000000\n",
       "mean   1.443288e+05   99.916867   3602.363454   46.246586    5.690301\n",
       "std    2.810571e+05    0.207011   7695.441752   59.672477    1.202738\n",
       "min    9.100000e+01   97.700000     91.000000    7.500000    1.900000\n",
       "25%    5.680000e+02   99.900000    308.000000   19.900000    5.000000\n",
       "50%    2.481650e+04  100.000000   1227.000000   28.950000    5.000000\n",
       "75%    1.735348e+05  100.000000   3416.000000   48.525000    6.680000\n",
       "max    2.406789e+06  100.000000  87598.000000  609.900000   10.000000"
      ]
     },
     "execution_count": 40,
     "metadata": {},
     "output_type": "execute_result"
    }
   ],
   "source": [
    "book[num_x].describe()"
   ]
  },
  {
   "cell_type": "code",
   "execution_count": 42,
   "metadata": {},
   "outputs": [
    {
     "data": {
      "text/html": [
       "<div>\n",
       "<style scoped>\n",
       "    .dataframe tbody tr th:only-of-type {\n",
       "        vertical-align: middle;\n",
       "    }\n",
       "\n",
       "    .dataframe tbody tr th {\n",
       "        vertical-align: top;\n",
       "    }\n",
       "\n",
       "    .dataframe thead th {\n",
       "        text-align: right;\n",
       "    }\n",
       "</style>\n",
       "<table border=\"1\" class=\"dataframe\">\n",
       "  <thead>\n",
       "    <tr style=\"text-align: right;\">\n",
       "      <th></th>\n",
       "      <th>评论数</th>\n",
       "      <th>推荐度</th>\n",
       "      <th>五星评分次数</th>\n",
       "      <th>价格</th>\n",
       "      <th>折扣</th>\n",
       "    </tr>\n",
       "  </thead>\n",
       "  <tbody>\n",
       "    <tr>\n",
       "      <th>评论数</th>\n",
       "      <td>1.000000</td>\n",
       "      <td>0.058146</td>\n",
       "      <td>0.400958</td>\n",
       "      <td>-0.043966</td>\n",
       "      <td>0.116157</td>\n",
       "    </tr>\n",
       "    <tr>\n",
       "      <th>推荐度</th>\n",
       "      <td>0.058146</td>\n",
       "      <td>1.000000</td>\n",
       "      <td>0.074461</td>\n",
       "      <td>-0.078200</td>\n",
       "      <td>-0.014898</td>\n",
       "    </tr>\n",
       "    <tr>\n",
       "      <th>五星评分次数</th>\n",
       "      <td>0.400958</td>\n",
       "      <td>0.074461</td>\n",
       "      <td>1.000000</td>\n",
       "      <td>0.010928</td>\n",
       "      <td>0.080233</td>\n",
       "    </tr>\n",
       "    <tr>\n",
       "      <th>价格</th>\n",
       "      <td>-0.043966</td>\n",
       "      <td>-0.078200</td>\n",
       "      <td>0.010928</td>\n",
       "      <td>1.000000</td>\n",
       "      <td>0.027549</td>\n",
       "    </tr>\n",
       "    <tr>\n",
       "      <th>折扣</th>\n",
       "      <td>0.116157</td>\n",
       "      <td>-0.014898</td>\n",
       "      <td>0.080233</td>\n",
       "      <td>0.027549</td>\n",
       "      <td>1.000000</td>\n",
       "    </tr>\n",
       "  </tbody>\n",
       "</table>\n",
       "</div>"
      ],
      "text/plain": [
       "             评论数       推荐度    五星评分次数        价格        折扣\n",
       "评论数     1.000000  0.058146  0.400958 -0.043966  0.116157\n",
       "推荐度     0.058146  1.000000  0.074461 -0.078200 -0.014898\n",
       "五星评分次数  0.400958  0.074461  1.000000  0.010928  0.080233\n",
       "价格     -0.043966 -0.078200  0.010928  1.000000  0.027549\n",
       "折扣      0.116157 -0.014898  0.080233  0.027549  1.000000"
      ]
     },
     "execution_count": 42,
     "metadata": {},
     "output_type": "execute_result"
    }
   ],
   "source": [
    "#数值型变量之间的相关系数\n",
    "book[num_x].corr() "
   ]
  },
  {
   "cell_type": "code",
   "execution_count": 43,
   "metadata": {},
   "outputs": [
    {
     "data": {
      "image/png": "[encoded data removed]",
      "text/plain": [
       "<Figure size 864x576 with 6 Axes>"
      ]
     },
     "metadata": {
      "needs_background": "light"
     },
     "output_type": "display_data"
    }
   ],
   "source": [
    "#数值型变量频数分布直方图\n",
    "book[num_x].hist(figsize=(12,8));"
   ]
  },
  {
   "cell_type": "code",
   "execution_count": 44,
   "metadata": {},
   "outputs": [],
   "source": [
    "#数值数据离散化\n",
    "book['五星评分次数区间']=pd.cut(book['五星评分次数'],[0,5000,10000,15000,20000,30000,200000],labels=['<5000','5000-10000','10000-15000','15000-20000','20000-30000','>30000'])\n",
    "book['价格区间']=pd.cut(book['价格'],[0.00,50.00,100.00,150.00,200.00,300.00,800.00],labels=['<50','50-100','100-150','150-200','200-300','>300'])\n",
    "book['评论数区间']=pd.cut(book['评论数'],[0,10000,20000,30000,40000,50000,60000,70000,80000,90000,100000,300000],labels=['<10000','10000-20000','20000-30000','30000-40000','40000-50000','50000-60000','60000-70000','70000-80000','80000-90000','90000-100000','>100000'])\n",
    "book['出版时长区间']=pd.cut(book['出版时长'],[0,50,100,200,300,400,500,600,700,800,900,1000,12000],labels=['<50','50-100','100-200','200-300','300-400','400-500','500-600','600-700','700-800','800-900','900-1000','>1000'])"
   ]
  },
  {
   "cell_type": "code",
   "execution_count": 45,
   "metadata": {},
   "outputs": [
    {
     "data": {
      "text/html": [
       "<div>\n",
       "<style scoped>\n",
       "    .dataframe tbody tr th:only-of-type {\n",
       "        vertical-align: middle;\n",
       "    }\n",
       "\n",
       "    .dataframe tbody tr th {\n",
       "        vertical-align: top;\n",
       "    }\n",
       "\n",
       "    .dataframe thead th {\n",
       "        text-align: right;\n",
       "    }\n",
       "</style>\n",
       "<table border=\"1\" class=\"dataframe\">\n",
       "  <thead>\n",
       "    <tr style=\"text-align: right;\">\n",
       "      <th></th>\n",
       "      <th>排名</th>\n",
       "      <th>比例</th>\n",
       "    </tr>\n",
       "    <tr>\n",
       "      <th>出版时长区间</th>\n",
       "      <th></th>\n",
       "      <th></th>\n",
       "    </tr>\n",
       "  </thead>\n",
       "  <tbody>\n",
       "    <tr>\n",
       "      <th>&lt;50</th>\n",
       "      <td>106</td>\n",
       "      <td>21.29</td>\n",
       "    </tr>\n",
       "    <tr>\n",
       "      <th>50-100</th>\n",
       "      <td>84</td>\n",
       "      <td>16.87</td>\n",
       "    </tr>\n",
       "    <tr>\n",
       "      <th>100-200</th>\n",
       "      <td>46</td>\n",
       "      <td>9.24</td>\n",
       "    </tr>\n",
       "    <tr>\n",
       "      <th>200-300</th>\n",
       "      <td>27</td>\n",
       "      <td>5.42</td>\n",
       "    </tr>\n",
       "    <tr>\n",
       "      <th>300-400</th>\n",
       "      <td>19</td>\n",
       "      <td>3.82</td>\n",
       "    </tr>\n",
       "    <tr>\n",
       "      <th>400-500</th>\n",
       "      <td>25</td>\n",
       "      <td>5.02</td>\n",
       "    </tr>\n",
       "    <tr>\n",
       "      <th>500-600</th>\n",
       "      <td>12</td>\n",
       "      <td>2.41</td>\n",
       "    </tr>\n",
       "    <tr>\n",
       "      <th>600-700</th>\n",
       "      <td>20</td>\n",
       "      <td>4.02</td>\n",
       "    </tr>\n",
       "    <tr>\n",
       "      <th>700-800</th>\n",
       "      <td>16</td>\n",
       "      <td>3.21</td>\n",
       "    </tr>\n",
       "    <tr>\n",
       "      <th>800-900</th>\n",
       "      <td>19</td>\n",
       "      <td>3.82</td>\n",
       "    </tr>\n",
       "    <tr>\n",
       "      <th>900-1000</th>\n",
       "      <td>6</td>\n",
       "      <td>1.20</td>\n",
       "    </tr>\n",
       "    <tr>\n",
       "      <th>&gt;1000</th>\n",
       "      <td>116</td>\n",
       "      <td>23.29</td>\n",
       "    </tr>\n",
       "    <tr>\n",
       "      <th>All</th>\n",
       "      <td>496</td>\n",
       "      <td>99.60</td>\n",
       "    </tr>\n",
       "  </tbody>\n",
       "</table>\n",
       "</div>"
      ],
      "text/plain": [
       "           排名     比例\n",
       "出版时长区间              \n",
       "<50       106  21.29\n",
       "50-100     84  16.87\n",
       "100-200    46   9.24\n",
       "200-300    27   5.42\n",
       "300-400    19   3.82\n",
       "400-500    25   5.02\n",
       "500-600    12   2.41\n",
       "600-700    20   4.02\n",
       "700-800    16   3.21\n",
       "800-900    19   3.82\n",
       "900-1000    6   1.20\n",
       ">1000     116  23.29\n",
       "All       496  99.60"
      ]
     },
     "execution_count": 45,
     "metadata": {},
     "output_type": "execute_result"
    }
   ],
   "source": [
    "t_fre = book.pivot_table(index='出版时长区间',values='排名',aggfunc=(len),margins=True)\n",
    "t_fre['比例']=np.round(t_fre / 498.00 *100,2)\n",
    "t_fre"
   ]
  },
  {
   "cell_type": "code",
   "execution_count": 46,
   "metadata": {},
   "outputs": [
    {
     "data": {
      "text/html": [
       "<div>\n",
       "<style scoped>\n",
       "    .dataframe tbody tr th:only-of-type {\n",
       "        vertical-align: middle;\n",
       "    }\n",
       "\n",
       "    .dataframe tbody tr th {\n",
       "        vertical-align: top;\n",
       "    }\n",
       "\n",
       "    .dataframe thead th {\n",
       "        text-align: right;\n",
       "    }\n",
       "</style>\n",
       "<table border=\"1\" class=\"dataframe\">\n",
       "  <thead>\n",
       "    <tr style=\"text-align: right;\">\n",
       "      <th></th>\n",
       "      <th>排名</th>\n",
       "      <th>比例</th>\n",
       "    </tr>\n",
       "    <tr>\n",
       "      <th>价格区间</th>\n",
       "      <th></th>\n",
       "      <th></th>\n",
       "    </tr>\n",
       "  </thead>\n",
       "  <tbody>\n",
       "    <tr>\n",
       "      <th>&lt;50</th>\n",
       "      <td>392</td>\n",
       "      <td>78.71</td>\n",
       "    </tr>\n",
       "    <tr>\n",
       "      <th>50-100</th>\n",
       "      <td>71</td>\n",
       "      <td>14.26</td>\n",
       "    </tr>\n",
       "    <tr>\n",
       "      <th>100-150</th>\n",
       "      <td>14</td>\n",
       "      <td>2.81</td>\n",
       "    </tr>\n",
       "    <tr>\n",
       "      <th>150-200</th>\n",
       "      <td>7</td>\n",
       "      <td>1.41</td>\n",
       "    </tr>\n",
       "    <tr>\n",
       "      <th>200-300</th>\n",
       "      <td>8</td>\n",
       "      <td>1.61</td>\n",
       "    </tr>\n",
       "    <tr>\n",
       "      <th>&gt;300</th>\n",
       "      <td>6</td>\n",
       "      <td>1.20</td>\n",
       "    </tr>\n",
       "    <tr>\n",
       "      <th>All</th>\n",
       "      <td>498</td>\n",
       "      <td>100.00</td>\n",
       "    </tr>\n",
       "  </tbody>\n",
       "</table>\n",
       "</div>"
      ],
      "text/plain": [
       "          排名      比例\n",
       "价格区间                \n",
       "<50      392   78.71\n",
       "50-100    71   14.26\n",
       "100-150   14    2.81\n",
       "150-200    7    1.41\n",
       "200-300    8    1.61\n",
       ">300       6    1.20\n",
       "All      498  100.00"
      ]
     },
     "execution_count": 46,
     "metadata": {},
     "output_type": "execute_result"
    }
   ],
   "source": [
    "w_fre = book.pivot_table(index='价格区间',values='排名',aggfunc=(len),margins=True)\n",
    "w_fre['比例']=np.round(w_fre / 498.00 *100,2)\n",
    "w_fre"
   ]
  },
  {
   "cell_type": "code",
   "execution_count": 47,
   "metadata": {},
   "outputs": [
    {
     "data": {
      "text/html": [
       "<div>\n",
       "<style scoped>\n",
       "    .dataframe tbody tr th:only-of-type {\n",
       "        vertical-align: middle;\n",
       "    }\n",
       "\n",
       "    .dataframe tbody tr th {\n",
       "        vertical-align: top;\n",
       "    }\n",
       "\n",
       "    .dataframe thead th {\n",
       "        text-align: right;\n",
       "    }\n",
       "</style>\n",
       "<table border=\"1\" class=\"dataframe\">\n",
       "  <thead>\n",
       "    <tr style=\"text-align: right;\">\n",
       "      <th></th>\n",
       "      <th>排名</th>\n",
       "      <th>比例</th>\n",
       "    </tr>\n",
       "    <tr>\n",
       "      <th>五星评分次数区间</th>\n",
       "      <th></th>\n",
       "      <th></th>\n",
       "    </tr>\n",
       "  </thead>\n",
       "  <tbody>\n",
       "    <tr>\n",
       "      <th>&lt;5000</th>\n",
       "      <td>412</td>\n",
       "      <td>82.73</td>\n",
       "    </tr>\n",
       "    <tr>\n",
       "      <th>5000-10000</th>\n",
       "      <td>47</td>\n",
       "      <td>9.44</td>\n",
       "    </tr>\n",
       "    <tr>\n",
       "      <th>10000-15000</th>\n",
       "      <td>17</td>\n",
       "      <td>3.41</td>\n",
       "    </tr>\n",
       "    <tr>\n",
       "      <th>15000-20000</th>\n",
       "      <td>8</td>\n",
       "      <td>1.61</td>\n",
       "    </tr>\n",
       "    <tr>\n",
       "      <th>20000-30000</th>\n",
       "      <td>5</td>\n",
       "      <td>1.00</td>\n",
       "    </tr>\n",
       "    <tr>\n",
       "      <th>&gt;30000</th>\n",
       "      <td>9</td>\n",
       "      <td>1.81</td>\n",
       "    </tr>\n",
       "    <tr>\n",
       "      <th>All</th>\n",
       "      <td>498</td>\n",
       "      <td>100.00</td>\n",
       "    </tr>\n",
       "  </tbody>\n",
       "</table>\n",
       "</div>"
      ],
      "text/plain": [
       "              排名      比例\n",
       "五星评分次数区间                \n",
       "<5000        412   82.73\n",
       "5000-10000    47    9.44\n",
       "10000-15000   17    3.41\n",
       "15000-20000    8    1.61\n",
       "20000-30000    5    1.00\n",
       ">30000         9    1.81\n",
       "All          498  100.00"
      ]
     },
     "execution_count": 47,
     "metadata": {},
     "output_type": "execute_result"
    }
   ],
   "source": [
    "w_fre = book.pivot_table(index='五星评分次数区间',values='排名',aggfunc=(len),margins=True)\n",
    "w_fre['比例']=np.round(w_fre / 498.00 *100,2)\n",
    "w_fre"
   ]
  },
  {
   "cell_type": "code",
   "execution_count": 48,
   "metadata": {},
   "outputs": [
    {
     "data": {
      "text/html": [
       "<div>\n",
       "<style scoped>\n",
       "    .dataframe tbody tr th:only-of-type {\n",
       "        vertical-align: middle;\n",
       "    }\n",
       "\n",
       "    .dataframe tbody tr th {\n",
       "        vertical-align: top;\n",
       "    }\n",
       "\n",
       "    .dataframe thead th {\n",
       "        text-align: right;\n",
       "    }\n",
       "</style>\n",
       "<table border=\"1\" class=\"dataframe\">\n",
       "  <thead>\n",
       "    <tr style=\"text-align: right;\">\n",
       "      <th></th>\n",
       "      <th>排名</th>\n",
       "      <th>比例</th>\n",
       "    </tr>\n",
       "    <tr>\n",
       "      <th>评论数区间</th>\n",
       "      <th></th>\n",
       "      <th></th>\n",
       "    </tr>\n",
       "  </thead>\n",
       "  <tbody>\n",
       "    <tr>\n",
       "      <th>&lt;10000</th>\n",
       "      <td>221</td>\n",
       "      <td>44.38</td>\n",
       "    </tr>\n",
       "    <tr>\n",
       "      <th>10000-20000</th>\n",
       "      <td>21</td>\n",
       "      <td>4.22</td>\n",
       "    </tr>\n",
       "    <tr>\n",
       "      <th>20000-30000</th>\n",
       "      <td>17</td>\n",
       "      <td>3.41</td>\n",
       "    </tr>\n",
       "    <tr>\n",
       "      <th>30000-40000</th>\n",
       "      <td>12</td>\n",
       "      <td>2.41</td>\n",
       "    </tr>\n",
       "    <tr>\n",
       "      <th>40000-50000</th>\n",
       "      <td>9</td>\n",
       "      <td>1.81</td>\n",
       "    </tr>\n",
       "    <tr>\n",
       "      <th>50000-60000</th>\n",
       "      <td>9</td>\n",
       "      <td>1.81</td>\n",
       "    </tr>\n",
       "    <tr>\n",
       "      <th>60000-70000</th>\n",
       "      <td>9</td>\n",
       "      <td>1.81</td>\n",
       "    </tr>\n",
       "    <tr>\n",
       "      <th>70000-80000</th>\n",
       "      <td>9</td>\n",
       "      <td>1.81</td>\n",
       "    </tr>\n",
       "    <tr>\n",
       "      <th>80000-90000</th>\n",
       "      <td>11</td>\n",
       "      <td>2.21</td>\n",
       "    </tr>\n",
       "    <tr>\n",
       "      <th>90000-100000</th>\n",
       "      <td>10</td>\n",
       "      <td>2.01</td>\n",
       "    </tr>\n",
       "    <tr>\n",
       "      <th>&gt;100000</th>\n",
       "      <td>101</td>\n",
       "      <td>20.28</td>\n",
       "    </tr>\n",
       "    <tr>\n",
       "      <th>All</th>\n",
       "      <td>429</td>\n",
       "      <td>86.14</td>\n",
       "    </tr>\n",
       "  </tbody>\n",
       "</table>\n",
       "</div>"
      ],
      "text/plain": [
       "               排名     比例\n",
       "评论数区间                   \n",
       "<10000        221  44.38\n",
       "10000-20000    21   4.22\n",
       "20000-30000    17   3.41\n",
       "30000-40000    12   2.41\n",
       "40000-50000     9   1.81\n",
       "50000-60000     9   1.81\n",
       "60000-70000     9   1.81\n",
       "70000-80000     9   1.81\n",
       "80000-90000    11   2.21\n",
       "90000-100000   10   2.01\n",
       ">100000       101  20.28\n",
       "All           429  86.14"
      ]
     },
     "execution_count": 48,
     "metadata": {},
     "output_type": "execute_result"
    }
   ],
   "source": [
    "w_fre = book.pivot_table(index='评论数区间',values='排名',aggfunc=(len),margins=True)\n",
    "w_fre['比例']=np.round(w_fre / 498.00 *100,2)\n",
    "w_fre"
   ]
  },
  {
   "cell_type": "code",
   "execution_count": 49,
   "metadata": {},
   "outputs": [
    {
     "data": {
      "text/html": [
       "<div>\n",
       "<style scoped>\n",
       "    .dataframe tbody tr th:only-of-type {\n",
       "        vertical-align: middle;\n",
       "    }\n",
       "\n",
       "    .dataframe tbody tr th {\n",
       "        vertical-align: top;\n",
       "    }\n",
       "\n",
       "    .dataframe thead th {\n",
       "        text-align: right;\n",
       "    }\n",
       "</style>\n",
       "<table border=\"1\" class=\"dataframe\">\n",
       "  <thead>\n",
       "    <tr style=\"text-align: right;\">\n",
       "      <th></th>\n",
       "      <th>排名</th>\n",
       "      <th>比例</th>\n",
       "    </tr>\n",
       "    <tr>\n",
       "      <th>推荐度</th>\n",
       "      <th></th>\n",
       "      <th></th>\n",
       "    </tr>\n",
       "  </thead>\n",
       "  <tbody>\n",
       "    <tr>\n",
       "      <th>97.7</th>\n",
       "      <td>1</td>\n",
       "      <td>0.20</td>\n",
       "    </tr>\n",
       "    <tr>\n",
       "      <th>98.1</th>\n",
       "      <td>1</td>\n",
       "      <td>0.20</td>\n",
       "    </tr>\n",
       "    <tr>\n",
       "      <th>98.7</th>\n",
       "      <td>1</td>\n",
       "      <td>0.20</td>\n",
       "    </tr>\n",
       "    <tr>\n",
       "      <th>98.9</th>\n",
       "      <td>1</td>\n",
       "      <td>0.20</td>\n",
       "    </tr>\n",
       "    <tr>\n",
       "      <th>99.1</th>\n",
       "      <td>5</td>\n",
       "      <td>1.00</td>\n",
       "    </tr>\n",
       "    <tr>\n",
       "      <th>99.2</th>\n",
       "      <td>3</td>\n",
       "      <td>0.60</td>\n",
       "    </tr>\n",
       "    <tr>\n",
       "      <th>99.3</th>\n",
       "      <td>1</td>\n",
       "      <td>0.20</td>\n",
       "    </tr>\n",
       "    <tr>\n",
       "      <th>99.4</th>\n",
       "      <td>2</td>\n",
       "      <td>0.40</td>\n",
       "    </tr>\n",
       "    <tr>\n",
       "      <th>99.5</th>\n",
       "      <td>3</td>\n",
       "      <td>0.60</td>\n",
       "    </tr>\n",
       "    <tr>\n",
       "      <th>99.6</th>\n",
       "      <td>12</td>\n",
       "      <td>2.41</td>\n",
       "    </tr>\n",
       "    <tr>\n",
       "      <th>99.7</th>\n",
       "      <td>9</td>\n",
       "      <td>1.81</td>\n",
       "    </tr>\n",
       "    <tr>\n",
       "      <th>99.8</th>\n",
       "      <td>29</td>\n",
       "      <td>5.82</td>\n",
       "    </tr>\n",
       "    <tr>\n",
       "      <th>99.9</th>\n",
       "      <td>112</td>\n",
       "      <td>22.49</td>\n",
       "    </tr>\n",
       "    <tr>\n",
       "      <th>100.0</th>\n",
       "      <td>318</td>\n",
       "      <td>63.86</td>\n",
       "    </tr>\n",
       "    <tr>\n",
       "      <th>All</th>\n",
       "      <td>498</td>\n",
       "      <td>100.00</td>\n",
       "    </tr>\n",
       "  </tbody>\n",
       "</table>\n",
       "</div>"
      ],
      "text/plain": [
       "        排名      比例\n",
       "推荐度               \n",
       "97.7     1    0.20\n",
       "98.1     1    0.20\n",
       "98.7     1    0.20\n",
       "98.9     1    0.20\n",
       "99.1     5    1.00\n",
       "99.2     3    0.60\n",
       "99.3     1    0.20\n",
       "99.4     2    0.40\n",
       "99.5     3    0.60\n",
       "99.6    12    2.41\n",
       "99.7     9    1.81\n",
       "99.8    29    5.82\n",
       "99.9   112   22.49\n",
       "100.0  318   63.86\n",
       "All    498  100.00"
      ]
     },
     "execution_count": 49,
     "metadata": {},
     "output_type": "execute_result"
    }
   ],
   "source": [
    "w_fre = book.pivot_table(index='推荐度',values='排名',aggfunc=(len),margins=True)\n",
    "w_fre['比例']=np.round(w_fre / 498.00 *100,2)\n",
    "w_fre"
   ]
  },
  {
   "cell_type": "markdown",
   "metadata": {},
   "source": [
    "### 类别型变量描述性统计"
   ]
  },
  {
   "cell_type": "code",
   "execution_count": 50,
   "metadata": {},
   "outputs": [
    {
     "data": {
      "text/html": [
       "<div>\n",
       "<style scoped>\n",
       "    .dataframe tbody tr th:only-of-type {\n",
       "        vertical-align: middle;\n",
       "    }\n",
       "\n",
       "    .dataframe tbody tr th {\n",
       "        vertical-align: top;\n",
       "    }\n",
       "\n",
       "    .dataframe thead th {\n",
       "        text-align: right;\n",
       "    }\n",
       "</style>\n",
       "<table border=\"1\" class=\"dataframe\">\n",
       "  <thead>\n",
       "    <tr style=\"text-align: right;\">\n",
       "      <th></th>\n",
       "      <th>排名</th>\n",
       "      <th>比例</th>\n",
       "    </tr>\n",
       "    <tr>\n",
       "      <th>作者国别</th>\n",
       "      <th></th>\n",
       "      <th></th>\n",
       "    </tr>\n",
       "  </thead>\n",
       "  <tbody>\n",
       "    <tr>\n",
       "      <th>0</th>\n",
       "      <td>222</td>\n",
       "      <td>44.58</td>\n",
       "    </tr>\n",
       "    <tr>\n",
       "      <th>1</th>\n",
       "      <td>276</td>\n",
       "      <td>55.42</td>\n",
       "    </tr>\n",
       "    <tr>\n",
       "      <th>All</th>\n",
       "      <td>498</td>\n",
       "      <td>100.00</td>\n",
       "    </tr>\n",
       "  </tbody>\n",
       "</table>\n",
       "</div>"
      ],
      "text/plain": [
       "       排名      比例\n",
       "作者国别             \n",
       "0     222   44.58\n",
       "1     276   55.42\n",
       "All   498  100.00"
      ]
     },
     "execution_count": 50,
     "metadata": {},
     "output_type": "execute_result"
    }
   ],
   "source": [
    "c_fre = book.pivot_table(index='作者国别',values='排名',aggfunc=(len),margins=True)\n",
    "c_fre['比例']=np.round(c_fre / 498.00 *100,2)\n",
    "c_fre"
   ]
  },
  {
   "cell_type": "code",
   "execution_count": 51,
   "metadata": {},
   "outputs": [
    {
     "data": {
      "text/html": [
       "<div>\n",
       "<style scoped>\n",
       "    .dataframe tbody tr th:only-of-type {\n",
       "        vertical-align: middle;\n",
       "    }\n",
       "\n",
       "    .dataframe tbody tr th {\n",
       "        vertical-align: top;\n",
       "    }\n",
       "\n",
       "    .dataframe thead th {\n",
       "        text-align: right;\n",
       "    }\n",
       "</style>\n",
       "<table border=\"1\" class=\"dataframe\">\n",
       "  <thead>\n",
       "    <tr style=\"text-align: right;\">\n",
       "      <th></th>\n",
       "      <th>排名</th>\n",
       "      <th>比例</th>\n",
       "    </tr>\n",
       "    <tr>\n",
       "      <th>推荐</th>\n",
       "      <th></th>\n",
       "      <th></th>\n",
       "    </tr>\n",
       "  </thead>\n",
       "  <tbody>\n",
       "    <tr>\n",
       "      <th>0</th>\n",
       "      <td>458</td>\n",
       "      <td>91.97</td>\n",
       "    </tr>\n",
       "    <tr>\n",
       "      <th>1</th>\n",
       "      <td>40</td>\n",
       "      <td>8.03</td>\n",
       "    </tr>\n",
       "    <tr>\n",
       "      <th>All</th>\n",
       "      <td>498</td>\n",
       "      <td>100.00</td>\n",
       "    </tr>\n",
       "  </tbody>\n",
       "</table>\n",
       "</div>"
      ],
      "text/plain": [
       "      排名      比例\n",
       "推荐              \n",
       "0    458   91.97\n",
       "1     40    8.03\n",
       "All  498  100.00"
      ]
     },
     "execution_count": 51,
     "metadata": {},
     "output_type": "execute_result"
    }
   ],
   "source": [
    "m_fre = book.pivot_table(index='推荐',values='排名',aggfunc=(len),margins=True)\n",
    "m_fre['比例']=np.round(m_fre / 498.00 *100,2)\n",
    "m_fre"
   ]
  },
  {
   "cell_type": "code",
   "execution_count": 52,
   "metadata": {},
   "outputs": [
    {
     "data": {
      "text/html": [
       "<div>\n",
       "<style scoped>\n",
       "    .dataframe tbody tr th:only-of-type {\n",
       "        vertical-align: middle;\n",
       "    }\n",
       "\n",
       "    .dataframe tbody tr th {\n",
       "        vertical-align: top;\n",
       "    }\n",
       "\n",
       "    .dataframe thead th {\n",
       "        text-align: right;\n",
       "    }\n",
       "</style>\n",
       "<table border=\"1\" class=\"dataframe\">\n",
       "  <thead>\n",
       "    <tr style=\"text-align: right;\">\n",
       "      <th></th>\n",
       "      <th>排名</th>\n",
       "      <th>比例</th>\n",
       "    </tr>\n",
       "    <tr>\n",
       "      <th>得奖</th>\n",
       "      <th></th>\n",
       "      <th></th>\n",
       "    </tr>\n",
       "  </thead>\n",
       "  <tbody>\n",
       "    <tr>\n",
       "      <th>0</th>\n",
       "      <td>480</td>\n",
       "      <td>96.39</td>\n",
       "    </tr>\n",
       "    <tr>\n",
       "      <th>1</th>\n",
       "      <td>18</td>\n",
       "      <td>3.61</td>\n",
       "    </tr>\n",
       "    <tr>\n",
       "      <th>All</th>\n",
       "      <td>498</td>\n",
       "      <td>100.00</td>\n",
       "    </tr>\n",
       "  </tbody>\n",
       "</table>\n",
       "</div>"
      ],
      "text/plain": [
       "      排名      比例\n",
       "得奖              \n",
       "0    480   96.39\n",
       "1     18    3.61\n",
       "All  498  100.00"
      ]
     },
     "execution_count": 52,
     "metadata": {},
     "output_type": "execute_result"
    }
   ],
   "source": [
    "m_fre = book.pivot_table(index='得奖',values='排名',aggfunc=(len),margins=True)\n",
    "m_fre['比例']=np.round(m_fre / 498.00 *100,2)\n",
    "m_fre"
   ]
  },
  {
   "cell_type": "code",
   "execution_count": 53,
   "metadata": {},
   "outputs": [
    {
     "data": {
      "text/html": [
       "<div>\n",
       "<style scoped>\n",
       "    .dataframe tbody tr th:only-of-type {\n",
       "        vertical-align: middle;\n",
       "    }\n",
       "\n",
       "    .dataframe tbody tr th {\n",
       "        vertical-align: top;\n",
       "    }\n",
       "\n",
       "    .dataframe thead th {\n",
       "        text-align: right;\n",
       "    }\n",
       "</style>\n",
       "<table border=\"1\" class=\"dataframe\">\n",
       "  <thead>\n",
       "    <tr style=\"text-align: right;\">\n",
       "      <th></th>\n",
       "      <th>排名</th>\n",
       "      <th>比例</th>\n",
       "    </tr>\n",
       "    <tr>\n",
       "      <th>系列</th>\n",
       "      <th></th>\n",
       "      <th></th>\n",
       "    </tr>\n",
       "  </thead>\n",
       "  <tbody>\n",
       "    <tr>\n",
       "      <th>0</th>\n",
       "      <td>389</td>\n",
       "      <td>78.11</td>\n",
       "    </tr>\n",
       "    <tr>\n",
       "      <th>1</th>\n",
       "      <td>109</td>\n",
       "      <td>21.89</td>\n",
       "    </tr>\n",
       "    <tr>\n",
       "      <th>All</th>\n",
       "      <td>498</td>\n",
       "      <td>100.00</td>\n",
       "    </tr>\n",
       "  </tbody>\n",
       "</table>\n",
       "</div>"
      ],
      "text/plain": [
       "      排名      比例\n",
       "系列              \n",
       "0    389   78.11\n",
       "1    109   21.89\n",
       "All  498  100.00"
      ]
     },
     "execution_count": 53,
     "metadata": {},
     "output_type": "execute_result"
    }
   ],
   "source": [
    "m_fre = book.pivot_table(index='系列',values='排名',aggfunc=(len),margins=True)\n",
    "m_fre['比例']=np.round(m_fre / 498.00 *100,2)\n",
    "m_fre"
   ]
  },
  {
   "cell_type": "code",
   "execution_count": 54,
   "metadata": {},
   "outputs": [
    {
     "data": {
      "text/html": [
       "<div>\n",
       "<style scoped>\n",
       "    .dataframe tbody tr th:only-of-type {\n",
       "        vertical-align: middle;\n",
       "    }\n",
       "\n",
       "    .dataframe tbody tr th {\n",
       "        vertical-align: top;\n",
       "    }\n",
       "\n",
       "    .dataframe thead th {\n",
       "        text-align: right;\n",
       "    }\n",
       "</style>\n",
       "<table border=\"1\" class=\"dataframe\">\n",
       "  <thead>\n",
       "    <tr style=\"text-align: right;\">\n",
       "      <th></th>\n",
       "      <th>排名</th>\n",
       "      <th>比例</th>\n",
       "    </tr>\n",
       "    <tr>\n",
       "      <th>赠品</th>\n",
       "      <th></th>\n",
       "      <th></th>\n",
       "    </tr>\n",
       "  </thead>\n",
       "  <tbody>\n",
       "    <tr>\n",
       "      <th>0</th>\n",
       "      <td>478</td>\n",
       "      <td>95.98</td>\n",
       "    </tr>\n",
       "    <tr>\n",
       "      <th>1</th>\n",
       "      <td>20</td>\n",
       "      <td>4.02</td>\n",
       "    </tr>\n",
       "    <tr>\n",
       "      <th>All</th>\n",
       "      <td>498</td>\n",
       "      <td>100.00</td>\n",
       "    </tr>\n",
       "  </tbody>\n",
       "</table>\n",
       "</div>"
      ],
      "text/plain": [
       "      排名      比例\n",
       "赠品              \n",
       "0    478   95.98\n",
       "1     20    4.02\n",
       "All  498  100.00"
      ]
     },
     "execution_count": 54,
     "metadata": {},
     "output_type": "execute_result"
    }
   ],
   "source": [
    "m_fre = book.pivot_table(index='赠品',values='排名',aggfunc=(len),margins=True)\n",
    "m_fre['比例']=np.round(m_fre / 498.00 *100,2)\n",
    "m_fre"
   ]
  },
  {
   "cell_type": "code",
   "execution_count": 55,
   "metadata": {},
   "outputs": [
    {
     "data": {
      "image/png": "[encoded data removed]",
      "text/plain": [
       "<Figure size 432x288 with 1 Axes>"
      ]
     },
     "metadata": {},
     "output_type": "display_data"
    }
   ],
   "source": [
    "#类别型变量饼状图\n",
    "if __name__ == '__main__':\n",
    "    labels='99%以下','99%-99.5%','99.6%-99.9%','100%'\n",
    "    fracs=[4,14,162,318]\n",
    "    plt.pie(x=fracs,labels=labels,autopct='%.0f%%')\n",
    "    plt.show()"
   ]
  },
  {
   "cell_type": "code",
   "execution_count": 56,
   "metadata": {},
   "outputs": [
    {
     "data": {
      "image/png": "[encoded data removed]",
      "text/plain": [
       "<Figure size 432x288 with 1 Axes>"
      ]
     },
     "metadata": {},
     "output_type": "display_data"
    }
   ],
   "source": [
    "if __name__ == '__main__':\n",
    "    labels='国内','国外'\n",
    "    fracs=[276,222]\n",
    "    plt.pie(x=fracs,labels=labels,autopct='%.0f%%')\n",
    "    plt.show()"
   ]
  },
  {
   "cell_type": "code",
   "execution_count": 57,
   "metadata": {},
   "outputs": [
    {
     "name": "stderr",
     "output_type": "stream",
     "text": [
      "C:\\Users\\m\\Anaconda3\\lib\\site-packages\\sklearn\\preprocessing\\data.py:323: DataConversionWarning: Data with input dtype int64, float64, object were all converted to float64 by MinMaxScaler.\n",
      "  return self.partial_fit(X, y)\n"
     ]
    }
   ],
   "source": [
    "#对数值型变量最大最小规范化\n",
    "from sklearn.preprocessing import MinMaxScaler\n",
    "sc = MinMaxScaler()\n",
    "book[num_x] = sc.fit_transform(book[num_x])"
   ]
  },
  {
   "cell_type": "code",
   "execution_count": 58,
   "metadata": {},
   "outputs": [
    {
     "name": "stderr",
     "output_type": "stream",
     "text": [
      "C:\\Users\\m\\Anaconda3\\lib\\site-packages\\sklearn\\utils\\validation.py:595: DataConversionWarning: Data with input dtype int64 was converted to float64 by MinMaxScaler.\n",
      "  warnings.warn(msg, DataConversionWarning)\n"
     ]
    }
   ],
   "source": [
    "#对“排名”最大最小规范化\n",
    "y=book['排名']\n",
    "yy = y[:,np.newaxis]\n",
    "yc=sc.fit_transform(yy)\n",
    "yn=yc[:,0]"
   ]
  },
  {
   "cell_type": "markdown",
   "metadata": {},
   "source": [
    "# 探究各自变量对排名的影响"
   ]
  },
  {
   "cell_type": "code",
   "execution_count": 59,
   "metadata": {},
   "outputs": [],
   "source": [
    "#将自变量汇总为DataFrame\n",
    "xcolumn=num_x+['作者国别','推荐','得奖','系列','赠品']\n",
    "x = pd.DataFrame( data = np.c_[book[num_x],book[['作者国别','推荐','得奖','系列','赠品']]],columns= xcolumn)"
   ]
  },
  {
   "cell_type": "code",
   "execution_count": 60,
   "metadata": {},
   "outputs": [
    {
     "data": {
      "text/html": [
       "<div>\n",
       "<style scoped>\n",
       "    .dataframe tbody tr th:only-of-type {\n",
       "        vertical-align: middle;\n",
       "    }\n",
       "\n",
       "    .dataframe tbody tr th {\n",
       "        vertical-align: top;\n",
       "    }\n",
       "\n",
       "    .dataframe thead th {\n",
       "        text-align: right;\n",
       "    }\n",
       "</style>\n",
       "<table border=\"1\" class=\"dataframe\">\n",
       "  <thead>\n",
       "    <tr style=\"text-align: right;\">\n",
       "      <th></th>\n",
       "      <th>评论数</th>\n",
       "      <th>推荐度</th>\n",
       "      <th>五星评分次数</th>\n",
       "      <th>价格</th>\n",
       "      <th>出版时长</th>\n",
       "      <th>折扣</th>\n",
       "      <th>作者国别</th>\n",
       "      <th>推荐</th>\n",
       "      <th>得奖</th>\n",
       "      <th>系列</th>\n",
       "      <th>赠品</th>\n",
       "    </tr>\n",
       "  </thead>\n",
       "  <tbody>\n",
       "    <tr>\n",
       "      <th>0</th>\n",
       "      <td>0.00739312</td>\n",
       "      <td>1</td>\n",
       "      <td>0.120505</td>\n",
       "      <td>0.0401726</td>\n",
       "      <td>0.00876939</td>\n",
       "      <td>0.616049</td>\n",
       "      <td>0</td>\n",
       "      <td>0</td>\n",
       "      <td>0</td>\n",
       "      <td>1</td>\n",
       "      <td>0</td>\n",
       "    </tr>\n",
       "    <tr>\n",
       "      <th>1</th>\n",
       "      <td>0.00333943</td>\n",
       "      <td>1</td>\n",
       "      <td>0.0871816</td>\n",
       "      <td>0.0313745</td>\n",
       "      <td>0.00289101</td>\n",
       "      <td>0.382716</td>\n",
       "      <td>1</td>\n",
       "      <td>0</td>\n",
       "      <td>0</td>\n",
       "      <td>0</td>\n",
       "      <td>0</td>\n",
       "    </tr>\n",
       "    <tr>\n",
       "      <th>2</th>\n",
       "      <td>0.023359</td>\n",
       "      <td>1</td>\n",
       "      <td>0.12263</td>\n",
       "      <td>0.0788513</td>\n",
       "      <td>0.00732389</td>\n",
       "      <td>1</td>\n",
       "      <td>1</td>\n",
       "      <td>1</td>\n",
       "      <td>0</td>\n",
       "      <td>0</td>\n",
       "      <td>0</td>\n",
       "    </tr>\n",
       "    <tr>\n",
       "      <th>3</th>\n",
       "      <td>0.0140928</td>\n",
       "      <td>0.956522</td>\n",
       "      <td>0.144057</td>\n",
       "      <td>0.0418327</td>\n",
       "      <td>0.0645659</td>\n",
       "      <td>0.588889</td>\n",
       "      <td>1</td>\n",
       "      <td>0</td>\n",
       "      <td>0</td>\n",
       "      <td>0</td>\n",
       "      <td>0</td>\n",
       "    </tr>\n",
       "    <tr>\n",
       "      <th>4</th>\n",
       "      <td>0.00312295</td>\n",
       "      <td>1</td>\n",
       "      <td>0.0530815</td>\n",
       "      <td>0.0454847</td>\n",
       "      <td>0.00876939</td>\n",
       "      <td>0.382716</td>\n",
       "      <td>1</td>\n",
       "      <td>0</td>\n",
       "      <td>0</td>\n",
       "      <td>1</td>\n",
       "      <td>0</td>\n",
       "    </tr>\n",
       "  </tbody>\n",
       "</table>\n",
       "</div>"
      ],
      "text/plain": [
       "          评论数       推荐度     五星评分次数         价格        出版时长        折扣 作者国别 推荐  \\\n",
       "0  0.00739312         1   0.120505  0.0401726  0.00876939  0.616049    0  0   \n",
       "1  0.00333943         1  0.0871816  0.0313745  0.00289101  0.382716    1  0   \n",
       "2    0.023359         1    0.12263  0.0788513  0.00732389         1    1  1   \n",
       "3   0.0140928  0.956522   0.144057  0.0418327   0.0645659  0.588889    1  0   \n",
       "4  0.00312295         1  0.0530815  0.0454847  0.00876939  0.382716    1  0   \n",
       "\n",
       "  得奖 系列 赠品  \n",
       "0  0  1  0  \n",
       "1  0  0  0  \n",
       "2  0  0  0  \n",
       "3  0  0  0  \n",
       "4  0  1  0  "
      ]
     },
     "execution_count": 60,
     "metadata": {},
     "output_type": "execute_result"
    }
   ],
   "source": [
    "x.head()"
   ]
  },
  {
   "cell_type": "code",
   "execution_count": 61,
   "metadata": {},
   "outputs": [
    {
     "data": {
      "image/png": "[encoded data removed]",
      "text/plain": [
       "<Figure size 1152x576 with 6 Axes>"
      ]
     },
     "metadata": {
      "needs_background": "light"
     },
     "output_type": "display_data"
    }
   ],
   "source": [
    "#绘制数值型变量与“排名”的散点图\n",
    "plt.figure(figsize=(16,8))\n",
    "for i in range(6):\n",
    "    plt.subplot(2,3,i+1)\n",
    "    name = num_x\n",
    "    plt.scatter(x=yc,y=book[num_x[i]]);\n",
    "    plt.title(name[i])\n",
    "    plt.savefig(\"Figbook.png\",bbox_inches='tight')"
   ]
  },
  {
   "cell_type": "markdown",
   "metadata": {},
   "source": [
    "由上述散点图，可以明显看出这11个自变量与“排名”的相关性较小，不适合做回归分析。"
   ]
  },
  {
   "cell_type": "markdown",
   "metadata": {},
   "source": [
    "# 层次聚类"
   ]
  },
  {
   "cell_type": "code",
   "execution_count": 63,
   "metadata": {},
   "outputs": [],
   "source": [
    "from scipy.cluster import hierarchy"
   ]
  },
  {
   "cell_type": "code",
   "execution_count": 64,
   "metadata": {},
   "outputs": [],
   "source": [
    "#先计算距离矩阵，再聚类\n",
    "dis = hierarchy.distance.pdist(x,'euclidean') \n",
    "clust = hierarchy.linkage(dis, method ='ward')"
   ]
  },
  {
   "cell_type": "code",
   "execution_count": 65,
   "metadata": {},
   "outputs": [
    {
     "data": {
      "text/plain": [
       "array([[4.07000000e+02, 4.08000000e+02, 4.15507056e-07, 2.00000000e+00],\n",
       "       [3.98000000e+02, 4.17000000e+02, 1.14276572e-05, 2.00000000e+00],\n",
       "       [4.98000000e+02, 4.99000000e+02, 4.04295677e-05, 4.00000000e+00],\n",
       "       ...,\n",
       "       [9.81000000e+02, 9.88000000e+02, 8.36416661e+00, 1.70000000e+02],\n",
       "       [9.91000000e+02, 9.92000000e+02, 1.14593141e+01, 2.77000000e+02],\n",
       "       [9.90000000e+02, 9.93000000e+02, 1.31413371e+01, 4.98000000e+02]])"
      ]
     },
     "execution_count": 65,
     "metadata": {},
     "output_type": "execute_result"
    }
   ],
   "source": [
    "clust"
   ]
  },
  {
   "cell_type": "code",
   "execution_count": 66,
   "metadata": {},
   "outputs": [
    {
     "data": {
      "text/html": [
       "<div>\n",
       "<style scoped>\n",
       "    .dataframe tbody tr th:only-of-type {\n",
       "        vertical-align: middle;\n",
       "    }\n",
       "\n",
       "    .dataframe tbody tr th {\n",
       "        vertical-align: top;\n",
       "    }\n",
       "\n",
       "    .dataframe thead th {\n",
       "        text-align: right;\n",
       "    }\n",
       "</style>\n",
       "<table border=\"1\" class=\"dataframe\">\n",
       "  <thead>\n",
       "    <tr style=\"text-align: right;\">\n",
       "      <th></th>\n",
       "      <th>c1</th>\n",
       "      <th>c2</th>\n",
       "      <th>distance</th>\n",
       "      <th>counts</th>\n",
       "    </tr>\n",
       "  </thead>\n",
       "  <tbody>\n",
       "    <tr>\n",
       "      <th>0</th>\n",
       "      <td>407.0</td>\n",
       "      <td>408.0</td>\n",
       "      <td>4.155071e-07</td>\n",
       "      <td>2.0</td>\n",
       "    </tr>\n",
       "    <tr>\n",
       "      <th>1</th>\n",
       "      <td>398.0</td>\n",
       "      <td>417.0</td>\n",
       "      <td>1.142766e-05</td>\n",
       "      <td>2.0</td>\n",
       "    </tr>\n",
       "    <tr>\n",
       "      <th>2</th>\n",
       "      <td>498.0</td>\n",
       "      <td>499.0</td>\n",
       "      <td>4.042957e-05</td>\n",
       "      <td>4.0</td>\n",
       "    </tr>\n",
       "    <tr>\n",
       "      <th>3</th>\n",
       "      <td>376.0</td>\n",
       "      <td>458.0</td>\n",
       "      <td>1.257598e-04</td>\n",
       "      <td>2.0</td>\n",
       "    </tr>\n",
       "    <tr>\n",
       "      <th>4</th>\n",
       "      <td>158.0</td>\n",
       "      <td>161.0</td>\n",
       "      <td>1.375900e-04</td>\n",
       "      <td>2.0</td>\n",
       "    </tr>\n",
       "  </tbody>\n",
       "</table>\n",
       "</div>"
      ],
      "text/plain": [
       "      c1     c2      distance  counts\n",
       "0  407.0  408.0  4.155071e-07     2.0\n",
       "1  398.0  417.0  1.142766e-05     2.0\n",
       "2  498.0  499.0  4.042957e-05     4.0\n",
       "3  376.0  458.0  1.257598e-04     2.0\n",
       "4  158.0  161.0  1.375900e-04     2.0"
      ]
     },
     "execution_count": 66,
     "metadata": {},
     "output_type": "execute_result"
    }
   ],
   "source": [
    "#查看凝聚式聚类过程结果\n",
    "pd.DataFrame(data=clust,columns=['c1','c2','distance','counts']).head()"
   ]
  },
  {
   "cell_type": "code",
   "execution_count": 67,
   "metadata": {},
   "outputs": [
    {
     "data": {
      "image/png": "[encoded data removed]",
      "text/plain": [
       "<Figure size 1152x576 with 1 Axes>"
      ]
     },
     "metadata": {
      "needs_background": "light"
     },
     "output_type": "display_data"
    }
   ],
   "source": [
    "#画聚类层次图\n",
    "plt.figure(figsize=(16,8))\n",
    "p = hierarchy.dendrogram(clust,orientation='right',labels = x.index) #orientation树根方向\n",
    "plt.grid()"
   ]
  },
  {
   "cell_type": "code",
   "execution_count": 68,
   "metadata": {},
   "outputs": [
    {
     "data": {
      "image/png": "[encoded data removed]",
      "text/plain": [
       "<Figure size 1152x432 with 1 Axes>"
      ]
     },
     "metadata": {
      "needs_background": "light"
     },
     "output_type": "display_data"
    }
   ],
   "source": [
    "#聚类的类间距\n",
    "plt.figure(figsize=(16,6))\n",
    "plt.plot(clust[:,2])    \n",
    "plt.xticks(range(0,498)) #规定x轴刻度\n",
    "plt.grid()"
   ]
  },
  {
   "cell_type": "code",
   "execution_count": 69,
   "metadata": {},
   "outputs": [],
   "source": [
    "#确定最佳类数\n",
    "label = hierarchy.cut_tree(clust,n_clusters=4)"
   ]
  },
  {
   "cell_type": "code",
   "execution_count": 70,
   "metadata": {},
   "outputs": [],
   "source": [
    "#做出带有聚类类别的数据集\n",
    "x_label= pd.Series(label.ravel(),name='label',index=x.index)\n",
    "data_label = pd.concat([x,x_label],axis=1)"
   ]
  },
  {
   "cell_type": "code",
   "execution_count": 71,
   "metadata": {},
   "outputs": [
    {
     "data": {
      "text/plain": [
       "1    221\n",
       "3    134\n",
       "0    107\n",
       "2     36\n",
       "Name: label, dtype: int64"
      ]
     },
     "execution_count": 71,
     "metadata": {},
     "output_type": "execute_result"
    }
   ],
   "source": [
    "data_label['label'].value_counts()"
   ]
  },
  {
   "cell_type": "markdown",
   "metadata": {},
   "source": [
    "# k均值聚类"
   ]
  },
  {
   "cell_type": "code",
   "execution_count": 73,
   "metadata": {},
   "outputs": [
    {
     "data": {
      "text/html": [
       "<div>\n",
       "<style scoped>\n",
       "    .dataframe tbody tr th:only-of-type {\n",
       "        vertical-align: middle;\n",
       "    }\n",
       "\n",
       "    .dataframe tbody tr th {\n",
       "        vertical-align: top;\n",
       "    }\n",
       "\n",
       "    .dataframe thead th {\n",
       "        text-align: right;\n",
       "    }\n",
       "</style>\n",
       "<table border=\"1\" class=\"dataframe\">\n",
       "  <thead>\n",
       "    <tr style=\"text-align: right;\">\n",
       "      <th></th>\n",
       "      <th>评论数</th>\n",
       "      <th>推荐度</th>\n",
       "      <th>五星评分次数</th>\n",
       "      <th>价格</th>\n",
       "      <th>出版时长</th>\n",
       "      <th>折扣</th>\n",
       "      <th>作者国别</th>\n",
       "      <th>推荐</th>\n",
       "      <th>得奖</th>\n",
       "      <th>系列</th>\n",
       "      <th>赠品</th>\n",
       "    </tr>\n",
       "  </thead>\n",
       "  <tbody>\n",
       "    <tr>\n",
       "      <th>0</th>\n",
       "      <td>0.070807</td>\n",
       "      <td>0.980528</td>\n",
       "      <td>0.040334</td>\n",
       "      <td>0.044640</td>\n",
       "      <td>0.066771</td>\n",
       "      <td>0.461925</td>\n",
       "      <td>-1.110223e-16</td>\n",
       "      <td>0.122699</td>\n",
       "      <td>0.036810</td>\n",
       "      <td>0.000000e+00</td>\n",
       "      <td>0.036810</td>\n",
       "    </tr>\n",
       "    <tr>\n",
       "      <th>1</th>\n",
       "      <td>0.046584</td>\n",
       "      <td>0.954983</td>\n",
       "      <td>0.026681</td>\n",
       "      <td>0.040010</td>\n",
       "      <td>0.057064</td>\n",
       "      <td>0.486999</td>\n",
       "      <td>1.000000e+00</td>\n",
       "      <td>0.061947</td>\n",
       "      <td>0.013274</td>\n",
       "      <td>-2.775558e-17</td>\n",
       "      <td>0.039823</td>\n",
       "    </tr>\n",
       "    <tr>\n",
       "      <th>2</th>\n",
       "      <td>0.071873</td>\n",
       "      <td>0.951363</td>\n",
       "      <td>0.055135</td>\n",
       "      <td>0.160803</td>\n",
       "      <td>0.085144</td>\n",
       "      <td>0.423227</td>\n",
       "      <td>0.000000e+00</td>\n",
       "      <td>0.067797</td>\n",
       "      <td>0.101695</td>\n",
       "      <td>1.000000e+00</td>\n",
       "      <td>0.050847</td>\n",
       "    </tr>\n",
       "    <tr>\n",
       "      <th>3</th>\n",
       "      <td>0.070722</td>\n",
       "      <td>0.964348</td>\n",
       "      <td>0.082514</td>\n",
       "      <td>0.124509</td>\n",
       "      <td>0.083930</td>\n",
       "      <td>0.454148</td>\n",
       "      <td>1.000000e+00</td>\n",
       "      <td>0.040000</td>\n",
       "      <td>0.060000</td>\n",
       "      <td>1.000000e+00</td>\n",
       "      <td>0.040000</td>\n",
       "    </tr>\n",
       "  </tbody>\n",
       "</table>\n",
       "</div>"
      ],
      "text/plain": [
       "        评论数       推荐度    五星评分次数        价格      出版时长        折扣          作者国别  \\\n",
       "0  0.070807  0.980528  0.040334  0.044640  0.066771  0.461925 -1.110223e-16   \n",
       "1  0.046584  0.954983  0.026681  0.040010  0.057064  0.486999  1.000000e+00   \n",
       "2  0.071873  0.951363  0.055135  0.160803  0.085144  0.423227  0.000000e+00   \n",
       "3  0.070722  0.964348  0.082514  0.124509  0.083930  0.454148  1.000000e+00   \n",
       "\n",
       "         推荐        得奖            系列        赠品  \n",
       "0  0.122699  0.036810  0.000000e+00  0.036810  \n",
       "1  0.061947  0.013274 -2.775558e-17  0.039823  \n",
       "2  0.067797  0.101695  1.000000e+00  0.050847  \n",
       "3  0.040000  0.060000  1.000000e+00  0.040000  "
      ]
     },
     "execution_count": 73,
     "metadata": {},
     "output_type": "execute_result"
    }
   ],
   "source": [
    "from sklearn import cluster \n",
    "k=4\n",
    "kmeans = cluster.KMeans(n_clusters=k,init='k-means++',copy_x=True)\n",
    "kmeans.fit(x)\n",
    "label_k = kmeans.labels_ #获取各观测聚类标签\n",
    "centroids = pd.DataFrame(kmeans.cluster_centers_ , columns=x.columns)          #获取聚类中心,并转化为Dataframe\n",
    "centroids"
   ]
  },
  {
   "cell_type": "code",
   "execution_count": 74,
   "metadata": {},
   "outputs": [],
   "source": [
    "import seaborn as sns"
   ]
  },
  {
   "cell_type": "code",
   "execution_count": 75,
   "metadata": {
    "scrolled": false
   },
   "outputs": [
    {
     "data": {
      "text/plain": [
       "<matplotlib.axes._subplots.AxesSubplot at 0x26d177d9518>"
      ]
     },
     "execution_count": 75,
     "metadata": {},
     "output_type": "execute_result"
    },
    {
     "data": {
      "image/png": "[encoded data removed]",
      "text/plain": [
       "<Figure size 1152x432 with 1 Axes>"
      ]
     },
     "metadata": {
      "needs_background": "light"
     },
     "output_type": "display_data"
    }
   ],
   "source": [
    "#以直方图显示各类质心的各属性值\n",
    "centroids[x.columns].T.plot(kind='bar',figsize=(16,6))"
   ]
  },
  {
   "cell_type": "code",
   "execution_count": 76,
   "metadata": {},
   "outputs": [],
   "source": [
    "for i in data_label.columns:\n",
    "    data_label[i]=data_label[i].astype(float)"
   ]
  },
  {
   "cell_type": "code",
   "execution_count": 77,
   "metadata": {
    "scrolled": false
   },
   "outputs": [
    {
     "name": "stderr",
     "output_type": "stream",
     "text": [
      "C:\\Users\\m\\Anaconda3\\lib\\site-packages\\scipy\\stats\\stats.py:1713: FutureWarning: Using a non-tuple sequence for multidimensional indexing is deprecated; use `arr[tuple(seq)]` instead of `arr[seq]`. In the future this will be interpreted as an array index, `arr[np.array(seq)]`, which will result either in an error or a different result.\n",
      "  return np.add.reduce(sorted[indexer] * weights, axis=axis) / sumval\n"
     ]
    },
    {
     "data": {
      "image/png": "[encoded data removed]",
      "text/plain": [
       "<Figure size 1152x1440 with 11 Axes>"
      ]
     },
     "metadata": {
      "needs_background": "light"
     },
     "output_type": "display_data"
    }
   ],
   "source": [
    "#以小提琴图查看各变量各类上的分布\n",
    "plt.figure(figsize=(16,20))\n",
    "for i,c in enumerate(x.columns):\n",
    "    plt.subplot(6,2,i+1)\n",
    "    sns.violinplot(x='label',y=c,data=data_label);"
   ]
  },
  {
   "cell_type": "markdown",
   "metadata": {},
   "source": [
    "### 获取聚类结果的评估指标"
   ]
  },
  {
   "cell_type": "code",
   "execution_count": 87,
   "metadata": {},
   "outputs": [],
   "source": [
    "from sklearn.metrics import silhouette_score,calinski_harabaz_score"
   ]
  },
  {
   "cell_type": "code",
   "execution_count": 88,
   "metadata": {},
   "outputs": [
    {
     "name": "stderr",
     "output_type": "stream",
     "text": [
      "C:\\Users\\m\\Anaconda3\\lib\\site-packages\\sklearn\\utils\\validation.py:761: DataConversionWarning: A column-vector y was passed when a 1d array was expected. Please change the shape of y to (n_samples, ), for example using ravel().\n",
      "  y = column_or_1d(y, warn=True)\n"
     ]
    },
    {
     "data": {
      "text/plain": [
       "0.5224311303794152"
      ]
     },
     "execution_count": 88,
     "metadata": {},
     "output_type": "execute_result"
    }
   ],
   "source": [
    "#计算轮廓系数（0，1）之间有效，比较同一数据集的不同聚类结果时，该值越大越好（相同聚类数），随着聚类个数增加，该值逐渐增大\n",
    "lkxsh = silhouette_score(x, label, metric='euclidean')         #层次聚类结果\n",
    "lkxsh"
   ]
  },
  {
   "cell_type": "code",
   "execution_count": 89,
   "metadata": {},
   "outputs": [
    {
     "name": "stderr",
     "output_type": "stream",
     "text": [
      "C:\\Users\\m\\Anaconda3\\lib\\site-packages\\sklearn\\utils\\validation.py:761: DataConversionWarning: A column-vector y was passed when a 1d array was expected. Please change the shape of y to (n_samples, ), for example using ravel().\n",
      "  y = column_or_1d(y, warn=True)\n",
      "C:\\Users\\m\\Anaconda3\\lib\\site-packages\\sklearn\\utils\\validation.py:761: DataConversionWarning: A column-vector y was passed when a 1d array was expected. Please change the shape of y to (n_samples, ), for example using ravel().\n",
      "  y = column_or_1d(y, warn=True)\n"
     ]
    },
    {
     "data": {
      "text/plain": [
       "(1001.158731295056, 237.54885357902864)"
      ]
     },
     "execution_count": 89,
     "metadata": {},
     "output_type": "execute_result"
    }
   ],
   "source": [
    "#calinski_harabaz index 等于平均类间离差和 除以  平均类内离差平方和\n",
    "#该指标越大，聚类质量越好\n",
    "ljlnbk = calinski_harabaz_score(data_label, label) \n",
    "ljlnbh = calinski_harabaz_score(x, label) \n",
    "ljlnbk,ljlnbh"
   ]
  },
  {
   "cell_type": "markdown",
   "metadata": {},
   "source": [
    "# 各类书籍的主要特征"
   ]
  },
  {
   "cell_type": "markdown",
   "metadata": {},
   "source": [
    "“作者国别”，“推荐”，“得奖”，“系列”，“赠品”五个变量对区分不同组有重要作用"
   ]
  },
  {
   "cell_type": "markdown",
   "metadata": {},
   "source": [
    "第0类：作者国别较均衡，推荐较少，得奖较少，系列套书较多，赠品较少；\n",
    "第1类：国内作者较多，推荐较少，得奖较少，系列套书较少，赠品较少；\n",
    "第2类：作者国别较均衡，全部受推荐，未得奖，系列套书较少，无赠品；\n",
    "第3类：全部为国外作者，未受推荐，未得奖，无系列套书，无赠品。"
   ]
  }
 ],
 "metadata": {
  "kernelspec": {
   "display_name": "Python 3",
   "language": "python",
   "name": "python3"
  },
  "language_info": {
   "codemirror_mode": {
    "name": "ipython",
    "version": 3
   },
   "file_extension": ".py",
   "mimetype": "text/x-python",
   "name": "python",
   "nbconvert_exporter": "python",
   "pygments_lexer": "ipython3",
   "version": "3.7.4"
  }
 },
 "nbformat": 4,
 "nbformat_minor": 2
}
