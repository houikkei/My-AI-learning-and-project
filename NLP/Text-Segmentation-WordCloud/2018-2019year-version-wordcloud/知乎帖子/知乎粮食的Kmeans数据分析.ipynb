{
 "cells": [
  {
   "cell_type": "code",
   "execution_count": 25,
   "metadata": {},
   "outputs": [],
   "source": [
    "import pandas as pd\n",
    "import numpy as np\n",
    "import matplotlib.pyplot as plt\n",
    "import seaborn as sns\n",
    "\n",
    "plt.rcParams['font.sans-serif'] = ['SimHei']\n",
    "plt.rcParams['axes.unicode_minus'] = False"
   ]
  },
  {
   "cell_type": "code",
   "execution_count": 26,
   "metadata": {},
   "outputs": [],
   "source": [
    "file1=r'疫情尚未结束，多国禁止粮食出口，老百姓需要囤积粮食吗？.csv'\n",
    "comment1=pd.read_csv(file1,index_col=0)"
   ]
  },
  {
   "cell_type": "code",
   "execution_count": 27,
   "metadata": {
    "scrolled": true
   },
   "outputs": [
    {
     "data": {
      "text/html": [
       "<div>\n",
       "<style scoped>\n",
       "    .dataframe tbody tr th:only-of-type {\n",
       "        vertical-align: middle;\n",
       "    }\n",
       "\n",
       "    .dataframe tbody tr th {\n",
       "        vertical-align: top;\n",
       "    }\n",
       "\n",
       "    .dataframe thead th {\n",
       "        text-align: right;\n",
       "    }\n",
       "</style>\n",
       "<table border=\"1\" class=\"dataframe\">\n",
       "  <thead>\n",
       "    <tr style=\"text-align: right;\">\n",
       "      <th></th>\n",
       "      <th>author</th>\n",
       "      <th>voteup_count</th>\n",
       "      <th>content</th>\n",
       "      <th>headline</th>\n",
       "      <th>gender</th>\n",
       "      <th>created_time</th>\n",
       "      <th>updated_time</th>\n",
       "      <th>comment_count</th>\n",
       "      <th>thanks_count</th>\n",
       "      <th>excerpt</th>\n",
       "    </tr>\n",
       "    <tr>\n",
       "      <th>No.</th>\n",
       "      <th></th>\n",
       "      <th></th>\n",
       "      <th></th>\n",
       "      <th></th>\n",
       "      <th></th>\n",
       "      <th></th>\n",
       "      <th></th>\n",
       "      <th></th>\n",
       "      <th></th>\n",
       "      <th></th>\n",
       "    </tr>\n",
       "  </thead>\n",
       "  <tbody>\n",
       "    <tr>\n",
       "      <th>1</th>\n",
       "      <td>大闸蟹</td>\n",
       "      <td>17642</td>\n",
       "      <td>&lt;p&gt;温故而知新。&lt;/p&gt;&lt;p&gt;07-08次贷危机后是什么，是粮食危机，中招的是谁？是菲律宾...</td>\n",
       "      <td>食烟火的不识烟火的烟火</td>\n",
       "      <td>1.0</td>\n",
       "      <td>1585756046</td>\n",
       "      <td>1586103599</td>\n",
       "      <td>1191</td>\n",
       "      <td>1202</td>\n",
       "      <td>温故而知新。 07-08次贷危机后是什么，是粮食危机，中招的是谁？是菲律宾。 全球根本不缺粮...</td>\n",
       "    </tr>\n",
       "    <tr>\n",
       "      <th>2</th>\n",
       "      <td>共青团中央</td>\n",
       "      <td>5785</td>\n",
       "      <td>&lt;p&gt;近日，网上传言疫情可能引发全球粮食危机，有声音号召网友“空下来去超市买点米，囤三个月的...</td>\n",
       "      <td>共青团中央知乎官方帐号</td>\n",
       "      <td>1.0</td>\n",
       "      <td>1585813901</td>\n",
       "      <td>1585813901</td>\n",
       "      <td>1016</td>\n",
       "      <td>480</td>\n",
       "      <td>近日，网上传言疫情可能引发全球粮食危机，有声音号召网友“空下来去超市买点米，囤三个月的粮”。...</td>\n",
       "    </tr>\n",
       "    <tr>\n",
       "      <th>3</th>\n",
       "      <td>邱垠</td>\n",
       "      <td>2523</td>\n",
       "      <td>&lt;p&gt;完全，完全，完全，不需要。&lt;/p&gt;&lt;p&gt;我是学粮食储藏的一名大三学生。之前已经答过一个...</td>\n",
       "      <td>有梦想的咸鱼大学生</td>\n",
       "      <td>-1.0</td>\n",
       "      <td>1585785979</td>\n",
       "      <td>1585795038</td>\n",
       "      <td>428</td>\n",
       "      <td>186</td>\n",
       "      <td>完全，完全，完全，不需要。 我是学粮食储藏的一名大三学生。之前已经答过一个这样的问题，也是没...</td>\n",
       "    </tr>\n",
       "    <tr>\n",
       "      <th>4</th>\n",
       "      <td>dhchen</td>\n",
       "      <td>800</td>\n",
       "      <td>&lt;p&gt;要囤。&lt;/p&gt;&lt;p&gt;但是，不是囤粮食。&lt;/p&gt;&lt;p&gt;囤点肉，奶粉和常用药。&lt;/p&gt;&lt;p...</td>\n",
       "      <td>Ph.D. in Mathematics</td>\n",
       "      <td>1.0</td>\n",
       "      <td>1585797091</td>\n",
       "      <td>1585798459</td>\n",
       "      <td>189</td>\n",
       "      <td>67</td>\n",
       "      <td>要囤。 但是，不是囤粮食。 囤点肉，奶粉和常用药。 为什么？因为在中国，粮食储备非常够。粮食...</td>\n",
       "    </tr>\n",
       "    <tr>\n",
       "      <th>5</th>\n",
       "      <td>正解局</td>\n",
       "      <td>8031</td>\n",
       "      <td>&lt;figure data-size=\"normal\"&gt;&lt;img src=\"https://p...</td>\n",
       "      <td>穿透信息迷雾，正解中国成长的力量。</td>\n",
       "      <td>-1.0</td>\n",
       "      <td>1585633758</td>\n",
       "      <td>1585634061</td>\n",
       "      <td>1047</td>\n",
       "      <td>708</td>\n",
       "      <td>[图片] ◆要回答这个问题，可以从中国几种主要粮食的进出口情况入手来分析。14亿的人口大国，...</td>\n",
       "    </tr>\n",
       "  </tbody>\n",
       "</table>\n",
       "</div>"
      ],
      "text/plain": [
       "     author  voteup_count                                            content  \\\n",
       "No.                                                                            \n",
       "1       大闸蟹         17642  <p>温故而知新。</p><p>07-08次贷危机后是什么，是粮食危机，中招的是谁？是菲律宾...   \n",
       "2     共青团中央          5785  <p>近日，网上传言疫情可能引发全球粮食危机，有声音号召网友“空下来去超市买点米，囤三个月的...   \n",
       "3        邱垠          2523  <p>完全，完全，完全，不需要。</p><p>我是学粮食储藏的一名大三学生。之前已经答过一个...   \n",
       "4    dhchen           800  <p>要囤。</p><p>但是，不是囤粮食。</p><p>囤点肉，奶粉和常用药。</p><p...   \n",
       "5       正解局          8031  <figure data-size=\"normal\"><img src=\"https://p...   \n",
       "\n",
       "                 headline  gender  created_time  updated_time  comment_count  \\\n",
       "No.                                                                            \n",
       "1             食烟火的不识烟火的烟火     1.0    1585756046    1586103599           1191   \n",
       "2             共青团中央知乎官方帐号     1.0    1585813901    1585813901           1016   \n",
       "3               有梦想的咸鱼大学生    -1.0    1585785979    1585795038            428   \n",
       "4    Ph.D. in Mathematics     1.0    1585797091    1585798459            189   \n",
       "5       穿透信息迷雾，正解中国成长的力量。    -1.0    1585633758    1585634061           1047   \n",
       "\n",
       "     thanks_count                                            excerpt  \n",
       "No.                                                                   \n",
       "1            1202  温故而知新。 07-08次贷危机后是什么，是粮食危机，中招的是谁？是菲律宾。 全球根本不缺粮...  \n",
       "2             480  近日，网上传言疫情可能引发全球粮食危机，有声音号召网友“空下来去超市买点米，囤三个月的粮”。...  \n",
       "3             186  完全，完全，完全，不需要。 我是学粮食储藏的一名大三学生。之前已经答过一个这样的问题，也是没...  \n",
       "4              67  要囤。 但是，不是囤粮食。 囤点肉，奶粉和常用药。 为什么？因为在中国，粮食储备非常够。粮食...  \n",
       "5             708  [图片] ◆要回答这个问题，可以从中国几种主要粮食的进出口情况入手来分析。14亿的人口大国，...  "
      ]
     },
     "execution_count": 27,
     "metadata": {},
     "output_type": "execute_result"
    }
   ],
   "source": [
    "comment1.head()"
   ]
  },
  {
   "cell_type": "code",
   "execution_count": 69,
   "metadata": {},
   "outputs": [
    {
     "data": {
      "text/plain": [
       "Index(['author', 'voteup_count', 'content', 'headline', 'gender',\n",
       "       'created_time', 'updated_time', 'comment_count', 'thanks_count',\n",
       "       'excerpt', 'label'],\n",
       "      dtype='object')"
      ]
     },
     "execution_count": 69,
     "metadata": {},
     "output_type": "execute_result"
    }
   ],
   "source": [
    "comment1.columns"
   ]
  },
  {
   "cell_type": "code",
   "execution_count": 92,
   "metadata": {},
   "outputs": [],
   "source": [
    "column=[ 'comment_count','gender','thanks_count', 'voteup_count']"
   ]
  },
  {
   "cell_type": "code",
   "execution_count": 93,
   "metadata": {},
   "outputs": [],
   "source": [
    "data1=comment1[column].copy()"
   ]
  },
  {
   "cell_type": "code",
   "execution_count": 102,
   "metadata": {},
   "outputs": [],
   "source": [
    "data1['gender'].fillna(value=0,inplace=True)"
   ]
  },
  {
   "cell_type": "code",
   "execution_count": 103,
   "metadata": {},
   "outputs": [],
   "source": [
    "from sklearn.preprocessing import MinMaxScaler"
   ]
  },
  {
   "cell_type": "code",
   "execution_count": 104,
   "metadata": {},
   "outputs": [],
   "source": [
    "data11 = MinMaxScaler().fit_transform(data1)\n",
    "data1 = pd.DataFrame(data11,index=data1.index,columns=data1.columns)"
   ]
  },
  {
   "cell_type": "code",
   "execution_count": 105,
   "metadata": {
    "scrolled": true
   },
   "outputs": [
    {
     "data": {
      "text/plain": [
       "<seaborn.axisgrid.PairGrid at 0x1a43deb8748>"
      ]
     },
     "execution_count": 105,
     "metadata": {},
     "output_type": "execute_result"
    },
    {
     "data": {
      "image/png": "[encoded data removed]",
      "text/plain": [
       "<Figure size 720x720 with 20 Axes>"
      ]
     },
     "metadata": {
      "needs_background": "light"
     },
     "output_type": "display_data"
    }
   ],
   "source": [
    "sns.pairplot(data1)"
   ]
  },
  {
   "cell_type": "code",
   "execution_count": 106,
   "metadata": {},
   "outputs": [],
   "source": [
    "from scipy.cluster import hierarchy  #层次聚类"
   ]
  },
  {
   "cell_type": "code",
   "execution_count": 107,
   "metadata": {},
   "outputs": [],
   "source": [
    "#先计算距离矩阵，再聚类（类间距）\n",
    "dis = hierarchy.distance.pdist(data1,'euclidean') "
   ]
  },
  {
   "cell_type": "code",
   "execution_count": 108,
   "metadata": {},
   "outputs": [],
   "source": [
    "clust = hierarchy.linkage(dis, method ='ward') "
   ]
  },
  {
   "cell_type": "code",
   "execution_count": 109,
   "metadata": {},
   "outputs": [
    {
     "data": {
      "image/png": "[encoded data removed]",
      "text/plain": [
       "<Figure size 1152x576 with 1 Axes>"
      ]
     },
     "metadata": {
      "needs_background": "light"
     },
     "output_type": "display_data"
    }
   ],
   "source": [
    "#画聚类层次图\n",
    "plt.figure(figsize=(16,8))\n",
    "p = hierarchy.dendrogram(clust,orientation='right',labels = data1.index)#orientation='right,left,bottom'\n",
    "plt.grid()"
   ]
  },
  {
   "cell_type": "markdown",
   "metadata": {},
   "source": [
    "可以看出分成四类比较合适"
   ]
  },
  {
   "cell_type": "code",
   "execution_count": 79,
   "metadata": {},
   "outputs": [],
   "source": [
    "from sklearn.cluster import KMeans  #k均值聚类"
   ]
  },
  {
   "cell_type": "code",
   "execution_count": 117,
   "metadata": {},
   "outputs": [
    {
     "data": {
      "text/html": [
       "<div>\n",
       "<style scoped>\n",
       "    .dataframe tbody tr th:only-of-type {\n",
       "        vertical-align: middle;\n",
       "    }\n",
       "\n",
       "    .dataframe tbody tr th {\n",
       "        vertical-align: top;\n",
       "    }\n",
       "\n",
       "    .dataframe thead th {\n",
       "        text-align: right;\n",
       "    }\n",
       "</style>\n",
       "<table border=\"1\" class=\"dataframe\">\n",
       "  <thead>\n",
       "    <tr style=\"text-align: right;\">\n",
       "      <th></th>\n",
       "      <th>comment_count</th>\n",
       "      <th>gender</th>\n",
       "      <th>thanks_count</th>\n",
       "      <th>voteup_count</th>\n",
       "      <th>label</th>\n",
       "    </tr>\n",
       "  </thead>\n",
       "  <tbody>\n",
       "    <tr>\n",
       "      <th>0</th>\n",
       "      <td>0.002740</td>\n",
       "      <td>1.000000e+00</td>\n",
       "      <td>0.001486</td>\n",
       "      <td>0.000811</td>\n",
       "      <td>1.000000e+00</td>\n",
       "    </tr>\n",
       "    <tr>\n",
       "      <th>1</th>\n",
       "      <td>0.002567</td>\n",
       "      <td>1.165734e-15</td>\n",
       "      <td>0.000740</td>\n",
       "      <td>0.000580</td>\n",
       "      <td>-7.771561e-15</td>\n",
       "    </tr>\n",
       "    <tr>\n",
       "      <th>2</th>\n",
       "      <td>0.000865</td>\n",
       "      <td>5.000000e-01</td>\n",
       "      <td>0.000428</td>\n",
       "      <td>0.000168</td>\n",
       "      <td>2.000000e+00</td>\n",
       "    </tr>\n",
       "    <tr>\n",
       "      <th>3</th>\n",
       "      <td>0.910719</td>\n",
       "      <td>6.666667e-01</td>\n",
       "      <td>0.662784</td>\n",
       "      <td>0.594377</td>\n",
       "      <td>3.000000e+00</td>\n",
       "    </tr>\n",
       "  </tbody>\n",
       "</table>\n",
       "</div>"
      ],
      "text/plain": [
       "   comment_count        gender  thanks_count  voteup_count         label\n",
       "0       0.002740  1.000000e+00      0.001486      0.000811  1.000000e+00\n",
       "1       0.002567  1.165734e-15      0.000740      0.000580 -7.771561e-15\n",
       "2       0.000865  5.000000e-01      0.000428      0.000168  2.000000e+00\n",
       "3       0.910719  6.666667e-01      0.662784      0.594377  3.000000e+00"
      ]
     },
     "execution_count": 117,
     "metadata": {},
     "output_type": "execute_result"
    }
   ],
   "source": [
    "k=4\n",
    "kmeans = KMeans(n_clusters=k,init='k-means++')#init='k-means++'为选择初始质心的方法，同时需要指定调整次数max_iter=300(默认)\n",
    "kmeans.fit(data1)#kmeans为训练好的聚类模型\n",
    "label_k = kmeans.labels_ #获取各观测聚类标签\n",
    "centroids = pd.DataFrame(kmeans.cluster_centers_ , columns=data1.columns)          #获取聚类中心,并转化为Dataframe\n",
    "centroids"
   ]
  },
  {
   "cell_type": "code",
   "execution_count": 111,
   "metadata": {},
   "outputs": [],
   "source": [
    "data1['label']=label_k\n",
    "comment1['label']=label_k"
   ]
  },
  {
   "cell_type": "code",
   "execution_count": 112,
   "metadata": {},
   "outputs": [
    {
     "name": "stdout",
     "output_type": "stream",
     "text": [
      "<class 'pandas.core.frame.DataFrame'>\n",
      "Int64Index: 1469 entries, 1 to 1469\n",
      "Data columns (total 11 columns):\n",
      " #   Column         Non-Null Count  Dtype  \n",
      "---  ------         --------------  -----  \n",
      " 0   author         1468 non-null   object \n",
      " 1   voteup_count   1469 non-null   int64  \n",
      " 2   content        1469 non-null   object \n",
      " 3   headline       851 non-null    object \n",
      " 4   gender         1336 non-null   float64\n",
      " 5   created_time   1469 non-null   int64  \n",
      " 6   updated_time   1469 non-null   int64  \n",
      " 7   comment_count  1469 non-null   int64  \n",
      " 8   thanks_count   1469 non-null   int64  \n",
      " 9   excerpt        1469 non-null   object \n",
      " 10  label          1469 non-null   int32  \n",
      "dtypes: float64(1), int32(1), int64(5), object(4)\n",
      "memory usage: 132.0+ KB\n"
     ]
    }
   ],
   "source": [
    "comment1.info()"
   ]
  },
  {
   "cell_type": "code",
   "execution_count": 118,
   "metadata": {},
   "outputs": [
    {
     "data": {
      "text/plain": [
       "0    774\n",
       "1    525\n",
       "2    167\n",
       "3      3\n",
       "Name: label, dtype: int64"
      ]
     },
     "execution_count": 118,
     "metadata": {},
     "output_type": "execute_result"
    }
   ],
   "source": [
    "comment1['label'].value_counts()"
   ]
  },
  {
   "cell_type": "code",
   "execution_count": 119,
   "metadata": {},
   "outputs": [],
   "source": [
    "a=comment1[comment1['label']==0]\n",
    "b=comment1[comment1['label']==1]\n",
    "c=comment1[comment1['label']==2]\n",
    "d=comment1[comment1['label']==3]"
   ]
  },
  {
   "cell_type": "code",
   "execution_count": 120,
   "metadata": {},
   "outputs": [],
   "source": [
    "for s in [a,b,c,d]:\n",
    "    s=s.drop(axis=1,columns=['label'])\n"
   ]
  },
  {
   "cell_type": "code",
   "execution_count": 126,
   "metadata": {},
   "outputs": [],
   "source": [
    "a.to_csv(\"点赞量很高的评论.csv\",encoding='utf_8_sig',index=False)\n",
    "b.to_csv(\"点赞量中等的评论.csv\",encoding='utf_8_sig',index=False)\n",
    "c.to_csv(\"点赞量很少的评论.csv\",encoding='utf_8_sig',index=False)\n",
    "d.to_csv(\"点赞量极高的评论.csv\",encoding='utf_8_sig',index=False)"
   ]
  },
  {
   "cell_type": "code",
   "execution_count": null,
   "metadata": {},
   "outputs": [],
   "source": []
  },
  {
   "cell_type": "code",
   "execution_count": null,
   "metadata": {},
   "outputs": [],
   "source": []
  }
 ],
 "metadata": {
  "kernelspec": {
   "display_name": "Python 3",
   "language": "python",
   "name": "python3"
  },
  "language_info": {
   "codemirror_mode": {
    "name": "ipython",
    "version": 3
   },
   "file_extension": ".py",
   "mimetype": "text/x-python",
   "name": "python",
   "nbconvert_exporter": "python",
   "pygments_lexer": "ipython3",
   "version": "3.7.6"
  }
 },
 "nbformat": 4,
 "nbformat_minor": 4
}
