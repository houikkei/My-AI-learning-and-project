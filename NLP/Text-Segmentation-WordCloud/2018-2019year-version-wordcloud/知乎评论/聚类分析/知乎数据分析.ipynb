{
 "cells": [
  {
   "cell_type": "code",
   "execution_count": 7,
   "metadata": {},
   "outputs": [],
   "source": [
    "%matplotlib inline\n",
    "import pandas as pd\n",
    "import numpy as np\n",
    "import matplotlib.pyplot as plt\n",
    "import seaborn as sns\n",
    "\n",
    "plt.rcParams['font.sans-serif'] = ['SimHei']\n",
    "plt.rcParams['axes.unicode_minus'] = False"
   ]
  },
  {
   "cell_type": "code",
   "execution_count": 8,
   "metadata": {},
   "outputs": [],
   "source": [
    "file1=r'd:\\dm\\zhihu1.csv'\n",
    "file2=r'd:\\dm\\zhihu2.csv'\n",
    "comment1=pd.read_csv(file1,index_col=0)\n",
    "comment2=pd.read_csv(file2,encoding='ANSI',index_col=0)"
   ]
  },
  {
   "cell_type": "code",
   "execution_count": 9,
   "metadata": {},
   "outputs": [
    {
     "data": {
      "text/html": [
       "<div>\n",
       "<style scoped>\n",
       "    .dataframe tbody tr th:only-of-type {\n",
       "        vertical-align: middle;\n",
       "    }\n",
       "\n",
       "    .dataframe tbody tr th {\n",
       "        vertical-align: top;\n",
       "    }\n",
       "\n",
       "    .dataframe thead th {\n",
       "        text-align: right;\n",
       "    }\n",
       "</style>\n",
       "<table border=\"1\" class=\"dataframe\">\n",
       "  <thead>\n",
       "    <tr style=\"text-align: right;\">\n",
       "      <th></th>\n",
       "      <th>author</th>\n",
       "      <th>comment_count</th>\n",
       "      <th>content</th>\n",
       "      <th>created_time</th>\n",
       "      <th>excerpt</th>\n",
       "      <th>gender</th>\n",
       "      <th>headline</th>\n",
       "      <th>thanks_count</th>\n",
       "      <th>updated_time</th>\n",
       "      <th>voteup_count</th>\n",
       "    </tr>\n",
       "    <tr>\n",
       "      <th>No.</th>\n",
       "      <th></th>\n",
       "      <th></th>\n",
       "      <th></th>\n",
       "      <th></th>\n",
       "      <th></th>\n",
       "      <th></th>\n",
       "      <th></th>\n",
       "      <th></th>\n",
       "      <th></th>\n",
       "      <th></th>\n",
       "    </tr>\n",
       "  </thead>\n",
       "  <tbody>\n",
       "    <tr>\n",
       "      <th>1</th>\n",
       "      <td>司马懿</td>\n",
       "      <td>424</td>\n",
       "      <td>&lt;p&gt;博士二年级的时候，我和导师帮助法国规制部门研究两家法国超市在某个区域的竞争政策问题。&lt;...</td>\n",
       "      <td>1558478546</td>\n",
       "      <td>博士二年级的时候，我和导师帮助法国规制部门研究两家法国超市在某个区域的竞争政策问题。我说：「...</td>\n",
       "      <td>1.0</td>\n",
       "      <td>三国英雄士，四朝经济臣</td>\n",
       "      <td>783</td>\n",
       "      <td>1558514838</td>\n",
       "      <td>5127</td>\n",
       "    </tr>\n",
       "    <tr>\n",
       "      <th>2</th>\n",
       "      <td>吴域</td>\n",
       "      <td>37</td>\n",
       "      <td>&lt;p&gt;去美国访问，与纽约州藤校毕业的工程师聊天，他在赞扬中国经济发展和一带一路倡议的同时，表...</td>\n",
       "      <td>1558447794</td>\n",
       "      <td>去美国访问，与纽约州藤校毕业的工程师聊天，他在赞扬中国经济发展和一带一路倡议的同时，表达出对...</td>\n",
       "      <td>1.0</td>\n",
       "      <td>NaN</td>\n",
       "      <td>58</td>\n",
       "      <td>1558557354</td>\n",
       "      <td>333</td>\n",
       "    </tr>\n",
       "    <tr>\n",
       "      <th>3</th>\n",
       "      <td>Nash</td>\n",
       "      <td>10</td>\n",
       "      <td>&lt;p&gt;以下并非成熟想法，也只是针对当前问题的一点点抛砖，以供讨论。&lt;/p&gt;&lt;p&gt;======...</td>\n",
       "      <td>1558599566</td>\n",
       "      <td>以下并非成熟想法，也只是针对当前问题的一点点抛砖，以供讨论。================...</td>\n",
       "      <td>1.0</td>\n",
       "      <td>一个永远在学习路上的经济柠檬发考题与砖工</td>\n",
       "      <td>27</td>\n",
       "      <td>1558599957</td>\n",
       "      <td>144</td>\n",
       "    </tr>\n",
       "    <tr>\n",
       "      <th>4</th>\n",
       "      <td>排骨</td>\n",
       "      <td>0</td>\n",
       "      <td>&lt;p&gt;如果不从简单的华为来看，而从产业经济学的角度上看，其实主要的还是会让美国支出的成本变高...</td>\n",
       "      <td>1559550419</td>\n",
       "      <td>如果不从简单的华为来看，而从产业经济学的角度上看，其实主要的还是会让美国支出的成本变高。换句...</td>\n",
       "      <td>1.0</td>\n",
       "      <td>公众号“留学声”，育秀和cosimo日本语学校理事，咨询微信jptest-cn</td>\n",
       "      <td>3</td>\n",
       "      <td>1559550898</td>\n",
       "      <td>11</td>\n",
       "    </tr>\n",
       "    <tr>\n",
       "      <th>5</th>\n",
       "      <td>我在过马路</td>\n",
       "      <td>33</td>\n",
       "      <td>&lt;p&gt;更新:&lt;/p&gt;&lt;p&gt;今天美国怂了，无条件跟伊朗谈判，开心地被打脸。国际油价是涨不上去了...</td>\n",
       "      <td>1558456161</td>\n",
       "      <td>更新:今天美国怂了，无条件跟伊朗谈判，开心地被打脸。国际油价是涨不上去了。 中国的反制行为影...</td>\n",
       "      <td>1.0</td>\n",
       "      <td>知识有限的知识分子</td>\n",
       "      <td>50</td>\n",
       "      <td>1559565712</td>\n",
       "      <td>285</td>\n",
       "    </tr>\n",
       "  </tbody>\n",
       "</table>\n",
       "</div>"
      ],
      "text/plain": [
       "    author  comment_count                                            content  \\\n",
       "No.                                                                            \n",
       "1      司马懿            424  <p>博士二年级的时候，我和导师帮助法国规制部门研究两家法国超市在某个区域的竞争政策问题。<...   \n",
       "2       吴域             37  <p>去美国访问，与纽约州藤校毕业的工程师聊天，他在赞扬中国经济发展和一带一路倡议的同时，表...   \n",
       "3     Nash             10  <p>以下并非成熟想法，也只是针对当前问题的一点点抛砖，以供讨论。</p><p>======...   \n",
       "4       排骨              0  <p>如果不从简单的华为来看，而从产业经济学的角度上看，其实主要的还是会让美国支出的成本变高...   \n",
       "5    我在过马路             33  <p>更新:</p><p>今天美国怂了，无条件跟伊朗谈判，开心地被打脸。国际油价是涨不上去了...   \n",
       "\n",
       "     created_time                                            excerpt  gender  \\\n",
       "No.                                                                            \n",
       "1      1558478546  博士二年级的时候，我和导师帮助法国规制部门研究两家法国超市在某个区域的竞争政策问题。我说：「...     1.0   \n",
       "2      1558447794  去美国访问，与纽约州藤校毕业的工程师聊天，他在赞扬中国经济发展和一带一路倡议的同时，表达出对...     1.0   \n",
       "3      1558599566  以下并非成熟想法，也只是针对当前问题的一点点抛砖，以供讨论。================...     1.0   \n",
       "4      1559550419  如果不从简单的华为来看，而从产业经济学的角度上看，其实主要的还是会让美国支出的成本变高。换句...     1.0   \n",
       "5      1558456161  更新:今天美国怂了，无条件跟伊朗谈判，开心地被打脸。国际油价是涨不上去了。 中国的反制行为影...     1.0   \n",
       "\n",
       "                                    headline  thanks_count  updated_time  \\\n",
       "No.                                                                        \n",
       "1                                三国英雄士，四朝经济臣           783    1558514838   \n",
       "2                                        NaN            58    1558557354   \n",
       "3                       一个永远在学习路上的经济柠檬发考题与砖工            27    1558599957   \n",
       "4    公众号“留学声”，育秀和cosimo日本语学校理事，咨询微信jptest-cn             3    1559550898   \n",
       "5                                  知识有限的知识分子            50    1559565712   \n",
       "\n",
       "     voteup_count  \n",
       "No.                \n",
       "1            5127  \n",
       "2             333  \n",
       "3             144  \n",
       "4              11  \n",
       "5             285  "
      ]
     },
     "execution_count": 9,
     "metadata": {},
     "output_type": "execute_result"
    }
   ],
   "source": [
    "comment1.head()"
   ]
  },
  {
   "cell_type": "code",
   "execution_count": 10,
   "metadata": {},
   "outputs": [
    {
     "data": {
      "text/plain": [
       "Index(['author', 'comment_count', 'content', 'created_time', 'excerpt',\n",
       "       'gender', 'headline', 'thanks_count', 'updated_time', 'voteup_count'],\n",
       "      dtype='object')"
      ]
     },
     "execution_count": 10,
     "metadata": {},
     "output_type": "execute_result"
    }
   ],
   "source": [
    "comment1.columns"
   ]
  },
  {
   "cell_type": "code",
   "execution_count": 11,
   "metadata": {},
   "outputs": [],
   "source": [
    "column=[ 'comment_count','gender', 'thanks_count', 'voteup_count']"
   ]
  },
  {
   "cell_type": "code",
   "execution_count": 53,
   "metadata": {},
   "outputs": [
    {
     "name": "stderr",
     "output_type": "stream",
     "text": [
      "D:\\python\\lib\\site-packages\\ipykernel_launcher.py:1: FutureWarning: Sorting because non-concatenation axis is not aligned. A future version\n",
      "of pandas will change to not sort by default.\n",
      "\n",
      "To accept the future behavior, pass 'sort=False'.\n",
      "\n",
      "To retain the current behavior and silence the warning, pass 'sort=True'.\n",
      "\n",
      "  \"\"\"Entry point for launching an IPython kernel.\n"
     ]
    }
   ],
   "source": [
    "comment2=pd.concat((comment1,comment2),axis=0)"
   ]
  },
  {
   "cell_type": "code",
   "execution_count": 54,
   "metadata": {},
   "outputs": [],
   "source": [
    "data1=comment1[column].copy()\n",
    "data2=comment2[column].copy()"
   ]
  },
  {
   "cell_type": "code",
   "execution_count": 55,
   "metadata": {},
   "outputs": [],
   "source": [
    "data1['gender'].fillna(value=0,inplace=True)\n",
    "data2['gender'].fillna(value=0,inplace=True)"
   ]
  },
  {
   "cell_type": "code",
   "execution_count": 56,
   "metadata": {},
   "outputs": [],
   "source": [
    "from sklearn.preprocessing import MinMaxScaler"
   ]
  },
  {
   "cell_type": "code",
   "execution_count": 57,
   "metadata": {},
   "outputs": [
    {
     "name": "stderr",
     "output_type": "stream",
     "text": [
      "D:\\python\\lib\\site-packages\\sklearn\\preprocessing\\data.py:323: DataConversionWarning: Data with input dtype int64, float64 were all converted to float64 by MinMaxScaler.\n",
      "  return self.partial_fit(X, y)\n",
      "D:\\python\\lib\\site-packages\\sklearn\\preprocessing\\data.py:323: DataConversionWarning: Data with input dtype int64, float64 were all converted to float64 by MinMaxScaler.\n",
      "  return self.partial_fit(X, y)\n"
     ]
    }
   ],
   "source": [
    "data11 = MinMaxScaler().fit_transform(data1)\n",
    "data22 = MinMaxScaler().fit_transform(data2)\n",
    "data1 = pd.DataFrame(data11,index=data1.index,columns=data1.columns)\n",
    "data2 = pd.DataFrame(data22,index=data2.index,columns=data2.columns)"
   ]
  },
  {
   "cell_type": "code",
   "execution_count": 32,
   "metadata": {},
   "outputs": [
    {
     "data": {
      "text/plain": [
       "<seaborn.axisgrid.PairGrid at 0x12313d5b198>"
      ]
     },
     "execution_count": 32,
     "metadata": {},
     "output_type": "execute_result"
    },
    {
     "data": {
      "image/png": "[encoded data removed]",
      "text/plain": [
       "<Figure size 720x720 with 20 Axes>"
      ]
     },
     "metadata": {
      "needs_background": "light"
     },
     "output_type": "display_data"
    }
   ],
   "source": [
    "sns.pairplot(data1)"
   ]
  },
  {
   "cell_type": "code",
   "execution_count": 33,
   "metadata": {},
   "outputs": [
    {
     "data": {
      "text/plain": [
       "<seaborn.axisgrid.PairGrid at 0x12314388978>"
      ]
     },
     "execution_count": 33,
     "metadata": {},
     "output_type": "execute_result"
    },
    {
     "data": {
      "image/png": "[encoded data removed]",
      "text/plain": [
       "<Figure size 720x720 with 20 Axes>"
      ]
     },
     "metadata": {
      "needs_background": "light"
     },
     "output_type": "display_data"
    }
   ],
   "source": [
    "sns.pairplot(data2)"
   ]
  },
  {
   "cell_type": "markdown",
   "metadata": {},
   "source": [
    "# 对data1聚类"
   ]
  },
  {
   "cell_type": "code",
   "execution_count": 34,
   "metadata": {},
   "outputs": [],
   "source": [
    "from scipy.cluster import hierarchy  #层次聚类"
   ]
  },
  {
   "cell_type": "code",
   "execution_count": 35,
   "metadata": {},
   "outputs": [],
   "source": [
    "#先计算距离矩阵，再聚类（类间距）\n",
    "dis = hierarchy.distance.pdist(data1,'euclidean') "
   ]
  },
  {
   "cell_type": "code",
   "execution_count": 36,
   "metadata": {},
   "outputs": [],
   "source": [
    "clust = hierarchy.linkage(dis, method ='ward') "
   ]
  },
  {
   "cell_type": "code",
   "execution_count": 37,
   "metadata": {},
   "outputs": [
    {
     "name": "stdout",
     "output_type": "stream",
     "text": [
      "(44, 4)\n"
     ]
    },
    {
     "data": {
      "text/html": [
       "<div>\n",
       "<style scoped>\n",
       "    .dataframe tbody tr th:only-of-type {\n",
       "        vertical-align: middle;\n",
       "    }\n",
       "\n",
       "    .dataframe tbody tr th {\n",
       "        vertical-align: top;\n",
       "    }\n",
       "\n",
       "    .dataframe thead th {\n",
       "        text-align: right;\n",
       "    }\n",
       "</style>\n",
       "<table border=\"1\" class=\"dataframe\">\n",
       "  <thead>\n",
       "    <tr style=\"text-align: right;\">\n",
       "      <th></th>\n",
       "      <th>c1</th>\n",
       "      <th>c2</th>\n",
       "      <th>distance</th>\n",
       "      <th>counts</th>\n",
       "    </tr>\n",
       "  </thead>\n",
       "  <tbody>\n",
       "    <tr>\n",
       "      <th>39</th>\n",
       "      <td>8.0</td>\n",
       "      <td>83.0</td>\n",
       "      <td>0.097802</td>\n",
       "      <td>26.0</td>\n",
       "    </tr>\n",
       "    <tr>\n",
       "      <th>40</th>\n",
       "      <td>82.0</td>\n",
       "      <td>84.0</td>\n",
       "      <td>0.292055</td>\n",
       "      <td>29.0</td>\n",
       "    </tr>\n",
       "    <tr>\n",
       "      <th>41</th>\n",
       "      <td>72.0</td>\n",
       "      <td>73.0</td>\n",
       "      <td>1.341643</td>\n",
       "      <td>15.0</td>\n",
       "    </tr>\n",
       "    <tr>\n",
       "      <th>42</th>\n",
       "      <td>0.0</td>\n",
       "      <td>85.0</td>\n",
       "      <td>2.377947</td>\n",
       "      <td>30.0</td>\n",
       "    </tr>\n",
       "    <tr>\n",
       "      <th>43</th>\n",
       "      <td>86.0</td>\n",
       "      <td>87.0</td>\n",
       "      <td>3.594601</td>\n",
       "      <td>45.0</td>\n",
       "    </tr>\n",
       "  </tbody>\n",
       "</table>\n",
       "</div>"
      ],
      "text/plain": [
       "      c1    c2  distance  counts\n",
       "39   8.0  83.0  0.097802    26.0\n",
       "40  82.0  84.0  0.292055    29.0\n",
       "41  72.0  73.0  1.341643    15.0\n",
       "42   0.0  85.0  2.377947    30.0\n",
       "43  86.0  87.0  3.594601    45.0"
      ]
     },
     "execution_count": 37,
     "metadata": {},
     "output_type": "execute_result"
    }
   ],
   "source": [
    "##查看凝聚式聚类过程结果\n",
    "print(clust.shape)\n",
    "pd.DataFrame(data=clust,columns=['c1','c2','distance','counts']).tail()"
   ]
  },
  {
   "cell_type": "code",
   "execution_count": 39,
   "metadata": {},
   "outputs": [
    {
     "data": {
      "image/png": "[encoded data removed]",
      "text/plain": [
       "<Figure size 1152x576 with 1 Axes>"
      ]
     },
     "metadata": {
      "needs_background": "light"
     },
     "output_type": "display_data"
    }
   ],
   "source": [
    "#画聚类层次图\n",
    "plt.figure(figsize=(16,8))\n",
    "p = hierarchy.dendrogram(clust,orientation='right',labels = data1.index)#orientation='right,left,bottom'\n",
    "plt.grid()"
   ]
  },
  {
   "cell_type": "markdown",
   "metadata": {},
   "source": [
    "可以看出聚成4类较为合适"
   ]
  },
  {
   "cell_type": "code",
   "execution_count": 40,
   "metadata": {},
   "outputs": [
    {
     "data": {
      "image/png": "[encoded data removed]",
      "text/plain": [
       "<Figure size 1440x432 with 1 Axes>"
      ]
     },
     "metadata": {
      "needs_background": "light"
     },
     "output_type": "display_data"
    }
   ],
   "source": [
    "#聚类的类间距\n",
    "plt.figure(figsize=(20,6))\n",
    "plt.plot(clust[:,2])    \n",
    "plt.xticks(range(0, 200))\n",
    "plt.grid()"
   ]
  },
  {
   "cell_type": "markdown",
   "metadata": {},
   "source": [
    "# 对data2进行k均值聚类"
   ]
  },
  {
   "cell_type": "code",
   "execution_count": 41,
   "metadata": {},
   "outputs": [],
   "source": [
    "from sklearn.cluster import KMeans  #k均值聚类"
   ]
  },
  {
   "cell_type": "code",
   "execution_count": 51,
   "metadata": {},
   "outputs": [],
   "source": [
    "#data2.drop(axis=1,columns='label',inplace=True)"
   ]
  },
  {
   "cell_type": "code",
   "execution_count": 58,
   "metadata": {},
   "outputs": [
    {
     "data": {
      "text/html": [
       "<div>\n",
       "<style scoped>\n",
       "    .dataframe tbody tr th:only-of-type {\n",
       "        vertical-align: middle;\n",
       "    }\n",
       "\n",
       "    .dataframe tbody tr th {\n",
       "        vertical-align: top;\n",
       "    }\n",
       "\n",
       "    .dataframe thead th {\n",
       "        text-align: right;\n",
       "    }\n",
       "</style>\n",
       "<table border=\"1\" class=\"dataframe\">\n",
       "  <thead>\n",
       "    <tr style=\"text-align: right;\">\n",
       "      <th></th>\n",
       "      <th>comment_count</th>\n",
       "      <th>gender</th>\n",
       "      <th>thanks_count</th>\n",
       "      <th>voteup_count</th>\n",
       "    </tr>\n",
       "  </thead>\n",
       "  <tbody>\n",
       "    <tr>\n",
       "      <th>0</th>\n",
       "      <td>0.005137</td>\n",
       "      <td>1.000000e+00</td>\n",
       "      <td>0.003748</td>\n",
       "      <td>0.003909</td>\n",
       "    </tr>\n",
       "    <tr>\n",
       "      <th>1</th>\n",
       "      <td>0.001602</td>\n",
       "      <td>-3.774758e-15</td>\n",
       "      <td>0.000763</td>\n",
       "      <td>0.000859</td>\n",
       "    </tr>\n",
       "    <tr>\n",
       "      <th>2</th>\n",
       "      <td>0.001366</td>\n",
       "      <td>5.000000e-01</td>\n",
       "      <td>0.000367</td>\n",
       "      <td>0.000408</td>\n",
       "    </tr>\n",
       "    <tr>\n",
       "      <th>3</th>\n",
       "      <td>0.726905</td>\n",
       "      <td>8.750000e-01</td>\n",
       "      <td>0.882428</td>\n",
       "      <td>0.922382</td>\n",
       "    </tr>\n",
       "  </tbody>\n",
       "</table>\n",
       "</div>"
      ],
      "text/plain": [
       "   comment_count        gender  thanks_count  voteup_count\n",
       "0       0.005137  1.000000e+00      0.003748      0.003909\n",
       "1       0.001602 -3.774758e-15      0.000763      0.000859\n",
       "2       0.001366  5.000000e-01      0.000367      0.000408\n",
       "3       0.726905  8.750000e-01      0.882428      0.922382"
      ]
     },
     "execution_count": 58,
     "metadata": {},
     "output_type": "execute_result"
    }
   ],
   "source": [
    "k=4\n",
    "kmeans = KMeans(n_clusters=k,init='k-means++')#init='k-means++'为选择初始质心的方法，同时需要指定调整次数max_iter=300(默认)\n",
    "kmeans.fit(data2)#kmeans为训练好的聚类模型\n",
    "label_k = kmeans.labels_ #获取各观测聚类标签\n",
    "centroids = pd.DataFrame(kmeans.cluster_centers_ , columns=data2.columns)          #获取聚类中心,并转化为Dataframe\n",
    "centroids"
   ]
  },
  {
   "cell_type": "code",
   "execution_count": 59,
   "metadata": {},
   "outputs": [],
   "source": [
    "data2['label']=label_k\n",
    "comment2['label']=label_k"
   ]
  },
  {
   "cell_type": "code",
   "execution_count": 60,
   "metadata": {},
   "outputs": [
    {
     "data": {
      "text/plain": [
       "<matplotlib.axes._subplots.AxesSubplot at 0x1231651d4a8>"
      ]
     },
     "execution_count": 60,
     "metadata": {},
     "output_type": "execute_result"
    },
    {
     "data": {
      "image/png": "[encoded data removed]",
      "text/plain": [
       "<Figure size 1296x432 with 1 Axes>"
      ]
     },
     "metadata": {
      "needs_background": "light"
     },
     "output_type": "display_data"
    }
   ],
   "source": [
    "centroids.T.plot(kind='bar',figsize=(18,6))"
   ]
  },
  {
   "cell_type": "code",
   "execution_count": 61,
   "metadata": {},
   "outputs": [
    {
     "name": "stderr",
     "output_type": "stream",
     "text": [
      "D:\\python\\lib\\site-packages\\scipy\\stats\\stats.py:1713: FutureWarning: Using a non-tuple sequence for multidimensional indexing is deprecated; use `arr[tuple(seq)]` instead of `arr[seq]`. In the future this will be interpreted as an array index, `arr[np.array(seq)]`, which will result either in an error or a different result.\n",
      "  return np.add.reduce(sorted[indexer] * weights, axis=axis) / sumval\n"
     ]
    },
    {
     "data": {
      "image/png": "[encoded data removed]",
      "text/plain": [
       "<Figure size 1152x720 with 4 Axes>"
      ]
     },
     "metadata": {
      "needs_background": "light"
     },
     "output_type": "display_data"
    }
   ],
   "source": [
    "plt.figure(figsize=(16,10))\n",
    "fnames = [ 'comment_count','gender', 'thanks_count', 'voteup_count']     #产生输入变量列表（列表生成式）\n",
    "for i,c in enumerate(fnames):  #枚举型，产生元素本身和元素的编号，i为位置，c为元素本身\n",
    "    plt.subplot(2,2,i+1)#2行2列，必须从1开始编号\n",
    "    sns.violinplot(x='label',y=c,data=data2);"
   ]
  },
  {
   "cell_type": "code",
   "execution_count": 62,
   "metadata": {},
   "outputs": [
    {
     "name": "stdout",
     "output_type": "stream",
     "text": [
      "<class 'pandas.core.frame.DataFrame'>\n",
      "Int64Index: 2725 entries, 1 to 2680\n",
      "Data columns (total 11 columns):\n",
      "author           2725 non-null object\n",
      "comment_count    2725 non-null int64\n",
      "content          2725 non-null object\n",
      "created_time     2725 non-null int64\n",
      "excerpt          2723 non-null object\n",
      "gender           2365 non-null float64\n",
      "headline         1646 non-null object\n",
      "label            2725 non-null int32\n",
      "thanks_count     2725 non-null int64\n",
      "updated_time     2725 non-null int64\n",
      "voteup_count     2725 non-null int64\n",
      "dtypes: float64(1), int32(1), int64(5), object(4)\n",
      "memory usage: 244.8+ KB\n"
     ]
    }
   ],
   "source": [
    "comment2.info()"
   ]
  },
  {
   "cell_type": "code",
   "execution_count": 64,
   "metadata": {},
   "outputs": [
    {
     "data": {
      "text/plain": [
       "0    1284\n",
       "1     854\n",
       "2     583\n",
       "3       4\n",
       "Name: label, dtype: int64"
      ]
     },
     "execution_count": 64,
     "metadata": {},
     "output_type": "execute_result"
    }
   ],
   "source": [
    "comment2['label'].value_counts()"
   ]
  },
  {
   "cell_type": "code",
   "execution_count": 83,
   "metadata": {},
   "outputs": [],
   "source": [
    "#a = comment2[(comment2.label==2)].index.tolist()\n",
    "#a=np.array(a)\n",
    "#comment2.iloc[a]"
   ]
  },
  {
   "cell_type": "code",
   "execution_count": 89,
   "metadata": {},
   "outputs": [],
   "source": [
    "a=comment2[comment2['label']==0]\n",
    "b=comment2[comment2['label']==1]\n",
    "c=comment2[comment2['label']==2]\n",
    "d=comment2[comment2['label']==3]"
   ]
  },
  {
   "cell_type": "markdown",
   "metadata": {},
   "source": [
    "去掉点赞量极高的评论"
   ]
  },
  {
   "cell_type": "code",
   "execution_count": 91,
   "metadata": {},
   "outputs": [],
   "source": [
    "comment3=pd.concat((a,b),axis=0)"
   ]
  },
  {
   "cell_type": "code",
   "execution_count": 92,
   "metadata": {},
   "outputs": [],
   "source": [
    "comment3=pd.concat((comment3,c),axis=0)"
   ]
  },
  {
   "cell_type": "code",
   "execution_count": 129,
   "metadata": {},
   "outputs": [
    {
     "name": "stderr",
     "output_type": "stream",
     "text": [
      "D:\\python\\lib\\site-packages\\sklearn\\preprocessing\\data.py:323: DataConversionWarning: Data with input dtype int64 were all converted to float64 by MinMaxScaler.\n",
      "  return self.partial_fit(X, y)\n"
     ]
    }
   ],
   "source": []
  },
  {
   "cell_type": "code",
   "execution_count": 130,
   "metadata": {},
   "outputs": [],
   "source": [
    "#comment3.drop(axis=1,columns='label',inplace=True)"
   ]
  },
  {
   "cell_type": "code",
   "execution_count": 131,
   "metadata": {},
   "outputs": [],
   "source": [
    "column2=[ 'comment_count', 'thanks_count', 'voteup_count']"
   ]
  },
  {
   "cell_type": "code",
   "execution_count": 146,
   "metadata": {},
   "outputs": [],
   "source": [
    "data3=comment3[column2].copy()"
   ]
  },
  {
   "cell_type": "code",
   "execution_count": 147,
   "metadata": {},
   "outputs": [
    {
     "name": "stderr",
     "output_type": "stream",
     "text": [
      "D:\\python\\lib\\site-packages\\sklearn\\preprocessing\\data.py:323: DataConversionWarning: Data with input dtype int64 were all converted to float64 by MinMaxScaler.\n",
      "  return self.partial_fit(X, y)\n"
     ]
    }
   ],
   "source": [
    "data13 = MinMaxScaler().fit_transform(data3)"
   ]
  },
  {
   "cell_type": "code",
   "execution_count": 148,
   "metadata": {},
   "outputs": [],
   "source": [
    "data3 = pd.DataFrame(data13,index=data3.index,columns=data3.columns)"
   ]
  },
  {
   "cell_type": "code",
   "execution_count": 149,
   "metadata": {},
   "outputs": [
    {
     "data": {
      "text/plain": [
       "<seaborn.axisgrid.PairGrid at 0x12318838ac8>"
      ]
     },
     "execution_count": 149,
     "metadata": {},
     "output_type": "execute_result"
    },
    {
     "data": {
      "image/png": "[encoded data removed]",
      "text/plain": [
       "<Figure size 540x540 with 12 Axes>"
      ]
     },
     "metadata": {
      "needs_background": "light"
     },
     "output_type": "display_data"
    }
   ],
   "source": [
    "sns.pairplot(data3)"
   ]
  },
  {
   "cell_type": "code",
   "execution_count": 150,
   "metadata": {},
   "outputs": [
    {
     "data": {
      "text/plain": [
       "array([1061,  235, 1096,  905,  960,  144,  129, 2556, 1202, 1300, 1278,\n",
       "        357, 2516,  252,  668, 2446,  562, 2628,  753, 1527, 1888, 1110,\n",
       "       2189, 2025, 1031,  319, 1337, 2561, 1920,  316, 2257, 1288,  728,\n",
       "       2675,  431,  633, 2504,  542, 1095, 1411, 1478, 1337,  515,  497,\n",
       "       1612, 1844, 1360, 2669,  883, 1321,   15, 2244,   25, 1495, 1927,\n",
       "       1306, 1640, 1046, 1801, 1150, 1303,  155,  313, 2643,  648, 1312,\n",
       "       1679,  243, 1372, 2634, 1214,  928, 1752, 1175,  695, 1345, 1393,\n",
       "       1869, 1795, 1277,  461, 1798,  564,  469, 1478, 1538, 1612, 2197,\n",
       "        715, 2311, 2125, 1099, 1067,  532, 1572,  871, 1799,  964, 2617,\n",
       "       2258])"
      ]
     },
     "execution_count": 150,
     "metadata": {},
     "output_type": "execute_result"
    }
   ],
   "source": [
    "np.random.seed(1)\n",
    "select = np.random.randint(2721,size=100)#只能取到[0,62997],刚好对应从0开始的行索引序号\n",
    "select"
   ]
  },
  {
   "cell_type": "code",
   "execution_count": 151,
   "metadata": {},
   "outputs": [],
   "source": [
    "df=data3.iloc[select]"
   ]
  },
  {
   "cell_type": "markdown",
   "metadata": {},
   "source": [
    "# 对去除极端值的样本抽样，进行层次聚类"
   ]
  },
  {
   "cell_type": "code",
   "execution_count": 152,
   "metadata": {},
   "outputs": [],
   "source": [
    "#先计算距离矩阵，再聚类（类间距）\n",
    "dis = hierarchy.distance.pdist(df,'euclidean') \n",
    "clust = hierarchy.linkage(dis, method ='ward')"
   ]
  },
  {
   "cell_type": "code",
   "execution_count": 153,
   "metadata": {},
   "outputs": [
    {
     "name": "stdout",
     "output_type": "stream",
     "text": [
      "(99, 4)\n"
     ]
    },
    {
     "data": {
      "text/html": [
       "<div>\n",
       "<style scoped>\n",
       "    .dataframe tbody tr th:only-of-type {\n",
       "        vertical-align: middle;\n",
       "    }\n",
       "\n",
       "    .dataframe tbody tr th {\n",
       "        vertical-align: top;\n",
       "    }\n",
       "\n",
       "    .dataframe thead th {\n",
       "        text-align: right;\n",
       "    }\n",
       "</style>\n",
       "<table border=\"1\" class=\"dataframe\">\n",
       "  <thead>\n",
       "    <tr style=\"text-align: right;\">\n",
       "      <th></th>\n",
       "      <th>c1</th>\n",
       "      <th>c2</th>\n",
       "      <th>distance</th>\n",
       "      <th>counts</th>\n",
       "    </tr>\n",
       "  </thead>\n",
       "  <tbody>\n",
       "    <tr>\n",
       "      <th>94</th>\n",
       "      <td>191.0</td>\n",
       "      <td>192.0</td>\n",
       "      <td>0.030256</td>\n",
       "      <td>94.0</td>\n",
       "    </tr>\n",
       "    <tr>\n",
       "      <th>95</th>\n",
       "      <td>190.0</td>\n",
       "      <td>193.0</td>\n",
       "      <td>0.041246</td>\n",
       "      <td>4.0</td>\n",
       "    </tr>\n",
       "    <tr>\n",
       "      <th>96</th>\n",
       "      <td>65.0</td>\n",
       "      <td>195.0</td>\n",
       "      <td>0.101805</td>\n",
       "      <td>5.0</td>\n",
       "    </tr>\n",
       "    <tr>\n",
       "      <th>97</th>\n",
       "      <td>194.0</td>\n",
       "      <td>196.0</td>\n",
       "      <td>0.160795</td>\n",
       "      <td>99.0</td>\n",
       "    </tr>\n",
       "    <tr>\n",
       "      <th>98</th>\n",
       "      <td>60.0</td>\n",
       "      <td>197.0</td>\n",
       "      <td>0.291458</td>\n",
       "      <td>100.0</td>\n",
       "    </tr>\n",
       "  </tbody>\n",
       "</table>\n",
       "</div>"
      ],
      "text/plain": [
       "       c1     c2  distance  counts\n",
       "94  191.0  192.0  0.030256    94.0\n",
       "95  190.0  193.0  0.041246     4.0\n",
       "96   65.0  195.0  0.101805     5.0\n",
       "97  194.0  196.0  0.160795    99.0\n",
       "98   60.0  197.0  0.291458   100.0"
      ]
     },
     "execution_count": 153,
     "metadata": {},
     "output_type": "execute_result"
    }
   ],
   "source": [
    "##查看凝聚式聚类过程结果\n",
    "print(clust.shape)\n",
    "pd.DataFrame(data=clust,columns=['c1','c2','distance','counts']).tail()"
   ]
  },
  {
   "cell_type": "code",
   "execution_count": 154,
   "metadata": {},
   "outputs": [
    {
     "data": {
      "image/png": "[encoded data removed]",
      "text/plain": [
       "<Figure size 1152x432 with 1 Axes>"
      ]
     },
     "metadata": {
      "needs_background": "light"
     },
     "output_type": "display_data"
    }
   ],
   "source": [
    "#画聚类层次图\n",
    "plt.figure(figsize=(16,6))\n",
    "p = hierarchy.dendrogram(clust,orientation='right',labels = df.index)   # orientation must be one of 'top', 'left', 'bottom', or 'right'\n",
    "plt.grid()"
   ]
  },
  {
   "cell_type": "code",
   "execution_count": 155,
   "metadata": {
    "scrolled": true
   },
   "outputs": [
    {
     "data": {
      "image/png": "[encoded data removed]",
      "text/plain": [
       "<Figure size 1440x432 with 1 Axes>"
      ]
     },
     "metadata": {
      "needs_background": "light"
     },
     "output_type": "display_data"
    }
   ],
   "source": [
    "#聚类的类间距\n",
    "plt.figure(figsize=(20,6))\n",
    "plt.plot(clust[:,2])    \n",
    "plt.xticks(np.arange(0, 199,2))\n",
    "plt.grid()"
   ]
  },
  {
   "cell_type": "markdown",
   "metadata": {},
   "source": [
    "### 聚成3类"
   ]
  },
  {
   "cell_type": "markdown",
   "metadata": {},
   "source": [
    "# K均值聚类"
   ]
  },
  {
   "cell_type": "code",
   "execution_count": 172,
   "metadata": {},
   "outputs": [
    {
     "data": {
      "text/html": [
       "<div>\n",
       "<style scoped>\n",
       "    .dataframe tbody tr th:only-of-type {\n",
       "        vertical-align: middle;\n",
       "    }\n",
       "\n",
       "    .dataframe tbody tr th {\n",
       "        vertical-align: top;\n",
       "    }\n",
       "\n",
       "    .dataframe thead th {\n",
       "        text-align: right;\n",
       "    }\n",
       "</style>\n",
       "<table border=\"1\" class=\"dataframe\">\n",
       "  <thead>\n",
       "    <tr style=\"text-align: right;\">\n",
       "      <th></th>\n",
       "      <th>comment_count</th>\n",
       "      <th>thanks_count</th>\n",
       "      <th>voteup_count</th>\n",
       "    </tr>\n",
       "  </thead>\n",
       "  <tbody>\n",
       "    <tr>\n",
       "      <th>0</th>\n",
       "      <td>0.002439</td>\n",
       "      <td>0.000476</td>\n",
       "      <td>0.000660</td>\n",
       "    </tr>\n",
       "    <tr>\n",
       "      <th>1</th>\n",
       "      <td>0.702364</td>\n",
       "      <td>0.273308</td>\n",
       "      <td>0.501046</td>\n",
       "    </tr>\n",
       "    <tr>\n",
       "      <th>2</th>\n",
       "      <td>0.297945</td>\n",
       "      <td>0.054066</td>\n",
       "      <td>0.091624</td>\n",
       "    </tr>\n",
       "    <tr>\n",
       "      <th>3</th>\n",
       "      <td>0.997914</td>\n",
       "      <td>0.542146</td>\n",
       "      <td>0.951534</td>\n",
       "    </tr>\n",
       "    <tr>\n",
       "      <th>4</th>\n",
       "      <td>0.457580</td>\n",
       "      <td>0.573436</td>\n",
       "      <td>0.731259</td>\n",
       "    </tr>\n",
       "    <tr>\n",
       "      <th>5</th>\n",
       "      <td>0.167826</td>\n",
       "      <td>0.110430</td>\n",
       "      <td>0.164214</td>\n",
       "    </tr>\n",
       "    <tr>\n",
       "      <th>6</th>\n",
       "      <td>0.562587</td>\n",
       "      <td>0.190613</td>\n",
       "      <td>0.330718</td>\n",
       "    </tr>\n",
       "    <tr>\n",
       "      <th>7</th>\n",
       "      <td>0.063750</td>\n",
       "      <td>0.027511</td>\n",
       "      <td>0.037926</td>\n",
       "    </tr>\n",
       "    <tr>\n",
       "      <th>8</th>\n",
       "      <td>0.589708</td>\n",
       "      <td>1.000000</td>\n",
       "      <td>0.893828</td>\n",
       "    </tr>\n",
       "  </tbody>\n",
       "</table>\n",
       "</div>"
      ],
      "text/plain": [
       "   comment_count  thanks_count  voteup_count\n",
       "0       0.002439      0.000476      0.000660\n",
       "1       0.702364      0.273308      0.501046\n",
       "2       0.297945      0.054066      0.091624\n",
       "3       0.997914      0.542146      0.951534\n",
       "4       0.457580      0.573436      0.731259\n",
       "5       0.167826      0.110430      0.164214\n",
       "6       0.562587      0.190613      0.330718\n",
       "7       0.063750      0.027511      0.037926\n",
       "8       0.589708      1.000000      0.893828"
      ]
     },
     "execution_count": 172,
     "metadata": {},
     "output_type": "execute_result"
    }
   ],
   "source": [
    "k=9\n",
    "kmeans = KMeans(n_clusters=k,init='k-means++')#init='k-means++'为选择初始质心的方法，同时需要指定调整次数max_iter=300(默认)\n",
    "kmeans.fit(data3)#kmeans为训练好的聚类模型\n",
    "label_k = kmeans.labels_ #获取各观测聚类标签\n",
    "centroids = pd.DataFrame(kmeans.cluster_centers_ , columns=data3.columns)          #获取聚类中心,并转化为Dataframe\n",
    "centroids"
   ]
  },
  {
   "cell_type": "markdown",
   "metadata": {},
   "source": [
    "5、7类算关注度中等，0类算关注度较低，其他类算关注度较高"
   ]
  },
  {
   "cell_type": "code",
   "execution_count": 171,
   "metadata": {},
   "outputs": [],
   "source": [
    "#data3.drop(axis=1,columns='label',inplace=True) "
   ]
  },
  {
   "cell_type": "code",
   "execution_count": 173,
   "metadata": {},
   "outputs": [],
   "source": [
    "data3['label']=label_k \n",
    "comment3['label']=label_k \n"
   ]
  },
  {
   "cell_type": "code",
   "execution_count": 174,
   "metadata": {},
   "outputs": [
    {
     "data": {
      "text/plain": [
       "0    2624\n",
       "7      61\n",
       "5      15\n",
       "2       9\n",
       "6       4\n",
       "1       3\n",
       "3       2\n",
       "4       2\n",
       "8       1\n",
       "Name: label, dtype: int64"
      ]
     },
     "execution_count": 174,
     "metadata": {},
     "output_type": "execute_result"
    }
   ],
   "source": [
    "comment3['label'].value_counts()"
   ]
  },
  {
   "cell_type": "code",
   "execution_count": 192,
   "metadata": {},
   "outputs": [
    {
     "data": {
      "text/plain": [
       "2    9\n",
       "6    4\n",
       "1    3\n",
       "4    2\n",
       "3    2\n",
       "8    1\n",
       "Name: label, dtype: int64"
      ]
     },
     "execution_count": 192,
     "metadata": {},
     "output_type": "execute_result"
    }
   ],
   "source": [
    "a=comment3[comment3['label']==0]\n",
    "b=comment3[comment3['label']==5]\n",
    "bb=comment3[comment3['label']==7]\n",
    "b=pd.concat((b,bb),axis=0)\n",
    "c=comment3[comment3['label']==1]\n",
    "clus=[2,3,4,6,8]\n",
    "for i in clus:\n",
    "    cc=comment3[comment3['label']==i]\n",
    "    c=pd.concat((c,cc),axis=0)\n",
    "c['label'].value_counts()"
   ]
  },
  {
   "cell_type": "code",
   "execution_count": 193,
   "metadata": {},
   "outputs": [
    {
     "data": {
      "text/plain": [
       "7    61\n",
       "5    15\n",
       "Name: label, dtype: int64"
      ]
     },
     "execution_count": 193,
     "metadata": {},
     "output_type": "execute_result"
    }
   ],
   "source": [
    "b['label'].value_counts()"
   ]
  },
  {
   "cell_type": "code",
   "execution_count": 194,
   "metadata": {},
   "outputs": [],
   "source": [
    "for s in [a,b,c,d]:\n",
    "    s=s.drop(axis=1,columns=['label'])\n",
    "\n"
   ]
  },
  {
   "cell_type": "code",
   "execution_count": 196,
   "metadata": {},
   "outputs": [],
   "source": [
    "a.to_csv(\"点赞量较少的评论\",index=False)\n",
    "b.to_csv(\"点赞量中等的评论\",index=False)\n",
    "c.to_csv(\"点赞量很高的评论\",index=False)\n",
    "d.to_csv(\"点赞量极高的评论\",index=False)"
   ]
  },
  {
   "cell_type": "code",
   "execution_count": null,
   "metadata": {},
   "outputs": [],
   "source": []
  },
  {
   "cell_type": "code",
   "execution_count": null,
   "metadata": {},
   "outputs": [],
   "source": []
  },
  {
   "cell_type": "code",
   "execution_count": null,
   "metadata": {},
   "outputs": [],
   "source": []
  },
  {
   "cell_type": "code",
   "execution_count": null,
   "metadata": {},
   "outputs": [],
   "source": []
  },
  {
   "cell_type": "markdown",
   "metadata": {},
   "source": [
    "# 分词开始"
   ]
  },
  {
   "cell_type": "code",
   "execution_count": 8,
   "metadata": {},
   "outputs": [],
   "source": [
    "import jieba\n",
    "import codecs "
   ]
  },
  {
   "cell_type": "code",
   "execution_count": 12,
   "metadata": {},
   "outputs": [],
   "source": [
    "training1 = codecs.open(file1, u'rb',encoding= u'utf-8',errors='ignore')\n",
    "content1=training1.read()\n",
    "training2 = codecs.open(file2, u'rb',encoding= u'utf-8',errors='ignore')\n",
    "content2=training2.read()"
   ]
  },
  {
   "cell_type": "code",
   "execution_count": 13,
   "metadata": {},
   "outputs": [],
   "source": [
    "segment1 = []               #单个单词分组\n",
    "segs = jieba.cut(content1)   # 使用jieba分词\n",
    "for seg in segs:\n",
    "    if len(seg) > 1 :\n",
    "        segment1.append(seg)"
   ]
  },
  {
   "cell_type": "code",
   "execution_count": 14,
   "metadata": {},
   "outputs": [],
   "source": [
    "segment2 = []               #单个单词分组\n",
    "segs = jieba.cut(content2)   # 使用jieba分词\n",
    "for seg in segs:\n",
    "    if len(seg) > 1 :\n",
    "        segment2.append(seg)"
   ]
  },
  {
   "cell_type": "code",
   "execution_count": 15,
   "metadata": {},
   "outputs": [
    {
     "data": {
      "text/plain": [
       "['No',\n",
       " 'author',\n",
       " 'comment',\n",
       " 'count',\n",
       " 'content',\n",
       " 'created',\n",
       " 'time',\n",
       " 'excerpt',\n",
       " 'gender',\n",
       " 'headline',\n",
       " 'thanks',\n",
       " 'count',\n",
       " 'updated',\n",
       " 'time',\n",
       " 'voteup',\n",
       " 'count',\n",
       " '\\r\\n',\n",
       " '司马懿',\n",
       " '424',\n",
       " '博士',\n",
       " '二年级',\n",
       " '时候',\n",
       " '导师',\n",
       " '帮助',\n",
       " '法国',\n",
       " '规制',\n",
       " '部门',\n",
       " '研究',\n",
       " '两家',\n",
       " '法国',\n",
       " '超市',\n",
       " '某个',\n",
       " '区域',\n",
       " '竞争',\n",
       " '政策',\n",
       " '问题',\n",
       " '两家',\n",
       " '规模',\n",
       " '市场份额',\n",
       " '差不多',\n",
       " '数据',\n",
       " '显示',\n",
       " '他们',\n",
       " '市场份额',\n",
       " '分别',\n",
       " '21%',\n",
       " '19%',\n",
       " '基于',\n",
       " '这个',\n",
       " '市场份额',\n",
       " '我们',\n",
       " '根据',\n",
       " '货物',\n",
       " '成本',\n",
       " '定义',\n",
       " '他们',\n",
       " '最优',\n",
       " '定价',\n",
       " '问题',\n",
       " '这个',\n",
       " '时候',\n",
       " '导师',\n",
       " '一句',\n",
       " '如果',\n",
       " '这么',\n",
       " '市场份额',\n",
       " '竞争',\n",
       " '结果',\n",
       " '不是',\n",
       " '竞争',\n",
       " '前提',\n",
       " '现在',\n",
       " '想来',\n",
       " '这句',\n",
       " '同样',\n",
       " '适用',\n",
       " '理解',\n",
       " '华为',\n",
       " '乃至于',\n",
       " '中国',\n",
       " '相关',\n",
       " '产业',\n",
       " '产业链',\n",
       " '发展',\n",
       " '美国',\n",
       " '对华',\n",
       " '黑名单',\n",
       " '攻击',\n",
       " '公司',\n",
       " '层面',\n",
       " '专门',\n",
       " '叫做',\n",
       " 'foreclosure',\n",
       " '这个',\n",
       " '金融',\n",
       " '里面',\n",
       " '其他',\n",
       " '含义',\n",
       " '但是',\n",
       " '产业',\n",
       " '经济学',\n",
       " '里面',\n",
       " '就是',\n",
       " '公司',\n",
       " '利用',\n",
       " '自己',\n",
       " '市场',\n",
       " '力量',\n",
       " '限制',\n",
       " '或者',\n",
       " '禁止',\n",
       " '自己',\n",
       " '竞争对手',\n",
       " '获得',\n",
       " '瓶颈',\n",
       " '访问',\n",
       " '行为',\n",
       " 'figure',\n",
       " 'data',\n",
       " 'size',\n",
       " 'normal',\n",
       " 'img',\n",
       " 'src',\n",
       " 'https',\n",
       " 'pic1',\n",
       " 'zhimg',\n",
       " 'com',\n",
       " '50',\n",
       " 'v2',\n",
       " '516e1f9822bf369b16b9ecdd13cdd1a9',\n",
       " 'hd',\n",
       " 'jpg',\n",
       " 'data',\n",
       " 'caption',\n",
       " 'data',\n",
       " 'size',\n",
       " 'normal',\n",
       " 'data',\n",
       " 'rawwidth',\n",
       " '550',\n",
       " 'data',\n",
       " 'rawheight',\n",
       " '214',\n",
       " 'data',\n",
       " 'default',\n",
       " 'watermark',\n",
       " 'src',\n",
       " 'https',\n",
       " 'pic4',\n",
       " 'zhimg',\n",
       " 'com',\n",
       " '50',\n",
       " 'v2',\n",
       " 'a9dbb4b877c00ea7b05995b648bcedb7',\n",
       " 'hd',\n",
       " 'jpg',\n",
       " 'class',\n",
       " 'origin',\n",
       " 'image',\n",
       " 'zh',\n",
       " 'lightbox',\n",
       " 'thumb',\n",
       " 'width',\n",
       " '550',\n",
       " 'data',\n",
       " 'original',\n",
       " 'https',\n",
       " 'pic1',\n",
       " 'zhimg',\n",
       " 'com',\n",
       " 'v2',\n",
       " '516e1f9822bf369b16b9ecdd13cdd1a9',\n",
       " 'jpg',\n",
       " 'figure',\n",
       " '瓶颈',\n",
       " '关键',\n",
       " '资源',\n",
       " '可以',\n",
       " '市场',\n",
       " '渠道',\n",
       " '可以',\n",
       " '技术',\n",
       " '专利',\n",
       " '等等',\n",
       " '一般来说',\n",
       " '这种',\n",
       " '限制',\n",
       " '带来',\n",
       " '收益',\n",
       " '所以',\n",
       " '国家',\n",
       " '往往',\n",
       " '需要',\n",
       " '制定',\n",
       " '各种',\n",
       " '相应',\n",
       " '竞争',\n",
       " '政策',\n",
       " '加以',\n",
       " '限制',\n",
       " '但是',\n",
       " '如果',\n",
       " '一套',\n",
       " '理论',\n",
       " '映射',\n",
       " '国际',\n",
       " '失去',\n",
       " '竞争',\n",
       " '政策',\n",
       " '分析',\n",
       " '意义',\n",
       " '只能',\n",
       " '进行',\n",
       " '一些',\n",
       " '状态',\n",
       " '分析',\n",
       " '因为',\n",
       " '没有',\n",
       " '高于',\n",
       " '国家',\n",
       " '强制',\n",
       " '执法',\n",
       " '机构',\n",
       " '存在',\n",
       " '国际',\n",
       " '真正',\n",
       " '意义',\n",
       " '规制',\n",
       " '部门',\n",
       " '如果',\n",
       " '我们',\n",
       " '暂时',\n",
       " '忽略',\n",
       " '美国公司',\n",
       " '内部',\n",
       " '利益冲突',\n",
       " '美国',\n",
       " '看做',\n",
       " '一个',\n",
       " '整体',\n",
       " '的话',\n",
       " '手机',\n",
       " '电脑',\n",
       " '产业链',\n",
       " '瓶颈',\n",
       " '部分',\n",
       " '大都',\n",
       " '美国',\n",
       " '企业',\n",
       " '拥有',\n",
       " '华为',\n",
       " '或者',\n",
       " '干脆',\n",
       " '中国',\n",
       " '拥有',\n",
       " '大部分',\n",
       " '是非',\n",
       " '瓶颈',\n",
       " '部分',\n",
       " '现在',\n",
       " '大家',\n",
       " '共同',\n",
       " '全球',\n",
       " '市场竞争',\n",
       " '那么',\n",
       " '美国',\n",
       " '通过',\n",
       " '卡住',\n",
       " '瓶颈',\n",
       " '就是',\n",
       " '关键',\n",
       " '软硬件',\n",
       " '资源',\n",
       " '限制',\n",
       " '华为',\n",
       " '国际',\n",
       " '市场',\n",
       " '发展',\n",
       " '那么',\n",
       " '显然',\n",
       " '美国',\n",
       " '作为',\n",
       " '一个',\n",
       " '整体',\n",
       " '收益',\n",
       " '可能',\n",
       " '增加',\n",
       " '即便',\n",
       " '全球',\n",
       " '收益',\n",
       " '下降',\n",
       " '理解',\n",
       " '这个',\n",
       " '问题',\n",
       " '关键在于',\n",
       " '智能手机',\n",
       " '市场',\n",
       " '一个',\n",
       " '高度',\n",
       " '饱和',\n",
       " '市场',\n",
       " '即便',\n",
       " '我们',\n",
       " '华为',\n",
       " '地球',\n",
       " '瞬间',\n",
       " '除掉',\n",
       " '它空',\n",
       " '出来',\n",
       " '市场份额',\n",
       " '不会',\n",
       " '白白',\n",
       " '消失',\n",
       " '本来',\n",
       " '选择',\n",
       " '华为',\n",
       " '智能手机',\n",
       " '消费者',\n",
       " '选择',\n",
       " '其他',\n",
       " '品牌',\n",
       " '手机',\n",
       " '还是',\n",
       " '用到',\n",
       " '美国',\n",
       " '供应链',\n",
       " '产品',\n",
       " '所以',\n",
       " '美国',\n",
       " '瓶颈',\n",
       " '中期',\n",
       " '来看',\n",
       " '未必',\n",
       " '受到',\n",
       " '很大',\n",
       " '冲击',\n",
       " '宏观',\n",
       " '来看',\n",
       " '收益',\n",
       " '反而',\n",
       " '可能',\n",
       " '增加',\n",
       " '因为',\n",
       " '如果',\n",
       " '华为',\n",
       " '占领',\n",
       " '华为',\n",
       " '留下',\n",
       " '市场',\n",
       " '空白',\n",
       " '手机',\n",
       " '厂商',\n",
       " '可能',\n",
       " '美国',\n",
       " '控股',\n",
       " '一家',\n",
       " '企业',\n",
       " '很多',\n",
       " '观点',\n",
       " '认为',\n",
       " '美国',\n",
       " '这是',\n",
       " '杀敌',\n",
       " '一千',\n",
       " '自损',\n",
       " '八百',\n",
       " '其实不然',\n",
       " '从超',\n",
       " '短期',\n",
       " '来看',\n",
       " '或许',\n",
       " '如此',\n",
       " '因为',\n",
       " '华为',\n",
       " '瞬间',\n",
       " '切断',\n",
       " '供应链',\n",
       " '带来',\n",
       " '伤害',\n",
       " '确实',\n",
       " '供求',\n",
       " '双方',\n",
       " '但是',\n",
       " '无论是',\n",
       " '电脑',\n",
       " '还是',\n",
       " '手机',\n",
       " '不是',\n",
       " '一个',\n",
       " '新兴',\n",
       " '需要',\n",
       " '厂商',\n",
       " '自己',\n",
       " '开拓',\n",
       " '发展',\n",
       " '用户群',\n",
       " '市场',\n",
       " '一个',\n",
       " '主要',\n",
       " '竞争者',\n",
       " '其他',\n",
       " '这个',\n",
       " '行业',\n",
       " '公司',\n",
       " '出来',\n",
       " '市场份额',\n",
       " '瓜分',\n",
       " '这些',\n",
       " '华为',\n",
       " '供应链',\n",
       " '受到',\n",
       " '严重',\n",
       " '震荡',\n",
       " '企业',\n",
       " '一个',\n",
       " '缓慢',\n",
       " '恢复',\n",
       " '失地',\n",
       " '过程',\n",
       " '只不过',\n",
       " '购买',\n",
       " '他们',\n",
       " '产品',\n",
       " '不再',\n",
       " '华为',\n",
       " '而是',\n",
       " '其它',\n",
       " '华为',\n",
       " '过程',\n",
       " '得益',\n",
       " '公司',\n",
       " 'figure',\n",
       " 'data',\n",
       " 'size',\n",
       " 'normal',\n",
       " 'img',\n",
       " 'src',\n",
       " 'https',\n",
       " 'pic3',\n",
       " 'zhimg',\n",
       " 'com',\n",
       " '50',\n",
       " 'v2',\n",
       " 'fe3e44a67bb1dd673a6534174aa59186',\n",
       " 'hd',\n",
       " 'jpg',\n",
       " 'data',\n",
       " 'caption',\n",
       " 'data',\n",
       " 'size',\n",
       " 'normal',\n",
       " 'data',\n",
       " 'rawwidth',\n",
       " '1196',\n",
       " 'data',\n",
       " 'rawheight',\n",
       " '745',\n",
       " 'data',\n",
       " 'default',\n",
       " 'watermark',\n",
       " 'src',\n",
       " 'https',\n",
       " 'pic4',\n",
       " 'zhimg',\n",
       " 'com',\n",
       " '50',\n",
       " 'v2',\n",
       " '731aec2404dfbf3c5e3ac7e18acadc60',\n",
       " 'hd',\n",
       " 'jpg',\n",
       " 'class',\n",
       " 'origin',\n",
       " 'image',\n",
       " 'zh',\n",
       " 'lightbox',\n",
       " 'thumb',\n",
       " 'width',\n",
       " '1196',\n",
       " 'data',\n",
       " 'original',\n",
       " 'https',\n",
       " 'pic3',\n",
       " 'zhimg',\n",
       " 'com',\n",
       " 'v2',\n",
       " 'fe3e44a67bb1dd673a6534174aa59186',\n",
       " 'jpg',\n",
       " 'figure',\n",
       " '消费者',\n",
       " '消费者',\n",
       " '确切',\n",
       " '无疑',\n",
       " '受到',\n",
       " '损失',\n",
       " '一点',\n",
       " '可以',\n",
       " '显示',\n",
       " '偏好',\n",
       " '原理',\n",
       " '论证',\n",
       " '因为',\n",
       " 'Google',\n",
       " '不能',\n",
       " '继续',\n",
       " '华为',\n",
       " '提供',\n",
       " 'Gapps',\n",
       " '那么',\n",
       " '国际',\n",
       " '市场',\n",
       " '基本上',\n",
       " '华为',\n",
       " '手机',\n",
       " '没有',\n",
       " '竞争力',\n",
       " '至少',\n",
       " '在短期内',\n",
       " 'Gapps',\n",
       " '对于',\n",
       " 'android',\n",
       " '意义',\n",
       " '不可',\n",
       " '替代',\n",
       " '那么',\n",
       " '这部分',\n",
       " '本来',\n",
       " '想要',\n",
       " '购买',\n",
       " '华为',\n",
       " '手机',\n",
       " '消费者',\n",
       " '因此',\n",
       " '买手机',\n",
       " '显然',\n",
       " '不会',\n",
       " '他们',\n",
       " '其他',\n",
       " '品牌',\n",
       " '作为',\n",
       " '替代',\n",
       " '没有',\n",
       " '制裁',\n",
       " '之前',\n",
       " '这部分',\n",
       " '消费者',\n",
       " '最优',\n",
       " '选择',\n",
       " '华为',\n",
       " '现在',\n",
       " '因为',\n",
       " '制裁',\n",
       " '他们',\n",
       " '选择',\n",
       " '自己',\n",
       " '次优',\n",
       " '选择',\n",
       " '最优',\n",
       " '次优',\n",
       " '降低',\n",
       " '效用',\n",
       " '就可以看',\n",
       " '是因为',\n",
       " '制裁',\n",
       " '造成',\n",
       " '消费者',\n",
       " '福利',\n",
       " '下降',\n",
       " '其实',\n",
       " '上面',\n",
       " '这个',\n",
       " '例子',\n",
       " '说明',\n",
       " '一点',\n",
       " '就是',\n",
       " '单独',\n",
       " '华为',\n",
       " '多么',\n",
       " '重要',\n",
       " '华为',\n",
       " '占据',\n",
       " '美国',\n",
       " '企业',\n",
       " '供应链',\n",
       " '份额',\n",
       " '这种',\n",
       " '静态',\n",
       " '分析',\n",
       " '其实',\n",
       " '没有',\n",
       " '太大',\n",
       " '意义',\n",
       " '产业',\n",
       " '供应链',\n",
       " '终点',\n",
       " '消费者',\n",
       " '市场',\n",
       " '如果',\n",
       " '消费者',\n",
       " '市场',\n",
       " '没有',\n",
       " '明显',\n",
       " '变小',\n",
       " '那么',\n",
       " '供应链',\n",
       " '一段',\n",
       " '一个',\n",
       " '或者',\n",
       " '一个',\n",
       " '垄断',\n",
       " '企业',\n",
       " '整个',\n",
       " '产业',\n",
       " '供应链',\n",
       " '可以',\n",
       " '自己',\n",
       " '恢复',\n",
       " '华为',\n",
       " '市场份额',\n",
       " '虽然',\n",
       " '强大',\n",
       " '竞争',\n",
       " '结果',\n",
       " '真的',\n",
       " '华为',\n",
       " '拥有',\n",
       " '一旦',\n",
       " '华为',\n",
       " '消失',\n",
       " '这部分',\n",
       " '市场份额',\n",
       " '归属于',\n",
       " '其他',\n",
       " '没有',\n",
       " '限制',\n",
       " '企业',\n",
       " '文中',\n",
       " '开头',\n",
       " '例子',\n",
       " '一样',\n",
       " '虽然',\n",
       " '两家',\n",
       " '企业',\n",
       " '确实',\n",
       " '平分',\n",
       " '市场',\n",
       " '但是',\n",
       " '竞争',\n",
       " '结果',\n",
       " '不能',\n",
       " '给定',\n",
       " '自己',\n",
       " '天然',\n",
       " '拥有',\n",
       " '30%',\n",
       " '市场份额',\n",
       " '然后',\n",
       " '自己',\n",
       " '最优',\n",
       " '价格',\n",
       " '基于',\n",
       " '同样',\n",
       " '道理',\n",
       " '强调',\n",
       " '美国',\n",
       " '企业',\n",
       " '不可',\n",
       " '替代性',\n",
       " '长期',\n",
       " '来看',\n",
       " '过于',\n",
       " '悲观',\n",
       " '经济学',\n",
       " '一个',\n",
       " '概念',\n",
       " '叫做',\n",
       " '规模',\n",
       " '效应',\n",
       " '就是',\n",
       " '随着',\n",
       " '产量',\n",
       " '增加',\n",
       " '生产',\n",
       " '一个',\n",
       " '商品',\n",
       " '平均',\n",
       " '成本',\n",
       " '下降',\n",
       " '芯片',\n",
       " '产业',\n",
       " '就是',\n",
       " '最最',\n",
       " '典型',\n",
       " '例子',\n",
       " '建厂',\n",
       " '时候',\n",
       " '特别',\n",
       " '烧钱',\n",
       " '前期',\n",
       " '投入',\n",
       " '无论是',\n",
       " '研发',\n",
       " '还是',\n",
       " '设备',\n",
       " '非常',\n",
       " '巨大',\n",
       " '但是',\n",
       " '一旦',\n",
       " '进入',\n",
       " '流水线',\n",
       " '生产',\n",
       " '生产',\n",
       " '卖出去',\n",
       " '单个',\n",
       " '芯片',\n",
       " '价格',\n",
       " 'Intel',\n",
       " 'CEO',\n",
       " '格鲁夫',\n",
       " '曾经',\n",
       " '如果',\n",
       " '全世界',\n",
       " '每个',\n",
       " '一片',\n",
       " 'Intel',\n",
       " 'CPU',\n",
       " '可以',\n",
       " 'CPU',\n",
       " '价格',\n",
       " '定成',\n",
       " '美元',\n",
       " '虽然',\n",
       " '戏言',\n",
       " '格鲁夫',\n",
       " '知道',\n",
       " '可能',\n",
       " '人人',\n",
       " '一片',\n",
       " 'Intel',\n",
       " 'CPU',\n",
       " '但是',\n",
       " '反映',\n",
       " '这个',\n",
       " '行业',\n",
       " '走量',\n",
       " '多么',\n",
       " '重要',\n",
       " '这种',\n",
       " '行业',\n",
       " '属于',\n",
       " '天然',\n",
       " '具有',\n",
       " '垄断',\n",
       " '属性',\n",
       " '产业',\n",
       " '我们',\n",
       " '假想',\n",
       " '一个',\n",
       " '市场',\n",
       " '两家',\n",
       " '完全',\n",
       " '一样',\n",
       " '芯片',\n",
       " '厂商',\n",
       " 'Intel',\n",
       " 'AMD',\n",
       " '均分',\n",
       " '这个',\n",
       " '市场',\n",
       " '因为',\n",
       " '规模',\n",
       " '效应',\n",
       " '相同',\n",
       " '所以',\n",
       " '假设',\n",
       " '没有',\n",
       " '研发',\n",
       " '它们',\n",
       " '成本',\n",
       " '定价',\n",
       " '功能',\n",
       " '完全',\n",
       " '一样',\n",
       " '突然',\n",
       " '一天',\n",
       " '一个',\n",
       " '顾客',\n",
       " '脑子',\n",
       " '一热',\n",
       " 'AMD',\n",
       " '换成',\n",
       " 'Intel',\n",
       " '芯片',\n",
       " '那么',\n",
       " 'Intel',\n",
       " '可以',\n",
       " '生产',\n",
       " '一片',\n",
       " 'AMD',\n",
       " '就要',\n",
       " '生产',\n",
       " '一片',\n",
       " '意味着',\n",
       " 'Intel',\n",
       " '平均',\n",
       " '成本',\n",
       " '就此',\n",
       " '低于',\n",
       " 'AMD',\n",
       " '平均',\n",
       " '成本',\n",
       " '那么',\n",
       " '因为',\n",
       " '平均',\n",
       " '成本低',\n",
       " 'Intel',\n",
       " '可以',\n",
       " '稍微',\n",
       " '一点',\n",
       " '价格',\n",
       " '吸引',\n",
       " '顾客',\n",
       " '从而',\n",
       " '市场份额',\n",
       " '更加',\n",
       " '扩大',\n",
       " '从而',\n",
       " '继续',\n",
       " '降低',\n",
       " '价格',\n",
       " '从而',\n",
       " '最终',\n",
       " 'AMD',\n",
       " '完全',\n",
       " '排挤',\n",
       " '市场',\n",
       " '因为',\n",
       " '一个',\n",
       " '顾客',\n",
       " '头脑',\n",
       " '一热',\n",
       " '造成',\n",
       " '市场份额',\n",
       " '偶然',\n",
       " '扰动',\n",
       " '直接',\n",
       " '启动',\n",
       " '一个',\n",
       " '公司',\n",
       " '正向',\n",
       " '循环',\n",
       " '从而',\n",
       " '成为',\n",
       " '垄断者',\n",
       " '但是',\n",
       " '其实',\n",
       " '意味着',\n",
       " 'AMD',\n",
       " '产品',\n",
       " 'Intel',\n",
       " '根据',\n",
       " '我们',\n",
       " '假设',\n",
       " '两者',\n",
       " '完全相同',\n",
       " '只是',\n",
       " '这种',\n",
       " '爆发',\n",
       " '行业',\n",
       " '特点',\n",
       " '决定',\n",
       " '这样',\n",
       " '行业',\n",
       " '只能',\n",
       " '极其',\n",
       " '少数',\n",
       " '赢家',\n",
       " 'class',\n",
       " 'ztext',\n",
       " 'empty',\n",
       " 'paragraph',\n",
       " 'br',\n",
       " '现实',\n",
       " '虽然',\n",
       " '我们',\n",
       " '上面',\n",
       " '模型',\n",
       " '复杂',\n",
       " '但是',\n",
       " '其实',\n",
       " '我们',\n",
       " '还是',\n",
       " '可以',\n",
       " '看到',\n",
       " '芯片',\n",
       " '行业',\n",
       " '集中',\n",
       " '趋势',\n",
       " '非常明显',\n",
       " 'Intel',\n",
       " '高通',\n",
       " 'TSMC',\n",
       " '过去',\n",
       " '十几年',\n",
       " '不断',\n",
       " '消灭',\n",
       " '对手',\n",
       " '成长',\n",
       " '自己',\n",
       " '所在',\n",
       " '产业',\n",
       " '巨无霸',\n",
       " '但是',\n",
       " '其实',\n",
       " '意味着',\n",
       " '离开',\n",
       " '这些',\n",
       " '公司',\n",
       " '世界',\n",
       " '真的',\n",
       " '一片',\n",
       " '黑暗',\n",
       " '因为',\n",
       " '很多',\n",
       " '潜在',\n",
       " '市场',\n",
       " '进入',\n",
       " '这些',\n",
       " '行业',\n",
       " '巨无霸',\n",
       " '强大',\n",
       " '规模',\n",
       " '效应',\n",
       " '几乎',\n",
       " '没有',\n",
       " '可能',\n",
       " '正面',\n",
       " '他们',\n",
       " '竞争',\n",
       " '所以',\n",
       " '没有',\n",
       " '市场份额',\n",
       " '大众',\n",
       " '所知',\n",
       " '但是',\n",
       " '一旦',\n",
       " '禁运',\n",
       " '长期化',\n",
       " '这些',\n",
       " '平时',\n",
       " '隐藏',\n",
       " '角落里',\n",
       " '企业',\n",
       " '纷纷',\n",
       " '走上',\n",
       " '台前',\n",
       " '桌面',\n",
       " 'CPU',\n",
       " '中国',\n",
       " '本土',\n",
       " '其实',\n",
       " 'X86',\n",
       " '授权',\n",
       " '是从',\n",
       " '台湾',\n",
       " '威盛',\n",
       " '继承',\n",
       " '完整',\n",
       " 'X86',\n",
       " '授权',\n",
       " '并且',\n",
       " '现在',\n",
       " '可以',\n",
       " '量产',\n",
       " 'X86',\n",
       " '处理器',\n",
       " '大约',\n",
       " 'Intel',\n",
       " '第六代',\n",
       " '中低端',\n",
       " '处理器',\n",
       " 'i3',\n",
       " '系列',\n",
       " '差不多',\n",
       " 'figure',\n",
       " 'data',\n",
       " 'size',\n",
       " 'normal',\n",
       " 'img',\n",
       " 'src',\n",
       " 'https',\n",
       " 'pic4',\n",
       " 'zhimg',\n",
       " 'com',\n",
       " '50',\n",
       " 'v2',\n",
       " '995a83ce87791f90f72bdb35db57bbd5',\n",
       " 'hd',\n",
       " 'jpg',\n",
       " 'data',\n",
       " 'caption',\n",
       " ...]"
      ]
     },
     "execution_count": 15,
     "metadata": {},
     "output_type": "execute_result"
    }
   ],
   "source": [
    "segment1"
   ]
  },
  {
   "cell_type": "code",
   "execution_count": 16,
   "metadata": {},
   "outputs": [],
   "source": [
    "# 转换成dataframe\n",
    "words_df1 = pd.DataFrame({'segment1': segment1})\n",
    "words_df2 = pd.DataFrame({'segment2': segment2})"
   ]
  },
  {
   "cell_type": "code",
   "execution_count": 21,
   "metadata": {},
   "outputs": [],
   "source": [
    "freq1=words_df1['segment1'].value_counts()\n",
    "freq2=words_df2['segment2'].value_counts()"
   ]
  },
  {
   "cell_type": "code",
   "execution_count": 32,
   "metadata": {},
   "outputs": [
    {
     "data": {
      "text/plain": [
       "美国      258\n",
       "中国      205\n",
       "华为      130\n",
       "市场      110\n",
       "技术      100\n",
       "我们       91\n",
       "一个       91\n",
       "产业       83\n",
       "没有       76\n",
       "企业       68\n",
       "自己       60\n",
       "发展       59\n",
       "就是       56\n",
       "可能       55\n",
       "因为       53\n",
       "国家       53\n",
       "这个       53\n",
       "还是       51\n",
       "国内       48\n",
       "不是       48\n",
       "现在       47\n",
       "其实       46\n",
       "影响       45\n",
       "经济       45\n",
       "问题       45\n",
       "需要       43\n",
       "公司       40\n",
       "芯片       39\n",
       "1.0      39\n",
       "com      38\n",
       "       ... \n",
       "全烧        1\n",
       "工作效率      1\n",
       "恶心        1\n",
       "普遍意义      1\n",
       "活追        1\n",
       "没赚        1\n",
       "保守政府      1\n",
       "缓冲地带      1\n",
       "天津        1\n",
       "井冈山       1\n",
       "疯人        1\n",
       "新米国       1\n",
       "某厂        1\n",
       "石头砸       1\n",
       "丫头        1\n",
       "我国        1\n",
       "淘汰        1\n",
       "无能为力      1\n",
       "综合国力      1\n",
       "二十几个      1\n",
       "推出        1\n",
       "开工        1\n",
       "小玩意       1\n",
       "过关        1\n",
       "现货        1\n",
       "非农        1\n",
       "女权        1\n",
       "系统性       1\n",
       "怎么回事      1\n",
       "背后        1\n",
       "Name: segment1, Length: 3693, dtype: int64"
      ]
     },
     "execution_count": 32,
     "metadata": {},
     "output_type": "execute_result"
    }
   ],
   "source": [
    "freq1"
   ]
  },
  {
   "cell_type": "code",
   "execution_count": 25,
   "metadata": {},
   "outputs": [],
   "source": [
    "#DataFrame.drop(labels=None,axis=0, index=None, columns=None, inplace=False)\n",
    "freq1.drop(axis=0,index='br',inplace=True)\n",
    "freq1.drop(axis=0,index='但是',inplace=True)\n",
    "freq1.drop(axis=0,index='如果',inplace=True)\n",
    "freq1.drop(axis=0,index='可以',inplace=True)\n",
    "freq1.drop(axis=0,index='empty',inplace=True)\n",
    "freq1.drop(axis=0,index='ztext',inplace=True)\n",
    "freq1.drop(axis=0,index='paragraph',inplace=True)\n",
    "freq1.drop(axis=0,index='所以',inplace=True)\n",
    "freq1.drop(axis=0,index='data',inplace=True)\n",
    "freq1.drop(axis=0,index='class',inplace=True)\n",
    "freq1.drop(axis=0,index='\\r\\n',inplace=True)\n",
    "freq1.drop(axis=0,index='jpg',inplace=True)\n",
    "freq1.drop(axis=0,index='com',inplace=True)"
   ]
  },
  {
   "cell_type": "code",
   "execution_count": 36,
   "metadata": {},
   "outputs": [
    {
     "data": {
      "text/plain": [
       "华为                                  8833\n",
       "美国                                  3715\n",
       "中国                                  3591\n",
       "谷歌                                  3417\n",
       "我们                                  2583\n",
       "手机                                  2570\n",
       "一个                                  2266\n",
       "1.0                                 2107\n",
       "系统                                  1993\n",
       "自己                                  1924\n",
       "国内                                  1878\n",
       "市场                                  1836\n",
       "normal                              1765\n",
       "没有                                  1750\n",
       "影响                                  1749\n",
       "50                                  1729\n",
       "国家                                  1509\n",
       "现在                                  1489\n",
       "就是                                  1462\n",
       "服务                                  1433\n",
       "Google                              1431\n",
       "这个                                  1421\n",
       "不是                                  1410\n",
       "用户                                  1296\n",
       "公司                                  1278\n",
       "可能                                  1274\n",
       "企业                                  1269\n",
       "海外                                  1213\n",
       "安卓                                  1086\n",
       "什么                                  1064\n",
       "                                    ... \n",
       "中华人民                                   1\n",
       "路由                                     1\n",
       "1478                                   1\n",
       "可道                                     1\n",
       "乏力                                     1\n",
       "静听                                     1\n",
       "秀儿                                     1\n",
       "偶然                                     1\n",
       "2147                                   1\n",
       "随波逐浪                                   1\n",
       "法语                                     1\n",
       "DOOL                                   1\n",
       "下边                                     1\n",
       "2445                                   1\n",
       "砍过来                                    1\n",
       "云一                                     1\n",
       "一员                                     1\n",
       "心悸                                     1\n",
       "布欧                                     1\n",
       "行尸走肉                                   1\n",
       "muzhi666558                            1\n",
       "1283                                   1\n",
       "没装                                     1\n",
       "real                                   1\n",
       "之林                                     1\n",
       "比不大                                    1\n",
       "乘胜追击                                   1\n",
       "3815a3d5e07b224f24a86dfaa8436cae       1\n",
       "利剑                                     1\n",
       "NEXTTECH                               1\n",
       "Name: segment2, Length: 38634, dtype: int64"
      ]
     },
     "execution_count": 36,
     "metadata": {},
     "output_type": "execute_result"
    }
   ],
   "source": [
    "freq2"
   ]
  },
  {
   "cell_type": "code",
   "execution_count": 35,
   "metadata": {},
   "outputs": [],
   "source": [
    "freq2.drop(axis=0,index='br',inplace=True)\n",
    "freq2.drop(axis=0,index='但是',inplace=True)\n",
    "freq2.drop(axis=0,index='如果',inplace=True)\n",
    "freq2.drop(axis=0,index='可以',inplace=True)\n",
    "freq2.drop(axis=0,index='empty',inplace=True)\n",
    "freq2.drop(axis=0,index='ztext',inplace=True)\n",
    "freq2.drop(axis=0,index='paragraph',inplace=True)\n",
    "freq2.drop(axis=0,index='所以',inplace=True)\n",
    "freq2.drop(axis=0,index='data',inplace=True)\n",
    "freq2.drop(axis=0,index='class',inplace=True)\n",
    "freq2.drop(axis=0,index='\\r\\n',inplace=True)\n",
    "freq2.drop(axis=0,index='jpg',inplace=True)\n",
    "freq2.drop(axis=0,index='com',inplace=True)\n",
    "freq2.drop(axis=0,index='https',inplace=True)\n",
    "freq2.drop(axis=0,index='v2',inplace=True)\n",
    "freq2.drop(axis=0,index='zhimg',inplace=True)\n",
    "freq2.drop(axis=0,index='figure',inplace=True)\n",
    "freq2.drop(axis=0,index='size',inplace=True)\n",
    "freq2.drop(axis=0,index='src',inplace=True)\n",
    "freq2.drop(axis=0,index='hd',inplace=True)"
   ]
  },
  {
   "cell_type": "code",
   "execution_count": 37,
   "metadata": {},
   "outputs": [],
   "source": [
    "from wordcloud import WordCloud,ImageColorGenerator\n",
    "from matplotlib import pyplot as plt\n",
    "from PIL import Image"
   ]
  },
  {
   "cell_type": "code",
   "execution_count": 47,
   "metadata": {},
   "outputs": [],
   "source": [
    "wc = WordCloud(font_path=\"msyh.ttc\",background_color=\"black\",max_words=100000,max_font_size=300,\n",
    "              width=2500,height=2500).generate(content2)"
   ]
  },
  {
   "cell_type": "code",
   "execution_count": 39,
   "metadata": {},
   "outputs": [
    {
     "data": {
      "text/plain": [
       "<wordcloud.wordcloud.WordCloud at 0x2be084674e0>"
      ]
     },
     "execution_count": 39,
     "metadata": {},
     "output_type": "execute_result"
    }
   ],
   "source": [
    "wc"
   ]
  },
  {
   "cell_type": "code",
   "execution_count": 48,
   "metadata": {},
   "outputs": [
    {
     "data": {
      "text/plain": [
       "<matplotlib.image.AxesImage at 0x2be0a92be48>"
      ]
     },
     "execution_count": 48,
     "metadata": {},
     "output_type": "execute_result"
    },
    {
     "data": {
      "image/png": "[encoded data removed]",
      "text/plain": [
       "<Figure size 432x288 with 1 Axes>"
      ]
     },
     "metadata": {
      "needs_background": "light"
     },
     "output_type": "display_data"
    }
   ],
   "source": [
    "plt.imshow(wc)"
   ]
  },
  {
   "cell_type": "code",
   "execution_count": 43,
   "metadata": {},
   "outputs": [
    {
     "data": {
      "text/plain": [
       "str"
      ]
     },
     "execution_count": 43,
     "metadata": {},
     "output_type": "execute_result"
    }
   ],
   "source": [
    "type(content1)"
   ]
  },
  {
   "cell_type": "code",
   "execution_count": null,
   "metadata": {},
   "outputs": [],
   "source": []
  }
 ],
 "metadata": {
  "kernelspec": {
   "display_name": "Python 3",
   "language": "python",
   "name": "python3"
  },
  "language_info": {
   "codemirror_mode": {
    "name": "ipython",
    "version": 3
   },
   "file_extension": ".py",
   "mimetype": "text/x-python",
   "name": "python",
   "nbconvert_exporter": "python",
   "pygments_lexer": "ipython3",
   "version": "3.7.1"
  }
 },
 "nbformat": 4,
 "nbformat_minor": 2
}
