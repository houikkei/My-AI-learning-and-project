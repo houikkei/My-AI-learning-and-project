{
 "cells": [
  {
   "cell_type": "code",
   "execution_count": 1,
   "metadata": {},
   "outputs": [],
   "source": [
    "import wordcloud\n",
    "import jieba\n",
    "import imageio\n",
    "import matplotlib.pyplot as plt # plt 用于显示图片\n",
    "import matplotlib.image as mpimg # mpimg 用于读取图片\n",
    "import numpy as np\n",
    "import pandas as pd\n",
    "import re"
   ]
  },
  {
   "cell_type": "code",
   "execution_count": 2,
   "metadata": {},
   "outputs": [
    {
     "data": {
      "text/plain": [
       "'\\nfilename = r\"inf.csv\"\\ninf = pd.read_csv(filename) \\ninf_need=inf[\\'content\\']\\ninf_need=inf_need.values\\ninf_txt=\\'\\'\\nfor i in range(0,2680):\\n    inf_txt=inf_txt+str(inf_need[i])\\n\\ninf_txt_CN = re.findall(r\\'[一-龥]\\',inf_txt)\\nstring=\\'\\'\\nfor i in range(0,559263):\\n    string=string+inf_txt_CN[i]\\n    \\nwith open(r\"D:\\\\大学\\\\大二下\\\\数据挖掘\\\\小组作业\\res.txt\", \"w\", encoding=\\'utf-8\\') as f:\\n    f.write(string)\\n    f.close()\\n'"
      ]
     },
     "execution_count": 2,
     "metadata": {},
     "output_type": "execute_result"
    }
   ],
   "source": [
    "'''\n",
    "读取csv文件，获取内容保存在txt中\n",
    "\n",
    "filename = r\"inf.csv\"\n",
    "inf = pd.read_csv(filename) \n",
    "inf_need=inf['content']\n",
    "inf_need=inf_need.values\n",
    "inf_txt=''\n",
    "for i in range(0,2680):\n",
    "    inf_txt=inf_txt+str(inf_need[i])\n",
    "\n",
    "inf_txt_CN = re.findall(r'[\\u4e00-\\u9fa5]',inf_txt)\n",
    "string=''\n",
    "for i in range(0,559263):\n",
    "    string=string+inf_txt_CN[i]\n",
    "    \n",
    "with open(r\"D:\\大学\\大二下\\数据挖掘\\小组作业\\res.txt\", \"w\", encoding='utf-8') as f:\n",
    "    f.write(string)\n",
    "    f.close()\n",
    "'''"
   ]
  },
  {
   "cell_type": "code",
   "execution_count": 3,
   "metadata": {},
   "outputs": [],
   "source": [
    "## 设置禁用词\n",
    "stopwords=set()\n",
    "stopwords.add('我们')\n",
    "stopwords.add('已经')\n",
    "stopwords.add('还是')\n",
    "stopwords.add('但是')\n",
    "stopwords.add('应该')\n",
    "stopwords.add('真的')\n",
    "stopwords.add('什么')\n",
    "stopwords.add('那么')\n",
    "stopwords.add('其实')\n",
    "stopwords.add('就是')\n",
    "stopwords.add('没有')\n",
    "stopwords.add('自己')\n",
    "stopwords.add('一个')\n",
    "stopwords.add('这些')\n",
    "stopwords.add('因为')\n",
    "stopwords.add('只是')\n",
    "stopwords.add('这种')\n",
    "stopwords.add('如果')\n",
    "stopwords.add('不是')\n",
    "stopwords.add('他们')\n",
    "stopwords.add('这个')\n",
    "stopwords.add('这么')\n",
    "stopwords.add('怎么')\n",
    "stopwords.add('比如')\n",
    "stopwords.add('当然')\n",
    "stopwords.add('怎么')\n",
    "stopwords.add('而是')\n",
    "stopwords.add('或者')\n",
    "stopwords.add('比如')\n",
    "stopwords.add('你们')\n",
    "stopwords.add('一下')\n",
    "stopwords.add('是不是')\n",
    "stopwords.add('等等')\n",
    "stopwords.add('多少')\n",
    "stopwords.add('如何')\n",
    "stopwords.add('一天')\n",
    "stopwords.add('一点')\n",
    "stopwords.add('的话')\n",
    "stopwords.add('也许')"
   ]
  },
  {
   "cell_type": "code",
   "execution_count": null,
   "metadata": {},
   "outputs": [],
   "source": [
    "mk = imageio.imread('rabbit.jpg')\n",
    "w = wordcloud.WordCloud(width=1000,  ## scale 调整清晰度\n",
    "                        height=700,\n",
    "                        background_color='white',\n",
    "                        mask=mk,\n",
    "                        stopwords=stopwords,\n",
    "                        font_path='msyh.ttc',\n",
    "                       scale=10)"
   ]
  },
  {
   "cell_type": "code",
   "execution_count": null,
   "metadata": {},
   "outputs": [],
   "source": [
    "f = open('res.txt',encoding='utf-8')\n",
    "txt = f.read()\n",
    "article_contents = \"\"\n",
    "    #使用jieba进行分词\n",
    "words = jieba.cut(txt,cut_all=False)\n",
    "for word in words:\n",
    "        #使用空格来分割词\n",
    "        article_contents += word+\" \"\n",
    "\n",
    "string=\"\"\n",
    "string = \"\".join(article_contents)\n",
    "w.generate(string)\n",
    "w.to_file('res.png')\n",
    "f.close()"
   ]
  }
 ],
 "metadata": {
  "kernelspec": {
   "display_name": "Python 3",
   "language": "python",
   "name": "python3"
  },
  "language_info": {
   "codemirror_mode": {
    "name": "ipython",
    "version": 3
   },
   "file_extension": ".py",
   "mimetype": "text/x-python",
   "name": "python",
   "nbconvert_exporter": "python",
   "pygments_lexer": "ipython3",
   "version": "3.7.1"
  }
 },
 "nbformat": 4,
 "nbformat_minor": 2
}
